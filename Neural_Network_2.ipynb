{
  "cells": [
    {
      "cell_type": "code",
      "execution_count": null,
      "metadata": {
        "id": "bgDiza9jj5wH"
      },
      "outputs": [],
      "source": [
        "import numpy as np\n",
        "import pandas as pd\n",
        "import seaborn as sns\n",
        "import matplotlib.pyplot as plt\n",
        "\n",
        "from collections import Counter\n",
        "from sklearn.preprocessing import LabelEncoder\n",
        "from sklearn.feature_selection import SelectKBest\n",
        "from sklearn.metrics import confusion_matrix as cm\n",
        "from sklearn.model_selection import train_test_split\n",
        "from sklearn.metrics import roc_curve, roc_auc_score\n",
        "from sklearn.model_selection import GridSearchCV, KFold\n",
        "\n",
        "from tensorflow import keras\n",
        "from keras.layers import Dense\n",
        "from keras.layers import Dropout\n",
        "from keras.optimizers import Adam\n",
        "from tensorflow.keras import layers\n",
        "from keras.models import Sequential\n",
        "from keras_tuner.tuners import RandomSearch\n",
        "from keras.wrappers.scikit_learn import KerasClassifier, KerasRegressor\n",
        "\n",
        "import warnings\n",
        "warnings.filterwarnings('ignore')"
      ]
    },
    {
      "cell_type": "code",
      "execution_count": null,
      "metadata": {
        "colab": {
          "base_uri": "https://localhost:8080/"
        },
        "id": "gNVjq8kuj_eX",
        "outputId": "bb5fc246-7614-40c4-f856-c16f6bcdd149"
      },
      "outputs": [
        {
          "name": "stdout",
          "output_type": "stream",
          "text": [
            "Mounted at /content/drive\n"
          ]
        }
      ],
      "source": [
        "from google.colab import drive\n",
        "drive.mount('/content/drive')"
      ]
    },
    {
      "cell_type": "code",
      "execution_count": null,
      "metadata": {
        "colab": {
          "base_uri": "https://localhost:8080/"
        },
        "id": "Tv7Rto2EkD2l",
        "outputId": "1a91306d-2912-4433-cdef-a9226bd2f9e0"
      },
      "outputs": [
        {
          "name": "stdout",
          "output_type": "stream",
          "text": [
            "/content/drive/MyDrive/data\n"
          ]
        }
      ],
      "source": [
        "cd drive/MyDrive/data"
      ]
    },
    {
      "cell_type": "code",
      "execution_count": null,
      "metadata": {
        "colab": {
          "base_uri": "https://localhost:8080/"
        },
        "id": "C64morAtkK68",
        "outputId": "5af4dee9-1434-4213-a40e-fb9bce8a761e"
      },
      "outputs": [
        {
          "name": "stdout",
          "output_type": "stream",
          "text": [
            " BEML.csv\n",
            " book.csv\n",
            " Cars.csv\n",
            "'claimants (1).csv'\n",
            "'Class practice linear regression 7-9-[updated].ipynb'\n",
            " Company_Data.csv\n",
            " forestfires.csv\n",
            " Fraud_check.csv\n",
            " gas_turbines.csv\n",
            " GLAXO.csv\n",
            "'iris.python(exclr).csv'\n",
            " my_movies.csv\n",
            " plot.png\n",
            " \u001b[0m\u001b[01;34mproject\u001b[0m/\n",
            " SalaryData_Test.csv\n",
            " SalaryData_Train.csv\n",
            " tips.csv\n",
            " wc-at.csv\n"
          ]
        }
      ],
      "source": [
        "ls"
      ]
    },
    {
      "cell_type": "code",
      "execution_count": null,
      "metadata": {
        "colab": {
          "base_uri": "https://localhost:8080/",
          "height": 423
        },
        "id": "QP-AjKnRkM0Q",
        "outputId": "f80bc256-d9ed-474c-ed67-1faf8a552e77"
      },
      "outputs": [
        {
          "data": {
            "text/html": [
              "\n",
              "\n",
              "  <div id=\"df-af69447d-eb3a-4d7f-b567-2d90ae02635b\">\n",
              "    <div class=\"colab-df-container\">\n",
              "      <div>\n",
              "<style scoped>\n",
              "    .dataframe tbody tr th:only-of-type {\n",
              "        vertical-align: middle;\n",
              "    }\n",
              "\n",
              "    .dataframe tbody tr th {\n",
              "        vertical-align: top;\n",
              "    }\n",
              "\n",
              "    .dataframe thead th {\n",
              "        text-align: right;\n",
              "    }\n",
              "</style>\n",
              "<table border=\"1\" class=\"dataframe\">\n",
              "  <thead>\n",
              "    <tr style=\"text-align: right;\">\n",
              "      <th></th>\n",
              "      <th>AT</th>\n",
              "      <th>AP</th>\n",
              "      <th>AH</th>\n",
              "      <th>AFDP</th>\n",
              "      <th>GTEP</th>\n",
              "      <th>TIT</th>\n",
              "      <th>TAT</th>\n",
              "      <th>TEY</th>\n",
              "      <th>CDP</th>\n",
              "      <th>CO</th>\n",
              "      <th>NOX</th>\n",
              "    </tr>\n",
              "  </thead>\n",
              "  <tbody>\n",
              "    <tr>\n",
              "      <th>0</th>\n",
              "      <td>6.8594</td>\n",
              "      <td>1007.9</td>\n",
              "      <td>96.799</td>\n",
              "      <td>3.5000</td>\n",
              "      <td>19.663</td>\n",
              "      <td>1059.2</td>\n",
              "      <td>550.00</td>\n",
              "      <td>114.70</td>\n",
              "      <td>10.605</td>\n",
              "      <td>3.1547</td>\n",
              "      <td>82.722</td>\n",
              "    </tr>\n",
              "    <tr>\n",
              "      <th>1</th>\n",
              "      <td>6.7850</td>\n",
              "      <td>1008.4</td>\n",
              "      <td>97.118</td>\n",
              "      <td>3.4998</td>\n",
              "      <td>19.728</td>\n",
              "      <td>1059.3</td>\n",
              "      <td>550.00</td>\n",
              "      <td>114.72</td>\n",
              "      <td>10.598</td>\n",
              "      <td>3.2363</td>\n",
              "      <td>82.776</td>\n",
              "    </tr>\n",
              "    <tr>\n",
              "      <th>2</th>\n",
              "      <td>6.8977</td>\n",
              "      <td>1008.8</td>\n",
              "      <td>95.939</td>\n",
              "      <td>3.4824</td>\n",
              "      <td>19.779</td>\n",
              "      <td>1059.4</td>\n",
              "      <td>549.87</td>\n",
              "      <td>114.71</td>\n",
              "      <td>10.601</td>\n",
              "      <td>3.2012</td>\n",
              "      <td>82.468</td>\n",
              "    </tr>\n",
              "    <tr>\n",
              "      <th>3</th>\n",
              "      <td>7.0569</td>\n",
              "      <td>1009.2</td>\n",
              "      <td>95.249</td>\n",
              "      <td>3.4805</td>\n",
              "      <td>19.792</td>\n",
              "      <td>1059.6</td>\n",
              "      <td>549.99</td>\n",
              "      <td>114.72</td>\n",
              "      <td>10.606</td>\n",
              "      <td>3.1923</td>\n",
              "      <td>82.670</td>\n",
              "    </tr>\n",
              "    <tr>\n",
              "      <th>4</th>\n",
              "      <td>7.3978</td>\n",
              "      <td>1009.7</td>\n",
              "      <td>95.150</td>\n",
              "      <td>3.4976</td>\n",
              "      <td>19.765</td>\n",
              "      <td>1059.7</td>\n",
              "      <td>549.98</td>\n",
              "      <td>114.72</td>\n",
              "      <td>10.612</td>\n",
              "      <td>3.2484</td>\n",
              "      <td>82.311</td>\n",
              "    </tr>\n",
              "    <tr>\n",
              "      <th>...</th>\n",
              "      <td>...</td>\n",
              "      <td>...</td>\n",
              "      <td>...</td>\n",
              "      <td>...</td>\n",
              "      <td>...</td>\n",
              "      <td>...</td>\n",
              "      <td>...</td>\n",
              "      <td>...</td>\n",
              "      <td>...</td>\n",
              "      <td>...</td>\n",
              "      <td>...</td>\n",
              "    </tr>\n",
              "    <tr>\n",
              "      <th>15034</th>\n",
              "      <td>9.0301</td>\n",
              "      <td>1005.6</td>\n",
              "      <td>98.460</td>\n",
              "      <td>3.5421</td>\n",
              "      <td>19.164</td>\n",
              "      <td>1049.7</td>\n",
              "      <td>546.21</td>\n",
              "      <td>111.61</td>\n",
              "      <td>10.400</td>\n",
              "      <td>4.5186</td>\n",
              "      <td>79.559</td>\n",
              "    </tr>\n",
              "    <tr>\n",
              "      <th>15035</th>\n",
              "      <td>7.8879</td>\n",
              "      <td>1005.9</td>\n",
              "      <td>99.093</td>\n",
              "      <td>3.5059</td>\n",
              "      <td>19.414</td>\n",
              "      <td>1046.3</td>\n",
              "      <td>543.22</td>\n",
              "      <td>111.78</td>\n",
              "      <td>10.433</td>\n",
              "      <td>4.8470</td>\n",
              "      <td>79.917</td>\n",
              "    </tr>\n",
              "    <tr>\n",
              "      <th>15036</th>\n",
              "      <td>7.2647</td>\n",
              "      <td>1006.3</td>\n",
              "      <td>99.496</td>\n",
              "      <td>3.4770</td>\n",
              "      <td>19.530</td>\n",
              "      <td>1037.7</td>\n",
              "      <td>537.32</td>\n",
              "      <td>110.19</td>\n",
              "      <td>10.483</td>\n",
              "      <td>7.9632</td>\n",
              "      <td>90.912</td>\n",
              "    </tr>\n",
              "    <tr>\n",
              "      <th>15037</th>\n",
              "      <td>7.0060</td>\n",
              "      <td>1006.8</td>\n",
              "      <td>99.008</td>\n",
              "      <td>3.4486</td>\n",
              "      <td>19.377</td>\n",
              "      <td>1043.2</td>\n",
              "      <td>541.24</td>\n",
              "      <td>110.74</td>\n",
              "      <td>10.533</td>\n",
              "      <td>6.2494</td>\n",
              "      <td>93.227</td>\n",
              "    </tr>\n",
              "    <tr>\n",
              "      <th>15038</th>\n",
              "      <td>6.9279</td>\n",
              "      <td>1007.2</td>\n",
              "      <td>97.533</td>\n",
              "      <td>3.4275</td>\n",
              "      <td>19.306</td>\n",
              "      <td>1049.9</td>\n",
              "      <td>545.85</td>\n",
              "      <td>111.58</td>\n",
              "      <td>10.583</td>\n",
              "      <td>4.9816</td>\n",
              "      <td>92.498</td>\n",
              "    </tr>\n",
              "  </tbody>\n",
              "</table>\n",
              "<p>15039 rows × 11 columns</p>\n",
              "</div>\n",
              "      <button class=\"colab-df-convert\" onclick=\"convertToInteractive('df-af69447d-eb3a-4d7f-b567-2d90ae02635b')\"\n",
              "              title=\"Convert this dataframe to an interactive table.\"\n",
              "              style=\"display:none;\">\n",
              "\n",
              "  <svg xmlns=\"http://www.w3.org/2000/svg\" height=\"24px\"viewBox=\"0 0 24 24\"\n",
              "       width=\"24px\">\n",
              "    <path d=\"M0 0h24v24H0V0z\" fill=\"none\"/>\n",
              "    <path d=\"M18.56 5.44l.94 2.06.94-2.06 2.06-.94-2.06-.94-.94-2.06-.94 2.06-2.06.94zm-11 1L8.5 8.5l.94-2.06 2.06-.94-2.06-.94L8.5 2.5l-.94 2.06-2.06.94zm10 10l.94 2.06.94-2.06 2.06-.94-2.06-.94-.94-2.06-.94 2.06-2.06.94z\"/><path d=\"M17.41 7.96l-1.37-1.37c-.4-.4-.92-.59-1.43-.59-.52 0-1.04.2-1.43.59L10.3 9.45l-7.72 7.72c-.78.78-.78 2.05 0 2.83L4 21.41c.39.39.9.59 1.41.59.51 0 1.02-.2 1.41-.59l7.78-7.78 2.81-2.81c.8-.78.8-2.07 0-2.86zM5.41 20L4 18.59l7.72-7.72 1.47 1.35L5.41 20z\"/>\n",
              "  </svg>\n",
              "      </button>\n",
              "\n",
              "\n",
              "\n",
              "    <div id=\"df-76c9c837-0015-4df3-b582-cd82189abdaa\">\n",
              "      <button class=\"colab-df-quickchart\" onclick=\"quickchart('df-76c9c837-0015-4df3-b582-cd82189abdaa')\"\n",
              "              title=\"Suggest charts.\"\n",
              "              style=\"display:none;\">\n",
              "\n",
              "<svg xmlns=\"http://www.w3.org/2000/svg\" height=\"24px\"viewBox=\"0 0 24 24\"\n",
              "     width=\"24px\">\n",
              "    <g>\n",
              "        <path d=\"M19 3H5c-1.1 0-2 .9-2 2v14c0 1.1.9 2 2 2h14c1.1 0 2-.9 2-2V5c0-1.1-.9-2-2-2zM9 17H7v-7h2v7zm4 0h-2V7h2v10zm4 0h-2v-4h2v4z\"/>\n",
              "    </g>\n",
              "</svg>\n",
              "      </button>\n",
              "    </div>\n",
              "\n",
              "<style>\n",
              "  .colab-df-quickchart {\n",
              "    background-color: #E8F0FE;\n",
              "    border: none;\n",
              "    border-radius: 50%;\n",
              "    cursor: pointer;\n",
              "    display: none;\n",
              "    fill: #1967D2;\n",
              "    height: 32px;\n",
              "    padding: 0 0 0 0;\n",
              "    width: 32px;\n",
              "  }\n",
              "\n",
              "  .colab-df-quickchart:hover {\n",
              "    background-color: #E2EBFA;\n",
              "    box-shadow: 0px 1px 2px rgba(60, 64, 67, 0.3), 0px 1px 3px 1px rgba(60, 64, 67, 0.15);\n",
              "    fill: #174EA6;\n",
              "  }\n",
              "\n",
              "  [theme=dark] .colab-df-quickchart {\n",
              "    background-color: #3B4455;\n",
              "    fill: #D2E3FC;\n",
              "  }\n",
              "\n",
              "  [theme=dark] .colab-df-quickchart:hover {\n",
              "    background-color: #434B5C;\n",
              "    box-shadow: 0px 1px 3px 1px rgba(0, 0, 0, 0.15);\n",
              "    filter: drop-shadow(0px 1px 2px rgba(0, 0, 0, 0.3));\n",
              "    fill: #FFFFFF;\n",
              "  }\n",
              "</style>\n",
              "\n",
              "    <script>\n",
              "      async function quickchart(key) {\n",
              "        const containerElement = document.querySelector('#' + key);\n",
              "        const charts = await google.colab.kernel.invokeFunction(\n",
              "            'suggestCharts', [key], {});\n",
              "      }\n",
              "    </script>\n",
              "\n",
              "      <script>\n",
              "\n",
              "function displayQuickchartButton(domScope) {\n",
              "  let quickchartButtonEl =\n",
              "    domScope.querySelector('#df-76c9c837-0015-4df3-b582-cd82189abdaa button.colab-df-quickchart');\n",
              "  quickchartButtonEl.style.display =\n",
              "    google.colab.kernel.accessAllowed ? 'block' : 'none';\n",
              "}\n",
              "\n",
              "        displayQuickchartButton(document);\n",
              "      </script>\n",
              "      <style>\n",
              "    .colab-df-container {\n",
              "      display:flex;\n",
              "      flex-wrap:wrap;\n",
              "      gap: 12px;\n",
              "    }\n",
              "\n",
              "    .colab-df-convert {\n",
              "      background-color: #E8F0FE;\n",
              "      border: none;\n",
              "      border-radius: 50%;\n",
              "      cursor: pointer;\n",
              "      display: none;\n",
              "      fill: #1967D2;\n",
              "      height: 32px;\n",
              "      padding: 0 0 0 0;\n",
              "      width: 32px;\n",
              "    }\n",
              "\n",
              "    .colab-df-convert:hover {\n",
              "      background-color: #E2EBFA;\n",
              "      box-shadow: 0px 1px 2px rgba(60, 64, 67, 0.3), 0px 1px 3px 1px rgba(60, 64, 67, 0.15);\n",
              "      fill: #174EA6;\n",
              "    }\n",
              "\n",
              "    [theme=dark] .colab-df-convert {\n",
              "      background-color: #3B4455;\n",
              "      fill: #D2E3FC;\n",
              "    }\n",
              "\n",
              "    [theme=dark] .colab-df-convert:hover {\n",
              "      background-color: #434B5C;\n",
              "      box-shadow: 0px 1px 3px 1px rgba(0, 0, 0, 0.15);\n",
              "      filter: drop-shadow(0px 1px 2px rgba(0, 0, 0, 0.3));\n",
              "      fill: #FFFFFF;\n",
              "    }\n",
              "  </style>\n",
              "\n",
              "      <script>\n",
              "        const buttonEl =\n",
              "          document.querySelector('#df-af69447d-eb3a-4d7f-b567-2d90ae02635b button.colab-df-convert');\n",
              "        buttonEl.style.display =\n",
              "          google.colab.kernel.accessAllowed ? 'block' : 'none';\n",
              "\n",
              "        async function convertToInteractive(key) {\n",
              "          const element = document.querySelector('#df-af69447d-eb3a-4d7f-b567-2d90ae02635b');\n",
              "          const dataTable =\n",
              "            await google.colab.kernel.invokeFunction('convertToInteractive',\n",
              "                                                     [key], {});\n",
              "          if (!dataTable) return;\n",
              "\n",
              "          const docLinkHtml = 'Like what you see? Visit the ' +\n",
              "            '<a target=\"_blank\" href=https://colab.research.google.com/notebooks/data_table.ipynb>data table notebook</a>'\n",
              "            + ' to learn more about interactive tables.';\n",
              "          element.innerHTML = '';\n",
              "          dataTable['output_type'] = 'display_data';\n",
              "          await google.colab.output.renderOutput(dataTable, element);\n",
              "          const docLink = document.createElement('div');\n",
              "          docLink.innerHTML = docLinkHtml;\n",
              "          element.appendChild(docLink);\n",
              "        }\n",
              "      </script>\n",
              "    </div>\n",
              "  </div>\n"
            ],
            "text/plain": [
              "           AT      AP      AH    AFDP    GTEP     TIT     TAT     TEY     CDP  \\\n",
              "0      6.8594  1007.9  96.799  3.5000  19.663  1059.2  550.00  114.70  10.605   \n",
              "1      6.7850  1008.4  97.118  3.4998  19.728  1059.3  550.00  114.72  10.598   \n",
              "2      6.8977  1008.8  95.939  3.4824  19.779  1059.4  549.87  114.71  10.601   \n",
              "3      7.0569  1009.2  95.249  3.4805  19.792  1059.6  549.99  114.72  10.606   \n",
              "4      7.3978  1009.7  95.150  3.4976  19.765  1059.7  549.98  114.72  10.612   \n",
              "...       ...     ...     ...     ...     ...     ...     ...     ...     ...   \n",
              "15034  9.0301  1005.6  98.460  3.5421  19.164  1049.7  546.21  111.61  10.400   \n",
              "15035  7.8879  1005.9  99.093  3.5059  19.414  1046.3  543.22  111.78  10.433   \n",
              "15036  7.2647  1006.3  99.496  3.4770  19.530  1037.7  537.32  110.19  10.483   \n",
              "15037  7.0060  1006.8  99.008  3.4486  19.377  1043.2  541.24  110.74  10.533   \n",
              "15038  6.9279  1007.2  97.533  3.4275  19.306  1049.9  545.85  111.58  10.583   \n",
              "\n",
              "           CO     NOX  \n",
              "0      3.1547  82.722  \n",
              "1      3.2363  82.776  \n",
              "2      3.2012  82.468  \n",
              "3      3.1923  82.670  \n",
              "4      3.2484  82.311  \n",
              "...       ...     ...  \n",
              "15034  4.5186  79.559  \n",
              "15035  4.8470  79.917  \n",
              "15036  7.9632  90.912  \n",
              "15037  6.2494  93.227  \n",
              "15038  4.9816  92.498  \n",
              "\n",
              "[15039 rows x 11 columns]"
            ]
          },
          "execution_count": 8,
          "metadata": {},
          "output_type": "execute_result"
        }
      ],
      "source": [
        "df=pd.read_csv('gas_turbines.csv')\n",
        "df"
      ]
    },
    {
      "cell_type": "markdown",
      "metadata": {
        "id": "qAiUwzw7kUVT"
      },
      "source": [
        "About Dataset\n",
        "\n",
        "The dataset contains 36733 instances of 11 sensor measures aggregated over one hour (by means of average or sum) from a gas turbine.\n",
        "\n",
        "The Dataset includes gas turbine parameters (such as Turbine Inlet Temperature and Compressor Discharge pressure) in addition to the ambient variables."
      ]
    },
    {
      "cell_type": "markdown",
      "metadata": {
        "id": "ua_0-iMlkW56"
      },
      "source": [
        "Attribute Information:\n",
        "\n",
        "The explanations of sensor measurements and their brief statistics are given below.\n",
        "\n",
        "Variable (Abbr) Unit Min Max Mean\n",
        "\n",
        "Ambient temperature (AT) C â€“6.23 37.10 17.71\n",
        "\n",
        "Ambient pressure (AP) mbar 985.85 1036.56 1013.07\n",
        "\n",
        "Ambient humidity (AH) (%) 24.08 100.20 77.87\n",
        "\n",
        "Air filter difference pressure (AFDP) mbar 2.09 7.61 3.93\n",
        "\n",
        "Gas turbine exhaust pressure (GTEP) mbar 17.70 40.72 25.56\n",
        "\n",
        "Turbine inlet temperature (TIT) C 1000.85 1100.89 1081.43\n",
        "\n",
        "Turbine after temperature (TAT) C 511.04 550.61 546.16\n",
        "\n",
        "Compressor discharge pressure (CDP) mbar 9.85 15.16 12.06\n",
        "\n",
        "Turbine energy yield (TEY) MWH 100.02 179.50 133.51\n",
        "\n",
        "Carbon monoxide (CO) mg/m3 0.00 44.10 2.37\n",
        "\n",
        "Nitrogen oxides (NOx) mg/m3 25.90 119.91 65.29"
      ]
    },
    {
      "cell_type": "code",
      "execution_count": null,
      "metadata": {
        "colab": {
          "base_uri": "https://localhost:8080/"
        },
        "id": "vcDX1uoEkQLT",
        "outputId": "f00518b3-3de8-49a4-fe42-f2071a98b552"
      },
      "outputs": [
        {
          "data": {
            "text/plain": [
              "AT      False\n",
              "AP      False\n",
              "AH      False\n",
              "AFDP    False\n",
              "GTEP    False\n",
              "TIT     False\n",
              "TAT     False\n",
              "TEY     False\n",
              "CDP     False\n",
              "CO      False\n",
              "NOX     False\n",
              "dtype: bool"
            ]
          },
          "execution_count": 9,
          "metadata": {},
          "output_type": "execute_result"
        }
      ],
      "source": [
        "#Data exploration\n",
        "df.isnull().any()"
      ]
    },
    {
      "cell_type": "code",
      "execution_count": null,
      "metadata": {
        "colab": {
          "base_uri": "https://localhost:8080/"
        },
        "id": "yhGontugkazj",
        "outputId": "a0ca4a08-accb-4b39-ff7e-0b511bb5007c"
      },
      "outputs": [
        {
          "data": {
            "text/plain": [
              "AT      0\n",
              "AP      0\n",
              "AH      0\n",
              "AFDP    0\n",
              "GTEP    0\n",
              "TIT     0\n",
              "TAT     0\n",
              "TEY     0\n",
              "CDP     0\n",
              "CO      0\n",
              "NOX     0\n",
              "dtype: int64"
            ]
          },
          "execution_count": 10,
          "metadata": {},
          "output_type": "execute_result"
        }
      ],
      "source": [
        "df.isnull().sum()"
      ]
    },
    {
      "cell_type": "code",
      "execution_count": null,
      "metadata": {
        "colab": {
          "base_uri": "https://localhost:8080/"
        },
        "id": "Tq4BfMuCkcwo",
        "outputId": "1a250035-f294-497b-e2ba-65c8bcce2eac"
      },
      "outputs": [
        {
          "data": {
            "text/plain": [
              "(15039, 11)"
            ]
          },
          "execution_count": 11,
          "metadata": {},
          "output_type": "execute_result"
        }
      ],
      "source": [
        "#Descripitive analysis\n",
        "df.shape"
      ]
    },
    {
      "cell_type": "code",
      "execution_count": null,
      "metadata": {
        "colab": {
          "base_uri": "https://localhost:8080/"
        },
        "id": "bUFdhNxqkfFT",
        "outputId": "6fa1996a-5f1f-4794-e500-ddb2d1255acd"
      },
      "outputs": [
        {
          "data": {
            "text/plain": [
              "AT      float64\n",
              "AP      float64\n",
              "AH      float64\n",
              "AFDP    float64\n",
              "GTEP    float64\n",
              "TIT     float64\n",
              "TAT     float64\n",
              "TEY     float64\n",
              "CDP     float64\n",
              "CO      float64\n",
              "NOX     float64\n",
              "dtype: object"
            ]
          },
          "execution_count": 18,
          "metadata": {},
          "output_type": "execute_result"
        }
      ],
      "source": [
        "df.dtypes"
      ]
    },
    {
      "cell_type": "code",
      "execution_count": null,
      "metadata": {
        "colab": {
          "base_uri": "https://localhost:8080/"
        },
        "id": "LLS1HYJskhLa",
        "outputId": "ad89010f-7969-406c-c886-0ca97c23bcd8"
      },
      "outputs": [
        {
          "data": {
            "text/plain": [
              "AT      12086\n",
              "AP        540\n",
              "AH      12637\n",
              "AFDP    11314\n",
              "GTEP     8234\n",
              "TIT       706\n",
              "TAT      2340\n",
              "TEY      4207\n",
              "CDP      3611\n",
              "CO      13096\n",
              "NOX     11996\n",
              "dtype: int64"
            ]
          },
          "execution_count": 19,
          "metadata": {},
          "output_type": "execute_result"
        }
      ],
      "source": [
        "df.nunique()"
      ]
    },
    {
      "cell_type": "code",
      "execution_count": null,
      "metadata": {
        "colab": {
          "base_uri": "https://localhost:8080/"
        },
        "id": "Xx4whVO9kmKN",
        "outputId": "0b4cee19-07a1-48f0-8111-684344b91d52"
      },
      "outputs": [
        {
          "name": "stdout",
          "output_type": "stream",
          "text": [
            "<class 'pandas.core.frame.DataFrame'>\n",
            "RangeIndex: 15039 entries, 0 to 15038\n",
            "Data columns (total 11 columns):\n",
            " #   Column  Non-Null Count  Dtype  \n",
            "---  ------  --------------  -----  \n",
            " 0   AT      15039 non-null  float64\n",
            " 1   AP      15039 non-null  float64\n",
            " 2   AH      15039 non-null  float64\n",
            " 3   AFDP    15039 non-null  float64\n",
            " 4   GTEP    15039 non-null  float64\n",
            " 5   TIT     15039 non-null  float64\n",
            " 6   TAT     15039 non-null  float64\n",
            " 7   TEY     15039 non-null  float64\n",
            " 8   CDP     15039 non-null  float64\n",
            " 9   CO      15039 non-null  float64\n",
            " 10  NOX     15039 non-null  float64\n",
            "dtypes: float64(11)\n",
            "memory usage: 1.3 MB\n"
          ]
        }
      ],
      "source": [
        "df.info()"
      ]
    },
    {
      "cell_type": "code",
      "execution_count": null,
      "metadata": {
        "colab": {
          "base_uri": "https://localhost:8080/",
          "height": 394
        },
        "id": "QEUQbMSlk1gu",
        "outputId": "6730c506-6e51-44a1-8d46-6774ec87d4cc"
      },
      "outputs": [
        {
          "data": {
            "text/html": [
              "\n",
              "\n",
              "  <div id=\"df-2d99dc05-9b8c-4e03-9342-2bf94fb04391\">\n",
              "    <div class=\"colab-df-container\">\n",
              "      <div>\n",
              "<style scoped>\n",
              "    .dataframe tbody tr th:only-of-type {\n",
              "        vertical-align: middle;\n",
              "    }\n",
              "\n",
              "    .dataframe tbody tr th {\n",
              "        vertical-align: top;\n",
              "    }\n",
              "\n",
              "    .dataframe thead th {\n",
              "        text-align: right;\n",
              "    }\n",
              "</style>\n",
              "<table border=\"1\" class=\"dataframe\">\n",
              "  <thead>\n",
              "    <tr style=\"text-align: right;\">\n",
              "      <th></th>\n",
              "      <th>count</th>\n",
              "      <th>mean</th>\n",
              "      <th>std</th>\n",
              "      <th>min</th>\n",
              "      <th>25%</th>\n",
              "      <th>50%</th>\n",
              "      <th>75%</th>\n",
              "      <th>max</th>\n",
              "    </tr>\n",
              "  </thead>\n",
              "  <tbody>\n",
              "    <tr>\n",
              "      <th>AT</th>\n",
              "      <td>15039.0</td>\n",
              "      <td>17.764381</td>\n",
              "      <td>7.574323</td>\n",
              "      <td>0.522300</td>\n",
              "      <td>11.408000</td>\n",
              "      <td>18.1860</td>\n",
              "      <td>23.8625</td>\n",
              "      <td>34.9290</td>\n",
              "    </tr>\n",
              "    <tr>\n",
              "      <th>AP</th>\n",
              "      <td>15039.0</td>\n",
              "      <td>1013.199240</td>\n",
              "      <td>6.410760</td>\n",
              "      <td>985.850000</td>\n",
              "      <td>1008.900000</td>\n",
              "      <td>1012.8000</td>\n",
              "      <td>1016.9000</td>\n",
              "      <td>1034.2000</td>\n",
              "    </tr>\n",
              "    <tr>\n",
              "      <th>AH</th>\n",
              "      <td>15039.0</td>\n",
              "      <td>79.124174</td>\n",
              "      <td>13.793439</td>\n",
              "      <td>30.344000</td>\n",
              "      <td>69.750000</td>\n",
              "      <td>82.2660</td>\n",
              "      <td>90.0435</td>\n",
              "      <td>100.2000</td>\n",
              "    </tr>\n",
              "    <tr>\n",
              "      <th>AFDP</th>\n",
              "      <td>15039.0</td>\n",
              "      <td>4.200294</td>\n",
              "      <td>0.760197</td>\n",
              "      <td>2.087400</td>\n",
              "      <td>3.723900</td>\n",
              "      <td>4.1862</td>\n",
              "      <td>4.5509</td>\n",
              "      <td>7.6106</td>\n",
              "    </tr>\n",
              "    <tr>\n",
              "      <th>GTEP</th>\n",
              "      <td>15039.0</td>\n",
              "      <td>25.419061</td>\n",
              "      <td>4.173916</td>\n",
              "      <td>17.878000</td>\n",
              "      <td>23.294000</td>\n",
              "      <td>25.0820</td>\n",
              "      <td>27.1840</td>\n",
              "      <td>37.4020</td>\n",
              "    </tr>\n",
              "    <tr>\n",
              "      <th>TIT</th>\n",
              "      <td>15039.0</td>\n",
              "      <td>1083.798770</td>\n",
              "      <td>16.527806</td>\n",
              "      <td>1000.800000</td>\n",
              "      <td>1079.600000</td>\n",
              "      <td>1088.7000</td>\n",
              "      <td>1096.0000</td>\n",
              "      <td>1100.8000</td>\n",
              "    </tr>\n",
              "    <tr>\n",
              "      <th>TAT</th>\n",
              "      <td>15039.0</td>\n",
              "      <td>545.396183</td>\n",
              "      <td>7.866803</td>\n",
              "      <td>512.450000</td>\n",
              "      <td>542.170000</td>\n",
              "      <td>549.8900</td>\n",
              "      <td>550.0600</td>\n",
              "      <td>550.6100</td>\n",
              "    </tr>\n",
              "    <tr>\n",
              "      <th>TEY</th>\n",
              "      <td>15039.0</td>\n",
              "      <td>134.188464</td>\n",
              "      <td>15.829717</td>\n",
              "      <td>100.170000</td>\n",
              "      <td>127.985000</td>\n",
              "      <td>133.7800</td>\n",
              "      <td>140.8950</td>\n",
              "      <td>174.6100</td>\n",
              "    </tr>\n",
              "    <tr>\n",
              "      <th>CDP</th>\n",
              "      <td>15039.0</td>\n",
              "      <td>12.102353</td>\n",
              "      <td>1.103196</td>\n",
              "      <td>9.904400</td>\n",
              "      <td>11.622000</td>\n",
              "      <td>12.0250</td>\n",
              "      <td>12.5780</td>\n",
              "      <td>15.0810</td>\n",
              "    </tr>\n",
              "    <tr>\n",
              "      <th>CO</th>\n",
              "      <td>15039.0</td>\n",
              "      <td>1.972499</td>\n",
              "      <td>2.222206</td>\n",
              "      <td>0.000388</td>\n",
              "      <td>0.858055</td>\n",
              "      <td>1.3902</td>\n",
              "      <td>2.1604</td>\n",
              "      <td>44.1030</td>\n",
              "    </tr>\n",
              "    <tr>\n",
              "      <th>NOX</th>\n",
              "      <td>15039.0</td>\n",
              "      <td>68.190934</td>\n",
              "      <td>10.470586</td>\n",
              "      <td>27.765000</td>\n",
              "      <td>61.303500</td>\n",
              "      <td>66.6010</td>\n",
              "      <td>73.9355</td>\n",
              "      <td>119.8900</td>\n",
              "    </tr>\n",
              "  </tbody>\n",
              "</table>\n",
              "</div>\n",
              "      <button class=\"colab-df-convert\" onclick=\"convertToInteractive('df-2d99dc05-9b8c-4e03-9342-2bf94fb04391')\"\n",
              "              title=\"Convert this dataframe to an interactive table.\"\n",
              "              style=\"display:none;\">\n",
              "\n",
              "  <svg xmlns=\"http://www.w3.org/2000/svg\" height=\"24px\"viewBox=\"0 0 24 24\"\n",
              "       width=\"24px\">\n",
              "    <path d=\"M0 0h24v24H0V0z\" fill=\"none\"/>\n",
              "    <path d=\"M18.56 5.44l.94 2.06.94-2.06 2.06-.94-2.06-.94-.94-2.06-.94 2.06-2.06.94zm-11 1L8.5 8.5l.94-2.06 2.06-.94-2.06-.94L8.5 2.5l-.94 2.06-2.06.94zm10 10l.94 2.06.94-2.06 2.06-.94-2.06-.94-.94-2.06-.94 2.06-2.06.94z\"/><path d=\"M17.41 7.96l-1.37-1.37c-.4-.4-.92-.59-1.43-.59-.52 0-1.04.2-1.43.59L10.3 9.45l-7.72 7.72c-.78.78-.78 2.05 0 2.83L4 21.41c.39.39.9.59 1.41.59.51 0 1.02-.2 1.41-.59l7.78-7.78 2.81-2.81c.8-.78.8-2.07 0-2.86zM5.41 20L4 18.59l7.72-7.72 1.47 1.35L5.41 20z\"/>\n",
              "  </svg>\n",
              "      </button>\n",
              "\n",
              "\n",
              "\n",
              "    <div id=\"df-b4d35f76-4f82-423a-90f1-9c5860184cb5\">\n",
              "      <button class=\"colab-df-quickchart\" onclick=\"quickchart('df-b4d35f76-4f82-423a-90f1-9c5860184cb5')\"\n",
              "              title=\"Suggest charts.\"\n",
              "              style=\"display:none;\">\n",
              "\n",
              "<svg xmlns=\"http://www.w3.org/2000/svg\" height=\"24px\"viewBox=\"0 0 24 24\"\n",
              "     width=\"24px\">\n",
              "    <g>\n",
              "        <path d=\"M19 3H5c-1.1 0-2 .9-2 2v14c0 1.1.9 2 2 2h14c1.1 0 2-.9 2-2V5c0-1.1-.9-2-2-2zM9 17H7v-7h2v7zm4 0h-2V7h2v10zm4 0h-2v-4h2v4z\"/>\n",
              "    </g>\n",
              "</svg>\n",
              "      </button>\n",
              "    </div>\n",
              "\n",
              "<style>\n",
              "  .colab-df-quickchart {\n",
              "    background-color: #E8F0FE;\n",
              "    border: none;\n",
              "    border-radius: 50%;\n",
              "    cursor: pointer;\n",
              "    display: none;\n",
              "    fill: #1967D2;\n",
              "    height: 32px;\n",
              "    padding: 0 0 0 0;\n",
              "    width: 32px;\n",
              "  }\n",
              "\n",
              "  .colab-df-quickchart:hover {\n",
              "    background-color: #E2EBFA;\n",
              "    box-shadow: 0px 1px 2px rgba(60, 64, 67, 0.3), 0px 1px 3px 1px rgba(60, 64, 67, 0.15);\n",
              "    fill: #174EA6;\n",
              "  }\n",
              "\n",
              "  [theme=dark] .colab-df-quickchart {\n",
              "    background-color: #3B4455;\n",
              "    fill: #D2E3FC;\n",
              "  }\n",
              "\n",
              "  [theme=dark] .colab-df-quickchart:hover {\n",
              "    background-color: #434B5C;\n",
              "    box-shadow: 0px 1px 3px 1px rgba(0, 0, 0, 0.15);\n",
              "    filter: drop-shadow(0px 1px 2px rgba(0, 0, 0, 0.3));\n",
              "    fill: #FFFFFF;\n",
              "  }\n",
              "</style>\n",
              "\n",
              "    <script>\n",
              "      async function quickchart(key) {\n",
              "        const containerElement = document.querySelector('#' + key);\n",
              "        const charts = await google.colab.kernel.invokeFunction(\n",
              "            'suggestCharts', [key], {});\n",
              "      }\n",
              "    </script>\n",
              "\n",
              "      <script>\n",
              "\n",
              "function displayQuickchartButton(domScope) {\n",
              "  let quickchartButtonEl =\n",
              "    domScope.querySelector('#df-b4d35f76-4f82-423a-90f1-9c5860184cb5 button.colab-df-quickchart');\n",
              "  quickchartButtonEl.style.display =\n",
              "    google.colab.kernel.accessAllowed ? 'block' : 'none';\n",
              "}\n",
              "\n",
              "        displayQuickchartButton(document);\n",
              "      </script>\n",
              "      <style>\n",
              "    .colab-df-container {\n",
              "      display:flex;\n",
              "      flex-wrap:wrap;\n",
              "      gap: 12px;\n",
              "    }\n",
              "\n",
              "    .colab-df-convert {\n",
              "      background-color: #E8F0FE;\n",
              "      border: none;\n",
              "      border-radius: 50%;\n",
              "      cursor: pointer;\n",
              "      display: none;\n",
              "      fill: #1967D2;\n",
              "      height: 32px;\n",
              "      padding: 0 0 0 0;\n",
              "      width: 32px;\n",
              "    }\n",
              "\n",
              "    .colab-df-convert:hover {\n",
              "      background-color: #E2EBFA;\n",
              "      box-shadow: 0px 1px 2px rgba(60, 64, 67, 0.3), 0px 1px 3px 1px rgba(60, 64, 67, 0.15);\n",
              "      fill: #174EA6;\n",
              "    }\n",
              "\n",
              "    [theme=dark] .colab-df-convert {\n",
              "      background-color: #3B4455;\n",
              "      fill: #D2E3FC;\n",
              "    }\n",
              "\n",
              "    [theme=dark] .colab-df-convert:hover {\n",
              "      background-color: #434B5C;\n",
              "      box-shadow: 0px 1px 3px 1px rgba(0, 0, 0, 0.15);\n",
              "      filter: drop-shadow(0px 1px 2px rgba(0, 0, 0, 0.3));\n",
              "      fill: #FFFFFF;\n",
              "    }\n",
              "  </style>\n",
              "\n",
              "      <script>\n",
              "        const buttonEl =\n",
              "          document.querySelector('#df-2d99dc05-9b8c-4e03-9342-2bf94fb04391 button.colab-df-convert');\n",
              "        buttonEl.style.display =\n",
              "          google.colab.kernel.accessAllowed ? 'block' : 'none';\n",
              "\n",
              "        async function convertToInteractive(key) {\n",
              "          const element = document.querySelector('#df-2d99dc05-9b8c-4e03-9342-2bf94fb04391');\n",
              "          const dataTable =\n",
              "            await google.colab.kernel.invokeFunction('convertToInteractive',\n",
              "                                                     [key], {});\n",
              "          if (!dataTable) return;\n",
              "\n",
              "          const docLinkHtml = 'Like what you see? Visit the ' +\n",
              "            '<a target=\"_blank\" href=https://colab.research.google.com/notebooks/data_table.ipynb>data table notebook</a>'\n",
              "            + ' to learn more about interactive tables.';\n",
              "          element.innerHTML = '';\n",
              "          dataTable['output_type'] = 'display_data';\n",
              "          await google.colab.output.renderOutput(dataTable, element);\n",
              "          const docLink = document.createElement('div');\n",
              "          docLink.innerHTML = docLinkHtml;\n",
              "          element.appendChild(docLink);\n",
              "        }\n",
              "      </script>\n",
              "    </div>\n",
              "  </div>\n"
            ],
            "text/plain": [
              "        count         mean        std          min          25%        50%  \\\n",
              "AT    15039.0    17.764381   7.574323     0.522300    11.408000    18.1860   \n",
              "AP    15039.0  1013.199240   6.410760   985.850000  1008.900000  1012.8000   \n",
              "AH    15039.0    79.124174  13.793439    30.344000    69.750000    82.2660   \n",
              "AFDP  15039.0     4.200294   0.760197     2.087400     3.723900     4.1862   \n",
              "GTEP  15039.0    25.419061   4.173916    17.878000    23.294000    25.0820   \n",
              "TIT   15039.0  1083.798770  16.527806  1000.800000  1079.600000  1088.7000   \n",
              "TAT   15039.0   545.396183   7.866803   512.450000   542.170000   549.8900   \n",
              "TEY   15039.0   134.188464  15.829717   100.170000   127.985000   133.7800   \n",
              "CDP   15039.0    12.102353   1.103196     9.904400    11.622000    12.0250   \n",
              "CO    15039.0     1.972499   2.222206     0.000388     0.858055     1.3902   \n",
              "NOX   15039.0    68.190934  10.470586    27.765000    61.303500    66.6010   \n",
              "\n",
              "            75%        max  \n",
              "AT      23.8625    34.9290  \n",
              "AP    1016.9000  1034.2000  \n",
              "AH      90.0435   100.2000  \n",
              "AFDP     4.5509     7.6106  \n",
              "GTEP    27.1840    37.4020  \n",
              "TIT   1096.0000  1100.8000  \n",
              "TAT    550.0600   550.6100  \n",
              "TEY    140.8950   174.6100  \n",
              "CDP     12.5780    15.0810  \n",
              "CO       2.1604    44.1030  \n",
              "NOX     73.9355   119.8900  "
            ]
          },
          "execution_count": 21,
          "metadata": {},
          "output_type": "execute_result"
        }
      ],
      "source": [
        "df.describe().T"
      ]
    },
    {
      "cell_type": "code",
      "execution_count": null,
      "metadata": {
        "colab": {
          "base_uri": "https://localhost:8080/"
        },
        "id": "HkxZUp5Uk4Gs",
        "outputId": "7305c949-fb9c-4e63-9ce3-60091c68e770"
      },
      "outputs": [
        {
          "data": {
            "text/plain": [
              "TEY     1.000000\n",
              "CDP     0.988473\n",
              "GTEP    0.977042\n",
              "TIT     0.891587\n",
              "AFDP    0.717995\n",
              "AP      0.146939\n",
              "NOX    -0.102631\n",
              "AH     -0.110272\n",
              "AT     -0.207495\n",
              "CO     -0.541751\n",
              "TAT    -0.720356\n",
              "Name: TEY, dtype: float64"
            ]
          },
          "execution_count": 22,
          "metadata": {},
          "output_type": "execute_result"
        }
      ],
      "source": [
        "df.corr()[\"TEY\"].sort_values(ascending=False)\n"
      ]
    },
    {
      "cell_type": "code",
      "execution_count": null,
      "metadata": {
        "colab": {
          "base_uri": "https://localhost:8080/"
        },
        "id": "_vU5vL1hlBf4",
        "outputId": "20b019ea-8f21-4714-bbe5-92d09fde5f27"
      },
      "outputs": [
        {
          "data": {
            "text/plain": [
              "Index(['AT', 'AP', 'AH', 'AFDP', 'GTEP', 'TIT', 'TAT', 'TEY', 'CDP', 'CO',\n",
              "       'NOX'],\n",
              "      dtype='object')"
            ]
          },
          "execution_count": 23,
          "metadata": {},
          "output_type": "execute_result"
        }
      ],
      "source": [
        "numerical_features = df.describe(include=[\"int64\",\"float64\"]).columns\n",
        "numerical_features"
      ]
    },
    {
      "cell_type": "markdown",
      "metadata": {
        "id": "iKXqmFk_lFT1"
      },
      "source": [
        "Data Visualization\n",
        "\n",
        "Univariate plots"
      ]
    },
    {
      "cell_type": "code",
      "execution_count": null,
      "metadata": {
        "colab": {
          "base_uri": "https://localhost:8080/",
          "height": 1000
        },
        "id": "pHqT39nRlDnj",
        "outputId": "7315f5cd-3945-4921-ca57-d7296d8be564"
      },
      "outputs": [
        {
          "data": {
            "image/png": "[encoded data removed]",
            "text/plain": [
              "<Figure size 1400x2000 with 10 Axes>"
            ]
          },
          "metadata": {},
          "output_type": "display_data"
        }
      ],
      "source": [
        "fig, ax = plt.subplots(5,2, figsize = (14,20))\n",
        "\n",
        "sns.distplot(df.AT, ax = ax[0,0])\n",
        "sns.distplot(df.AP, ax = ax[0,1])\n",
        "sns.distplot(df.AH, ax = ax[1,0])\n",
        "sns.distplot(df.AFDP, ax = ax[1,1])\n",
        "sns.distplot(df.GTEP, ax = ax[2,0])\n",
        "sns.distplot(df.TIT, ax = ax[2,1])\n",
        "sns.distplot(df.TAT, ax = ax[3,0])\n",
        "sns.distplot(df.CDP, ax = ax[3,1])\n",
        "sns.distplot(df.CO, ax = ax[4,0])\n",
        "sns.distplot(df.NOX, ax = ax[4,1])\n",
        "\n",
        "plt.show()"
      ]
    },
    {
      "cell_type": "markdown",
      "metadata": {
        "id": "iGF_yCI_lP7p"
      },
      "source": [
        "Outliers Detection"
      ]
    },
    {
      "cell_type": "code",
      "execution_count": null,
      "metadata": {
        "colab": {
          "base_uri": "https://localhost:8080/"
        },
        "id": "WpIyIUKzlORQ",
        "outputId": "952b190e-d73b-4537-de68-49777de17b5e"
      },
      "outputs": [
        {
          "name": "stdout",
          "output_type": "stream",
          "text": [
            "The dataset contains 1543 observations with more than 2 outliers\n"
          ]
        }
      ],
      "source": [
        "# Detect observations with more than one outlier\n",
        "\n",
        "def outlier_hunt(df):\n",
        "    \"\"\"\n",
        "    Takes a dataframe df of features and returns a list of the indices\n",
        "    corresponding to the observations containing more than 2 outliers.\n",
        "    \"\"\"\n",
        "    outlier_indices = []\n",
        "\n",
        "    for col in df.columns.tolist():         # iterate over features(columns)\n",
        "        Q1 = np.percentile(df[col],25)      # 1st quartile (25%)\n",
        "        Q3 = np.percentile(df[col],75)      # 3rd quartile (75%)\n",
        "        IQR = Q3 - Q1                       # Interquartile rrange (IQR)\n",
        "\n",
        "        outlier_step = 1.5 * IQR            # outlier step\n",
        "\n",
        "        # Determine a list of indices of outliers for feature col\n",
        "        outlier_list_col = df[(df[col] < Q1 - outlier_step) | (df[col] > Q3 + outlier_step )].index\n",
        "\n",
        "        # Append the found outlier indices for col to the list of outlier indices\n",
        "        outlier_indices.extend(outlier_list_col)\n",
        "\n",
        "    # Select observations containing more than 2 outliers\n",
        "    outlier_indices = Counter(outlier_indices)\n",
        "    multiple_outliers = list( k for k, v in outlier_indices.items() if v > 2 )\n",
        "\n",
        "    return multiple_outliers\n",
        "\n",
        "print('The dataset contains %d observations with more than 2 outliers' %(len(outlier_hunt(df[numerical_features]))))"
      ]
    },
    {
      "cell_type": "code",
      "execution_count": null,
      "metadata": {
        "colab": {
          "base_uri": "https://localhost:8080/"
        },
        "id": "kEy5MuBglUt9",
        "outputId": "3f6e1cdd-0d27-4a4e-dec6-5c9acc742ec6"
      },
      "outputs": [
        {
          "data": {
            "text/plain": [
              "Index(['AT', 'AP', 'AH', 'AFDP', 'GTEP', 'TIT', 'TAT', 'TEY', 'CDP', 'CO',\n",
              "       'NOX'],\n",
              "      dtype='object')"
            ]
          },
          "execution_count": 26,
          "metadata": {},
          "output_type": "execute_result"
        }
      ],
      "source": [
        "numerical_features"
      ]
    },
    {
      "cell_type": "code",
      "execution_count": null,
      "metadata": {
        "colab": {
          "base_uri": "https://localhost:8080/",
          "height": 1000
        },
        "id": "2pVdhxFllWXw",
        "outputId": "ea09ac31-6e50-4ebc-ccb5-22b886b69199"
      },
      "outputs": [
        {
          "data": {
            "image/png": "[encoded data removed]",
            "text/plain": [
              "<Figure size 1200x1400 with 11 Axes>"
            ]
          },
          "metadata": {},
          "output_type": "display_data"
        }
      ],
      "source": [
        "outlier = df.copy()\n",
        "fig, axes=plt.subplots(11,1,figsize=(12,14),sharex=False,sharey=False)\n",
        "sns.boxplot(x='AT',data= outlier,palette='crest',ax=axes[0])\n",
        "sns.boxplot(x='AP',data= outlier,palette='crest',ax=axes[1])\n",
        "sns.boxplot(x='AH',data= outlier,palette='crest',ax=axes[2])\n",
        "sns.boxplot(x='AFDP',data= outlier,palette='crest',ax=axes[3])\n",
        "sns.boxplot(x='GTEP',data= outlier,palette='crest',ax=axes[4])\n",
        "sns.boxplot(x='TIT',data= outlier,palette='crest',ax=axes[5])\n",
        "sns.boxplot(x='TAT',data= outlier,palette='crest',ax=axes[6])\n",
        "sns.boxplot(x='TEY',data= outlier,palette='crest',ax=axes[7])\n",
        "sns.boxplot(x='CDP',data= outlier,palette='crest',ax=axes[8])\n",
        "sns.boxplot(x='CO',data= outlier,palette='crest',ax=axes[9])\n",
        "sns.boxplot(x='NOX',data= outlier,palette='crest',ax=axes[10])\n",
        "plt.tight_layout(pad=2.0)"
      ]
    },
    {
      "cell_type": "code",
      "execution_count": null,
      "metadata": {
        "colab": {
          "base_uri": "https://localhost:8080/",
          "height": 566
        },
        "id": "uxJ6oeJClYJx",
        "outputId": "78dc4c56-8841-4d12-d406-f9444d508859"
      },
      "outputs": [
        {
          "data": {
            "image/png": "[encoded data removed]",
            "text/plain": [
              "<Figure size 900x600 with 1 Axes>"
            ]
          },
          "metadata": {},
          "output_type": "display_data"
        }
      ],
      "source": [
        "sns.set_style(\"darkgrid\")\n",
        "plt.figure(figsize=(9,6))\n",
        "sns.histplot(data= df, x= \"TEY\", color= \"red\", kde= True)\n",
        "plt.axvline(x=df[\"TEY\"].mean(), ymax= 0.55, color= \"green\", linestyle= '--', label= \"Mean\")\n",
        "plt.axvline(x=df[\"TEY\"].median(), ymax= 0.56, color= \"purple\", linestyle= '--',label= \"Median\")\n",
        "plt.title(\"Histogram of the Target Column\", fontsize=16)\n",
        "plt.legend();"
      ]
    },
    {
      "cell_type": "code",
      "execution_count": null,
      "metadata": {
        "colab": {
          "base_uri": "https://localhost:8080/",
          "height": 566
        },
        "id": "53vyUds9laO7",
        "outputId": "a3de245f-8675-4907-caa4-875818601e43"
      },
      "outputs": [
        {
          "data": {
            "image/png": "[encoded data removed]",
            "text/plain": [
              "<Figure size 900x600 with 1 Axes>"
            ]
          },
          "metadata": {},
          "output_type": "display_data"
        }
      ],
      "source": [
        "plt.figure(figsize = (9,6))\n",
        "sns.histplot(df[\"TEY\"], kde= True, bins= 40, color= \"red\", cumulative= True)\n",
        "plt.title(\"Cumulative of the Target Column\", fontsize=16);"
      ]
    },
    {
      "cell_type": "markdown",
      "metadata": {
        "id": "jbnysBP6ld8z"
      },
      "source": [
        "Unsurprisingly, Mostly none of the features are on the same scale as we already saw in the previous section.\n",
        "\n"
      ]
    },
    {
      "cell_type": "markdown",
      "metadata": {
        "id": "DWiyTwx2lp1A"
      },
      "source": [
        "Correlation Matrix"
      ]
    },
    {
      "cell_type": "code",
      "execution_count": null,
      "metadata": {
        "colab": {
          "base_uri": "https://localhost:8080/",
          "height": 984
        },
        "id": "Qy28qtrjliTl",
        "outputId": "3915cd47-2f50-4e27-fc89-72f49d4e32a9"
      },
      "outputs": [
        {
          "data": {
            "image/png": "[encoded data removed]",
            "text/plain": [
              "<Figure size 1400x1200 with 2 Axes>"
            ]
          },
          "metadata": {},
          "output_type": "display_data"
        }
      ],
      "source": [
        "plt.figure(figsize=(14,12))\n",
        "mask = np.zeros_like(df.corr(), dtype= np.bool)\n",
        "mask[np.triu_indices_from(mask)] = True\n",
        "sns.heatmap(data= df.corr(), cmap= \"jet\", annot= True, linewidths= 1, linecolor= 'white', mask=mask);"
      ]
    },
    {
      "cell_type": "code",
      "execution_count": null,
      "metadata": {
        "id": "OcubcpXOlv_Z"
      },
      "outputs": [],
      "source": [
        "x = df.drop('TEY', axis=1)\n",
        "y = df[[\"TEY\"]]"
      ]
    },
    {
      "cell_type": "code",
      "execution_count": null,
      "metadata": {
        "colab": {
          "base_uri": "https://localhost:8080/",
          "height": 884
        },
        "id": "nF_jALqel0Ow",
        "outputId": "b567fca8-d33a-4b2d-a71f-ad7d27583c48"
      },
      "outputs": [
        {
          "data": {
            "image/png": "[encoded data removed]",
            "text/plain": [
              "<Figure size 1200x1000 with 1 Axes>"
            ]
          },
          "metadata": {},
          "output_type": "display_data"
        }
      ],
      "source": [
        "data2 = df.copy()\n",
        "\n",
        "correlations = data2.corrwith(df.TEY)\n",
        "correlations = correlations[correlations!=1]\n",
        "positive_correlations = correlations[correlations>0].sort_values(ascending = False)\n",
        "negative_correlations = correlations[correlations<0].sort_values(ascending = False)\n",
        "\n",
        "correlations.plot.bar(figsize=(12,10), fontsize = 15, color = 'orange', rot = 0, grid = True)\n",
        "plt.title('Correlation with Turbine energy yield \\n', fontsize = \"16\", fontfamily = \"sans-serif\")\n",
        "plt.show()"
      ]
    },
    {
      "cell_type": "markdown",
      "metadata": {
        "id": "zu6vDD2ql3M2"
      },
      "source": [
        "Data Pre-Processing\n",
        "\n",
        " Feature Selection Technique"
      ]
    },
    {
      "cell_type": "code",
      "execution_count": null,
      "metadata": {
        "id": "GLJ8gAXRl17Y"
      },
      "outputs": [],
      "source": [
        "from numpy import set_printoptions\n",
        "from sklearn.feature_selection import mutual_info_regression"
      ]
    },
    {
      "cell_type": "markdown",
      "metadata": {
        "id": "4XHTvZCcl9Pw"
      },
      "source": [
        "Feature Extraction\n"
      ]
    },
    {
      "cell_type": "code",
      "execution_count": null,
      "metadata": {
        "id": "ty33n1fyl9_4"
      },
      "outputs": [],
      "source": [
        "test = SelectKBest(score_func=mutual_info_regression, k='all')\n",
        "fit = test.fit(x, y)"
      ]
    },
    {
      "cell_type": "markdown",
      "metadata": {
        "id": "QZTXUJCBmEzu"
      },
      "source": [
        "Summarize Scores"
      ]
    },
    {
      "cell_type": "code",
      "execution_count": null,
      "metadata": {
        "colab": {
          "base_uri": "https://localhost:8080/",
          "height": 363
        },
        "id": "Pa0cxnqVmAUp",
        "outputId": "c168b5a7-dba0-4485-ec25-1dd186a8cc20"
      },
      "outputs": [
        {
          "data": {
            "text/html": [
              "\n",
              "\n",
              "  <div id=\"df-04e53875-a9a2-43d0-89aa-e8ca3c7aa889\">\n",
              "    <div class=\"colab-df-container\">\n",
              "      <div>\n",
              "<style scoped>\n",
              "    .dataframe tbody tr th:only-of-type {\n",
              "        vertical-align: middle;\n",
              "    }\n",
              "\n",
              "    .dataframe tbody tr th {\n",
              "        vertical-align: top;\n",
              "    }\n",
              "\n",
              "    .dataframe thead th {\n",
              "        text-align: right;\n",
              "    }\n",
              "</style>\n",
              "<table border=\"1\" class=\"dataframe\">\n",
              "  <thead>\n",
              "    <tr style=\"text-align: right;\">\n",
              "      <th></th>\n",
              "      <th>Score</th>\n",
              "      <th>Feature</th>\n",
              "    </tr>\n",
              "  </thead>\n",
              "  <tbody>\n",
              "    <tr>\n",
              "      <th>7</th>\n",
              "      <td>1.711482</td>\n",
              "      <td>CDP</td>\n",
              "    </tr>\n",
              "    <tr>\n",
              "      <th>4</th>\n",
              "      <td>1.600239</td>\n",
              "      <td>GTEP</td>\n",
              "    </tr>\n",
              "    <tr>\n",
              "      <th>5</th>\n",
              "      <td>1.322370</td>\n",
              "      <td>TIT</td>\n",
              "    </tr>\n",
              "    <tr>\n",
              "      <th>6</th>\n",
              "      <td>0.895214</td>\n",
              "      <td>TAT</td>\n",
              "    </tr>\n",
              "    <tr>\n",
              "      <th>3</th>\n",
              "      <td>0.660721</td>\n",
              "      <td>AFDP</td>\n",
              "    </tr>\n",
              "    <tr>\n",
              "      <th>8</th>\n",
              "      <td>0.512478</td>\n",
              "      <td>CO</td>\n",
              "    </tr>\n",
              "    <tr>\n",
              "      <th>0</th>\n",
              "      <td>0.412412</td>\n",
              "      <td>AT</td>\n",
              "    </tr>\n",
              "    <tr>\n",
              "      <th>9</th>\n",
              "      <td>0.300819</td>\n",
              "      <td>NOX</td>\n",
              "    </tr>\n",
              "    <tr>\n",
              "      <th>1</th>\n",
              "      <td>0.138475</td>\n",
              "      <td>AP</td>\n",
              "    </tr>\n",
              "    <tr>\n",
              "      <th>2</th>\n",
              "      <td>0.097697</td>\n",
              "      <td>AH</td>\n",
              "    </tr>\n",
              "  </tbody>\n",
              "</table>\n",
              "</div>\n",
              "      <button class=\"colab-df-convert\" onclick=\"convertToInteractive('df-04e53875-a9a2-43d0-89aa-e8ca3c7aa889')\"\n",
              "              title=\"Convert this dataframe to an interactive table.\"\n",
              "              style=\"display:none;\">\n",
              "\n",
              "  <svg xmlns=\"http://www.w3.org/2000/svg\" height=\"24px\"viewBox=\"0 0 24 24\"\n",
              "       width=\"24px\">\n",
              "    <path d=\"M0 0h24v24H0V0z\" fill=\"none\"/>\n",
              "    <path d=\"M18.56 5.44l.94 2.06.94-2.06 2.06-.94-2.06-.94-.94-2.06-.94 2.06-2.06.94zm-11 1L8.5 8.5l.94-2.06 2.06-.94-2.06-.94L8.5 2.5l-.94 2.06-2.06.94zm10 10l.94 2.06.94-2.06 2.06-.94-2.06-.94-.94-2.06-.94 2.06-2.06.94z\"/><path d=\"M17.41 7.96l-1.37-1.37c-.4-.4-.92-.59-1.43-.59-.52 0-1.04.2-1.43.59L10.3 9.45l-7.72 7.72c-.78.78-.78 2.05 0 2.83L4 21.41c.39.39.9.59 1.41.59.51 0 1.02-.2 1.41-.59l7.78-7.78 2.81-2.81c.8-.78.8-2.07 0-2.86zM5.41 20L4 18.59l7.72-7.72 1.47 1.35L5.41 20z\"/>\n",
              "  </svg>\n",
              "      </button>\n",
              "\n",
              "\n",
              "\n",
              "    <div id=\"df-c13d3af3-2cb4-4a2e-abbe-24fdc1ecfae2\">\n",
              "      <button class=\"colab-df-quickchart\" onclick=\"quickchart('df-c13d3af3-2cb4-4a2e-abbe-24fdc1ecfae2')\"\n",
              "              title=\"Suggest charts.\"\n",
              "              style=\"display:none;\">\n",
              "\n",
              "<svg xmlns=\"http://www.w3.org/2000/svg\" height=\"24px\"viewBox=\"0 0 24 24\"\n",
              "     width=\"24px\">\n",
              "    <g>\n",
              "        <path d=\"M19 3H5c-1.1 0-2 .9-2 2v14c0 1.1.9 2 2 2h14c1.1 0 2-.9 2-2V5c0-1.1-.9-2-2-2zM9 17H7v-7h2v7zm4 0h-2V7h2v10zm4 0h-2v-4h2v4z\"/>\n",
              "    </g>\n",
              "</svg>\n",
              "      </button>\n",
              "    </div>\n",
              "\n",
              "<style>\n",
              "  .colab-df-quickchart {\n",
              "    background-color: #E8F0FE;\n",
              "    border: none;\n",
              "    border-radius: 50%;\n",
              "    cursor: pointer;\n",
              "    display: none;\n",
              "    fill: #1967D2;\n",
              "    height: 32px;\n",
              "    padding: 0 0 0 0;\n",
              "    width: 32px;\n",
              "  }\n",
              "\n",
              "  .colab-df-quickchart:hover {\n",
              "    background-color: #E2EBFA;\n",
              "    box-shadow: 0px 1px 2px rgba(60, 64, 67, 0.3), 0px 1px 3px 1px rgba(60, 64, 67, 0.15);\n",
              "    fill: #174EA6;\n",
              "  }\n",
              "\n",
              "  [theme=dark] .colab-df-quickchart {\n",
              "    background-color: #3B4455;\n",
              "    fill: #D2E3FC;\n",
              "  }\n",
              "\n",
              "  [theme=dark] .colab-df-quickchart:hover {\n",
              "    background-color: #434B5C;\n",
              "    box-shadow: 0px 1px 3px 1px rgba(0, 0, 0, 0.15);\n",
              "    filter: drop-shadow(0px 1px 2px rgba(0, 0, 0, 0.3));\n",
              "    fill: #FFFFFF;\n",
              "  }\n",
              "</style>\n",
              "\n",
              "    <script>\n",
              "      async function quickchart(key) {\n",
              "        const containerElement = document.querySelector('#' + key);\n",
              "        const charts = await google.colab.kernel.invokeFunction(\n",
              "            'suggestCharts', [key], {});\n",
              "      }\n",
              "    </script>\n",
              "\n",
              "      <script>\n",
              "\n",
              "function displayQuickchartButton(domScope) {\n",
              "  let quickchartButtonEl =\n",
              "    domScope.querySelector('#df-c13d3af3-2cb4-4a2e-abbe-24fdc1ecfae2 button.colab-df-quickchart');\n",
              "  quickchartButtonEl.style.display =\n",
              "    google.colab.kernel.accessAllowed ? 'block' : 'none';\n",
              "}\n",
              "\n",
              "        displayQuickchartButton(document);\n",
              "      </script>\n",
              "      <style>\n",
              "    .colab-df-container {\n",
              "      display:flex;\n",
              "      flex-wrap:wrap;\n",
              "      gap: 12px;\n",
              "    }\n",
              "\n",
              "    .colab-df-convert {\n",
              "      background-color: #E8F0FE;\n",
              "      border: none;\n",
              "      border-radius: 50%;\n",
              "      cursor: pointer;\n",
              "      display: none;\n",
              "      fill: #1967D2;\n",
              "      height: 32px;\n",
              "      padding: 0 0 0 0;\n",
              "      width: 32px;\n",
              "    }\n",
              "\n",
              "    .colab-df-convert:hover {\n",
              "      background-color: #E2EBFA;\n",
              "      box-shadow: 0px 1px 2px rgba(60, 64, 67, 0.3), 0px 1px 3px 1px rgba(60, 64, 67, 0.15);\n",
              "      fill: #174EA6;\n",
              "    }\n",
              "\n",
              "    [theme=dark] .colab-df-convert {\n",
              "      background-color: #3B4455;\n",
              "      fill: #D2E3FC;\n",
              "    }\n",
              "\n",
              "    [theme=dark] .colab-df-convert:hover {\n",
              "      background-color: #434B5C;\n",
              "      box-shadow: 0px 1px 3px 1px rgba(0, 0, 0, 0.15);\n",
              "      filter: drop-shadow(0px 1px 2px rgba(0, 0, 0, 0.3));\n",
              "      fill: #FFFFFF;\n",
              "    }\n",
              "  </style>\n",
              "\n",
              "      <script>\n",
              "        const buttonEl =\n",
              "          document.querySelector('#df-04e53875-a9a2-43d0-89aa-e8ca3c7aa889 button.colab-df-convert');\n",
              "        buttonEl.style.display =\n",
              "          google.colab.kernel.accessAllowed ? 'block' : 'none';\n",
              "\n",
              "        async function convertToInteractive(key) {\n",
              "          const element = document.querySelector('#df-04e53875-a9a2-43d0-89aa-e8ca3c7aa889');\n",
              "          const dataTable =\n",
              "            await google.colab.kernel.invokeFunction('convertToInteractive',\n",
              "                                                     [key], {});\n",
              "          if (!dataTable) return;\n",
              "\n",
              "          const docLinkHtml = 'Like what you see? Visit the ' +\n",
              "            '<a target=\"_blank\" href=https://colab.research.google.com/notebooks/data_table.ipynb>data table notebook</a>'\n",
              "            + ' to learn more about interactive tables.';\n",
              "          element.innerHTML = '';\n",
              "          dataTable['output_type'] = 'display_data';\n",
              "          await google.colab.output.renderOutput(dataTable, element);\n",
              "          const docLink = document.createElement('div');\n",
              "          docLink.innerHTML = docLinkHtml;\n",
              "          element.appendChild(docLink);\n",
              "        }\n",
              "      </script>\n",
              "    </div>\n",
              "  </div>\n"
            ],
            "text/plain": [
              "      Score Feature\n",
              "7  1.711482     CDP\n",
              "4  1.600239    GTEP\n",
              "5  1.322370     TIT\n",
              "6  0.895214     TAT\n",
              "3  0.660721    AFDP\n",
              "8  0.512478      CO\n",
              "0  0.412412      AT\n",
              "9  0.300819     NOX\n",
              "1  0.138475      AP\n",
              "2  0.097697      AH"
            ]
          },
          "execution_count": 37,
          "metadata": {},
          "output_type": "execute_result"
        }
      ],
      "source": [
        "scores = fit.scores_\n",
        "features = fit.transform(x)\n",
        "score_df = pd.DataFrame(list(zip(scores, x.columns)), columns =['Score', 'Feature'])\n",
        "score_df.sort_values(by=\"Score\", ascending=False, inplace=True)\n",
        "score_df\n"
      ]
    },
    {
      "cell_type": "code",
      "execution_count": null,
      "metadata": {
        "colab": {
          "base_uri": "https://localhost:8080/",
          "height": 563
        },
        "id": "v9tF2L4rmIZF",
        "outputId": "de8a69d8-7ea5-46f6-8a0f-314ad99d70f9"
      },
      "outputs": [
        {
          "data": {
            "image/png": "[encoded data removed]",
            "text/plain": [
              "<Figure size 1200x600 with 1 Axes>"
            ]
          },
          "metadata": {},
          "output_type": "display_data"
        }
      ],
      "source": [
        "fig, axes = plt.subplots(figsize=(12,6))\n",
        "plt.bar([i for i in range(len(scores))],scores)\n",
        "axes.set_xticks([0,1,2,3,4,5,6,7,8,9])\n",
        "axes.set_xticklabels(x.columns.values)\n",
        "plt.xticks(rotation = 90, size = 15)\n",
        "plt.show()"
      ]
    },
    {
      "cell_type": "code",
      "execution_count": null,
      "metadata": {
        "colab": {
          "base_uri": "https://localhost:8080/",
          "height": 620
        },
        "id": "GcUcXiBmmKN2",
        "outputId": "05fe79df-fbf5-4c62-a17c-c78de0ca66bb"
      },
      "outputs": [
        {
          "data": {
            "image/png": "[encoded data removed]",
            "text/plain": [
              "<Figure size 1200x600 with 1 Axes>"
            ]
          },
          "metadata": {},
          "output_type": "display_data"
        }
      ],
      "source": [
        "plt.figure(figsize=(12,6))\n",
        "sns.barplot(x='Feature', y=\"Score\", data=score_df, order=score_df.sort_values('Score').Feature)\n",
        "plt.xlabel(\"Features\", size=15)\n",
        "plt.ylabel(\"Scores\", size=15)\n",
        "plt.yticks(rotation = 0, fontsize = 14)\n",
        "plt.xticks(rotation = 90, fontsize = 16)\n",
        "plt.title(\"Feature Score w.r.t the Sales\", size=18)\n",
        "plt.show()"
      ]
    },
    {
      "cell_type": "code",
      "execution_count": null,
      "metadata": {
        "colab": {
          "base_uri": "https://localhost:8080/",
          "height": 363
        },
        "id": "Pniq_fRrmMMe",
        "outputId": "ccb32219-7556-486b-bae2-e313a78ae8d0"
      },
      "outputs": [
        {
          "data": {
            "text/html": [
              "\n",
              "\n",
              "  <div id=\"df-dac916b6-7417-43c4-89c1-35d0e07ea16c\">\n",
              "    <div class=\"colab-df-container\">\n",
              "      <div>\n",
              "<style scoped>\n",
              "    .dataframe tbody tr th:only-of-type {\n",
              "        vertical-align: middle;\n",
              "    }\n",
              "\n",
              "    .dataframe tbody tr th {\n",
              "        vertical-align: top;\n",
              "    }\n",
              "\n",
              "    .dataframe thead th {\n",
              "        text-align: right;\n",
              "    }\n",
              "</style>\n",
              "<table border=\"1\" class=\"dataframe\">\n",
              "  <thead>\n",
              "    <tr style=\"text-align: right;\">\n",
              "      <th></th>\n",
              "      <th>Score</th>\n",
              "      <th>Feature</th>\n",
              "    </tr>\n",
              "  </thead>\n",
              "  <tbody>\n",
              "    <tr>\n",
              "      <th>7</th>\n",
              "      <td>1.711482</td>\n",
              "      <td>CDP</td>\n",
              "    </tr>\n",
              "    <tr>\n",
              "      <th>4</th>\n",
              "      <td>1.600239</td>\n",
              "      <td>GTEP</td>\n",
              "    </tr>\n",
              "    <tr>\n",
              "      <th>5</th>\n",
              "      <td>1.322370</td>\n",
              "      <td>TIT</td>\n",
              "    </tr>\n",
              "    <tr>\n",
              "      <th>6</th>\n",
              "      <td>0.895214</td>\n",
              "      <td>TAT</td>\n",
              "    </tr>\n",
              "    <tr>\n",
              "      <th>3</th>\n",
              "      <td>0.660721</td>\n",
              "      <td>AFDP</td>\n",
              "    </tr>\n",
              "    <tr>\n",
              "      <th>8</th>\n",
              "      <td>0.512478</td>\n",
              "      <td>CO</td>\n",
              "    </tr>\n",
              "    <tr>\n",
              "      <th>0</th>\n",
              "      <td>0.412412</td>\n",
              "      <td>AT</td>\n",
              "    </tr>\n",
              "    <tr>\n",
              "      <th>9</th>\n",
              "      <td>0.300819</td>\n",
              "      <td>NOX</td>\n",
              "    </tr>\n",
              "    <tr>\n",
              "      <th>1</th>\n",
              "      <td>0.138475</td>\n",
              "      <td>AP</td>\n",
              "    </tr>\n",
              "    <tr>\n",
              "      <th>2</th>\n",
              "      <td>0.097697</td>\n",
              "      <td>AH</td>\n",
              "    </tr>\n",
              "  </tbody>\n",
              "</table>\n",
              "</div>\n",
              "      <button class=\"colab-df-convert\" onclick=\"convertToInteractive('df-dac916b6-7417-43c4-89c1-35d0e07ea16c')\"\n",
              "              title=\"Convert this dataframe to an interactive table.\"\n",
              "              style=\"display:none;\">\n",
              "\n",
              "  <svg xmlns=\"http://www.w3.org/2000/svg\" height=\"24px\"viewBox=\"0 0 24 24\"\n",
              "       width=\"24px\">\n",
              "    <path d=\"M0 0h24v24H0V0z\" fill=\"none\"/>\n",
              "    <path d=\"M18.56 5.44l.94 2.06.94-2.06 2.06-.94-2.06-.94-.94-2.06-.94 2.06-2.06.94zm-11 1L8.5 8.5l.94-2.06 2.06-.94-2.06-.94L8.5 2.5l-.94 2.06-2.06.94zm10 10l.94 2.06.94-2.06 2.06-.94-2.06-.94-.94-2.06-.94 2.06-2.06.94z\"/><path d=\"M17.41 7.96l-1.37-1.37c-.4-.4-.92-.59-1.43-.59-.52 0-1.04.2-1.43.59L10.3 9.45l-7.72 7.72c-.78.78-.78 2.05 0 2.83L4 21.41c.39.39.9.59 1.41.59.51 0 1.02-.2 1.41-.59l7.78-7.78 2.81-2.81c.8-.78.8-2.07 0-2.86zM5.41 20L4 18.59l7.72-7.72 1.47 1.35L5.41 20z\"/>\n",
              "  </svg>\n",
              "      </button>\n",
              "\n",
              "\n",
              "\n",
              "    <div id=\"df-17f721e8-014e-4728-b057-57b093cf103a\">\n",
              "      <button class=\"colab-df-quickchart\" onclick=\"quickchart('df-17f721e8-014e-4728-b057-57b093cf103a')\"\n",
              "              title=\"Suggest charts.\"\n",
              "              style=\"display:none;\">\n",
              "\n",
              "<svg xmlns=\"http://www.w3.org/2000/svg\" height=\"24px\"viewBox=\"0 0 24 24\"\n",
              "     width=\"24px\">\n",
              "    <g>\n",
              "        <path d=\"M19 3H5c-1.1 0-2 .9-2 2v14c0 1.1.9 2 2 2h14c1.1 0 2-.9 2-2V5c0-1.1-.9-2-2-2zM9 17H7v-7h2v7zm4 0h-2V7h2v10zm4 0h-2v-4h2v4z\"/>\n",
              "    </g>\n",
              "</svg>\n",
              "      </button>\n",
              "    </div>\n",
              "\n",
              "<style>\n",
              "  .colab-df-quickchart {\n",
              "    background-color: #E8F0FE;\n",
              "    border: none;\n",
              "    border-radius: 50%;\n",
              "    cursor: pointer;\n",
              "    display: none;\n",
              "    fill: #1967D2;\n",
              "    height: 32px;\n",
              "    padding: 0 0 0 0;\n",
              "    width: 32px;\n",
              "  }\n",
              "\n",
              "  .colab-df-quickchart:hover {\n",
              "    background-color: #E2EBFA;\n",
              "    box-shadow: 0px 1px 2px rgba(60, 64, 67, 0.3), 0px 1px 3px 1px rgba(60, 64, 67, 0.15);\n",
              "    fill: #174EA6;\n",
              "  }\n",
              "\n",
              "  [theme=dark] .colab-df-quickchart {\n",
              "    background-color: #3B4455;\n",
              "    fill: #D2E3FC;\n",
              "  }\n",
              "\n",
              "  [theme=dark] .colab-df-quickchart:hover {\n",
              "    background-color: #434B5C;\n",
              "    box-shadow: 0px 1px 3px 1px rgba(0, 0, 0, 0.15);\n",
              "    filter: drop-shadow(0px 1px 2px rgba(0, 0, 0, 0.3));\n",
              "    fill: #FFFFFF;\n",
              "  }\n",
              "</style>\n",
              "\n",
              "    <script>\n",
              "      async function quickchart(key) {\n",
              "        const containerElement = document.querySelector('#' + key);\n",
              "        const charts = await google.colab.kernel.invokeFunction(\n",
              "            'suggestCharts', [key], {});\n",
              "      }\n",
              "    </script>\n",
              "\n",
              "      <script>\n",
              "\n",
              "function displayQuickchartButton(domScope) {\n",
              "  let quickchartButtonEl =\n",
              "    domScope.querySelector('#df-17f721e8-014e-4728-b057-57b093cf103a button.colab-df-quickchart');\n",
              "  quickchartButtonEl.style.display =\n",
              "    google.colab.kernel.accessAllowed ? 'block' : 'none';\n",
              "}\n",
              "\n",
              "        displayQuickchartButton(document);\n",
              "      </script>\n",
              "      <style>\n",
              "    .colab-df-container {\n",
              "      display:flex;\n",
              "      flex-wrap:wrap;\n",
              "      gap: 12px;\n",
              "    }\n",
              "\n",
              "    .colab-df-convert {\n",
              "      background-color: #E8F0FE;\n",
              "      border: none;\n",
              "      border-radius: 50%;\n",
              "      cursor: pointer;\n",
              "      display: none;\n",
              "      fill: #1967D2;\n",
              "      height: 32px;\n",
              "      padding: 0 0 0 0;\n",
              "      width: 32px;\n",
              "    }\n",
              "\n",
              "    .colab-df-convert:hover {\n",
              "      background-color: #E2EBFA;\n",
              "      box-shadow: 0px 1px 2px rgba(60, 64, 67, 0.3), 0px 1px 3px 1px rgba(60, 64, 67, 0.15);\n",
              "      fill: #174EA6;\n",
              "    }\n",
              "\n",
              "    [theme=dark] .colab-df-convert {\n",
              "      background-color: #3B4455;\n",
              "      fill: #D2E3FC;\n",
              "    }\n",
              "\n",
              "    [theme=dark] .colab-df-convert:hover {\n",
              "      background-color: #434B5C;\n",
              "      box-shadow: 0px 1px 3px 1px rgba(0, 0, 0, 0.15);\n",
              "      filter: drop-shadow(0px 1px 2px rgba(0, 0, 0, 0.3));\n",
              "      fill: #FFFFFF;\n",
              "    }\n",
              "  </style>\n",
              "\n",
              "      <script>\n",
              "        const buttonEl =\n",
              "          document.querySelector('#df-dac916b6-7417-43c4-89c1-35d0e07ea16c button.colab-df-convert');\n",
              "        buttonEl.style.display =\n",
              "          google.colab.kernel.accessAllowed ? 'block' : 'none';\n",
              "\n",
              "        async function convertToInteractive(key) {\n",
              "          const element = document.querySelector('#df-dac916b6-7417-43c4-89c1-35d0e07ea16c');\n",
              "          const dataTable =\n",
              "            await google.colab.kernel.invokeFunction('convertToInteractive',\n",
              "                                                     [key], {});\n",
              "          if (!dataTable) return;\n",
              "\n",
              "          const docLinkHtml = 'Like what you see? Visit the ' +\n",
              "            '<a target=\"_blank\" href=https://colab.research.google.com/notebooks/data_table.ipynb>data table notebook</a>'\n",
              "            + ' to learn more about interactive tables.';\n",
              "          element.innerHTML = '';\n",
              "          dataTable['output_type'] = 'display_data';\n",
              "          await google.colab.output.renderOutput(dataTable, element);\n",
              "          const docLink = document.createElement('div');\n",
              "          docLink.innerHTML = docLinkHtml;\n",
              "          element.appendChild(docLink);\n",
              "        }\n",
              "      </script>\n",
              "    </div>\n",
              "  </div>\n"
            ],
            "text/plain": [
              "      Score Feature\n",
              "7  1.711482     CDP\n",
              "4  1.600239    GTEP\n",
              "5  1.322370     TIT\n",
              "6  0.895214     TAT\n",
              "3  0.660721    AFDP\n",
              "8  0.512478      CO\n",
              "0  0.412412      AT\n",
              "9  0.300819     NOX\n",
              "1  0.138475      AP\n",
              "2  0.097697      AH"
            ]
          },
          "execution_count": 40,
          "metadata": {},
          "output_type": "execute_result"
        }
      ],
      "source": [
        "score_df.sort_values('Score', ascending=False)\n"
      ]
    },
    {
      "cell_type": "code",
      "execution_count": null,
      "metadata": {
        "colab": {
          "base_uri": "https://localhost:8080/",
          "height": 206
        },
        "id": "DnHEhlULmN_x",
        "outputId": "65d2e51c-0d30-4f3c-d54f-3c27ae46aa2e"
      },
      "outputs": [
        {
          "data": {
            "text/html": [
              "\n",
              "\n",
              "  <div id=\"df-59d918cb-4dc0-4890-8d9f-8c1c708d14e3\">\n",
              "    <div class=\"colab-df-container\">\n",
              "      <div>\n",
              "<style scoped>\n",
              "    .dataframe tbody tr th:only-of-type {\n",
              "        vertical-align: middle;\n",
              "    }\n",
              "\n",
              "    .dataframe tbody tr th {\n",
              "        vertical-align: top;\n",
              "    }\n",
              "\n",
              "    .dataframe thead th {\n",
              "        text-align: right;\n",
              "    }\n",
              "</style>\n",
              "<table border=\"1\" class=\"dataframe\">\n",
              "  <thead>\n",
              "    <tr style=\"text-align: right;\">\n",
              "      <th></th>\n",
              "      <th>CDP</th>\n",
              "      <th>GTEP</th>\n",
              "      <th>TIT</th>\n",
              "      <th>TAT</th>\n",
              "      <th>AFDP</th>\n",
              "      <th>CO</th>\n",
              "      <th>AT</th>\n",
              "      <th>TEY</th>\n",
              "    </tr>\n",
              "  </thead>\n",
              "  <tbody>\n",
              "    <tr>\n",
              "      <th>0</th>\n",
              "      <td>10.605</td>\n",
              "      <td>19.663</td>\n",
              "      <td>1059.2</td>\n",
              "      <td>550.00</td>\n",
              "      <td>3.5000</td>\n",
              "      <td>3.1547</td>\n",
              "      <td>6.8594</td>\n",
              "      <td>114.70</td>\n",
              "    </tr>\n",
              "    <tr>\n",
              "      <th>1</th>\n",
              "      <td>10.598</td>\n",
              "      <td>19.728</td>\n",
              "      <td>1059.3</td>\n",
              "      <td>550.00</td>\n",
              "      <td>3.4998</td>\n",
              "      <td>3.2363</td>\n",
              "      <td>6.7850</td>\n",
              "      <td>114.72</td>\n",
              "    </tr>\n",
              "    <tr>\n",
              "      <th>2</th>\n",
              "      <td>10.601</td>\n",
              "      <td>19.779</td>\n",
              "      <td>1059.4</td>\n",
              "      <td>549.87</td>\n",
              "      <td>3.4824</td>\n",
              "      <td>3.2012</td>\n",
              "      <td>6.8977</td>\n",
              "      <td>114.71</td>\n",
              "    </tr>\n",
              "    <tr>\n",
              "      <th>3</th>\n",
              "      <td>10.606</td>\n",
              "      <td>19.792</td>\n",
              "      <td>1059.6</td>\n",
              "      <td>549.99</td>\n",
              "      <td>3.4805</td>\n",
              "      <td>3.1923</td>\n",
              "      <td>7.0569</td>\n",
              "      <td>114.72</td>\n",
              "    </tr>\n",
              "    <tr>\n",
              "      <th>4</th>\n",
              "      <td>10.612</td>\n",
              "      <td>19.765</td>\n",
              "      <td>1059.7</td>\n",
              "      <td>549.98</td>\n",
              "      <td>3.4976</td>\n",
              "      <td>3.2484</td>\n",
              "      <td>7.3978</td>\n",
              "      <td>114.72</td>\n",
              "    </tr>\n",
              "  </tbody>\n",
              "</table>\n",
              "</div>\n",
              "      <button class=\"colab-df-convert\" onclick=\"convertToInteractive('df-59d918cb-4dc0-4890-8d9f-8c1c708d14e3')\"\n",
              "              title=\"Convert this dataframe to an interactive table.\"\n",
              "              style=\"display:none;\">\n",
              "\n",
              "  <svg xmlns=\"http://www.w3.org/2000/svg\" height=\"24px\"viewBox=\"0 0 24 24\"\n",
              "       width=\"24px\">\n",
              "    <path d=\"M0 0h24v24H0V0z\" fill=\"none\"/>\n",
              "    <path d=\"M18.56 5.44l.94 2.06.94-2.06 2.06-.94-2.06-.94-.94-2.06-.94 2.06-2.06.94zm-11 1L8.5 8.5l.94-2.06 2.06-.94-2.06-.94L8.5 2.5l-.94 2.06-2.06.94zm10 10l.94 2.06.94-2.06 2.06-.94-2.06-.94-.94-2.06-.94 2.06-2.06.94z\"/><path d=\"M17.41 7.96l-1.37-1.37c-.4-.4-.92-.59-1.43-.59-.52 0-1.04.2-1.43.59L10.3 9.45l-7.72 7.72c-.78.78-.78 2.05 0 2.83L4 21.41c.39.39.9.59 1.41.59.51 0 1.02-.2 1.41-.59l7.78-7.78 2.81-2.81c.8-.78.8-2.07 0-2.86zM5.41 20L4 18.59l7.72-7.72 1.47 1.35L5.41 20z\"/>\n",
              "  </svg>\n",
              "      </button>\n",
              "\n",
              "\n",
              "\n",
              "    <div id=\"df-9779a237-3a6c-4165-8ea2-b20954ea176b\">\n",
              "      <button class=\"colab-df-quickchart\" onclick=\"quickchart('df-9779a237-3a6c-4165-8ea2-b20954ea176b')\"\n",
              "              title=\"Suggest charts.\"\n",
              "              style=\"display:none;\">\n",
              "\n",
              "<svg xmlns=\"http://www.w3.org/2000/svg\" height=\"24px\"viewBox=\"0 0 24 24\"\n",
              "     width=\"24px\">\n",
              "    <g>\n",
              "        <path d=\"M19 3H5c-1.1 0-2 .9-2 2v14c0 1.1.9 2 2 2h14c1.1 0 2-.9 2-2V5c0-1.1-.9-2-2-2zM9 17H7v-7h2v7zm4 0h-2V7h2v10zm4 0h-2v-4h2v4z\"/>\n",
              "    </g>\n",
              "</svg>\n",
              "      </button>\n",
              "    </div>\n",
              "\n",
              "<style>\n",
              "  .colab-df-quickchart {\n",
              "    background-color: #E8F0FE;\n",
              "    border: none;\n",
              "    border-radius: 50%;\n",
              "    cursor: pointer;\n",
              "    display: none;\n",
              "    fill: #1967D2;\n",
              "    height: 32px;\n",
              "    padding: 0 0 0 0;\n",
              "    width: 32px;\n",
              "  }\n",
              "\n",
              "  .colab-df-quickchart:hover {\n",
              "    background-color: #E2EBFA;\n",
              "    box-shadow: 0px 1px 2px rgba(60, 64, 67, 0.3), 0px 1px 3px 1px rgba(60, 64, 67, 0.15);\n",
              "    fill: #174EA6;\n",
              "  }\n",
              "\n",
              "  [theme=dark] .colab-df-quickchart {\n",
              "    background-color: #3B4455;\n",
              "    fill: #D2E3FC;\n",
              "  }\n",
              "\n",
              "  [theme=dark] .colab-df-quickchart:hover {\n",
              "    background-color: #434B5C;\n",
              "    box-shadow: 0px 1px 3px 1px rgba(0, 0, 0, 0.15);\n",
              "    filter: drop-shadow(0px 1px 2px rgba(0, 0, 0, 0.3));\n",
              "    fill: #FFFFFF;\n",
              "  }\n",
              "</style>\n",
              "\n",
              "    <script>\n",
              "      async function quickchart(key) {\n",
              "        const containerElement = document.querySelector('#' + key);\n",
              "        const charts = await google.colab.kernel.invokeFunction(\n",
              "            'suggestCharts', [key], {});\n",
              "      }\n",
              "    </script>\n",
              "\n",
              "      <script>\n",
              "\n",
              "function displayQuickchartButton(domScope) {\n",
              "  let quickchartButtonEl =\n",
              "    domScope.querySelector('#df-9779a237-3a6c-4165-8ea2-b20954ea176b button.colab-df-quickchart');\n",
              "  quickchartButtonEl.style.display =\n",
              "    google.colab.kernel.accessAllowed ? 'block' : 'none';\n",
              "}\n",
              "\n",
              "        displayQuickchartButton(document);\n",
              "      </script>\n",
              "      <style>\n",
              "    .colab-df-container {\n",
              "      display:flex;\n",
              "      flex-wrap:wrap;\n",
              "      gap: 12px;\n",
              "    }\n",
              "\n",
              "    .colab-df-convert {\n",
              "      background-color: #E8F0FE;\n",
              "      border: none;\n",
              "      border-radius: 50%;\n",
              "      cursor: pointer;\n",
              "      display: none;\n",
              "      fill: #1967D2;\n",
              "      height: 32px;\n",
              "      padding: 0 0 0 0;\n",
              "      width: 32px;\n",
              "    }\n",
              "\n",
              "    .colab-df-convert:hover {\n",
              "      background-color: #E2EBFA;\n",
              "      box-shadow: 0px 1px 2px rgba(60, 64, 67, 0.3), 0px 1px 3px 1px rgba(60, 64, 67, 0.15);\n",
              "      fill: #174EA6;\n",
              "    }\n",
              "\n",
              "    [theme=dark] .colab-df-convert {\n",
              "      background-color: #3B4455;\n",
              "      fill: #D2E3FC;\n",
              "    }\n",
              "\n",
              "    [theme=dark] .colab-df-convert:hover {\n",
              "      background-color: #434B5C;\n",
              "      box-shadow: 0px 1px 3px 1px rgba(0, 0, 0, 0.15);\n",
              "      filter: drop-shadow(0px 1px 2px rgba(0, 0, 0, 0.3));\n",
              "      fill: #FFFFFF;\n",
              "    }\n",
              "  </style>\n",
              "\n",
              "      <script>\n",
              "        const buttonEl =\n",
              "          document.querySelector('#df-59d918cb-4dc0-4890-8d9f-8c1c708d14e3 button.colab-df-convert');\n",
              "        buttonEl.style.display =\n",
              "          google.colab.kernel.accessAllowed ? 'block' : 'none';\n",
              "\n",
              "        async function convertToInteractive(key) {\n",
              "          const element = document.querySelector('#df-59d918cb-4dc0-4890-8d9f-8c1c708d14e3');\n",
              "          const dataTable =\n",
              "            await google.colab.kernel.invokeFunction('convertToInteractive',\n",
              "                                                     [key], {});\n",
              "          if (!dataTable) return;\n",
              "\n",
              "          const docLinkHtml = 'Like what you see? Visit the ' +\n",
              "            '<a target=\"_blank\" href=https://colab.research.google.com/notebooks/data_table.ipynb>data table notebook</a>'\n",
              "            + ' to learn more about interactive tables.';\n",
              "          element.innerHTML = '';\n",
              "          dataTable['output_type'] = 'display_data';\n",
              "          await google.colab.output.renderOutput(dataTable, element);\n",
              "          const docLink = document.createElement('div');\n",
              "          docLink.innerHTML = docLinkHtml;\n",
              "          element.appendChild(docLink);\n",
              "        }\n",
              "      </script>\n",
              "    </div>\n",
              "  </div>\n"
            ],
            "text/plain": [
              "      CDP    GTEP     TIT     TAT    AFDP      CO      AT     TEY\n",
              "0  10.605  19.663  1059.2  550.00  3.5000  3.1547  6.8594  114.70\n",
              "1  10.598  19.728  1059.3  550.00  3.4998  3.2363  6.7850  114.72\n",
              "2  10.601  19.779  1059.4  549.87  3.4824  3.2012  6.8977  114.71\n",
              "3  10.606  19.792  1059.6  549.99  3.4805  3.1923  7.0569  114.72\n",
              "4  10.612  19.765  1059.7  549.98  3.4976  3.2484  7.3978  114.72"
            ]
          },
          "execution_count": 41,
          "metadata": {},
          "output_type": "execute_result"
        }
      ],
      "source": [
        "model_data = df[['CDP', 'GTEP','TIT', 'TAT', 'AFDP', 'CO', 'AT',\"TEY\"]]\n",
        "model_data.head()"
      ]
    },
    {
      "cell_type": "markdown",
      "metadata": {
        "id": "dNYJfQngmTQf"
      },
      "source": [
        "Feature Engineering\n",
        "\n",
        "Applying some Data Transformation to increase the linear realtionship and improve our model prediction as well it scores\n",
        "\n",
        "Applying Standard Scaler"
      ]
    },
    {
      "cell_type": "code",
      "execution_count": null,
      "metadata": {
        "colab": {
          "base_uri": "https://localhost:8080/"
        },
        "id": "erRNphrvmRnB",
        "outputId": "b53bace8-8a16-4f2d-ecdb-f2a41453c18e"
      },
      "outputs": [
        {
          "name": "stdout",
          "output_type": "stream",
          "text": [
            "Continuous Feature Count 8\n"
          ]
        }
      ],
      "source": [
        "continuous_feature=[feature for feature in model_data.columns if model_data[feature].dtype!='O']\n",
        "print('Continuous Feature Count {}'.format(len(continuous_feature)))"
      ]
    },
    {
      "cell_type": "code",
      "execution_count": null,
      "metadata": {
        "colab": {
          "base_uri": "https://localhost:8080/",
          "height": 206
        },
        "id": "azqWT9I8mXHH",
        "outputId": "33db7422-5204-429a-9a4e-f80970cf5ef8"
      },
      "outputs": [
        {
          "data": {
            "text/html": [
              "\n",
              "\n",
              "  <div id=\"df-1433d3ea-86a9-46be-aff5-4d0936dd9689\">\n",
              "    <div class=\"colab-df-container\">\n",
              "      <div>\n",
              "<style scoped>\n",
              "    .dataframe tbody tr th:only-of-type {\n",
              "        vertical-align: middle;\n",
              "    }\n",
              "\n",
              "    .dataframe tbody tr th {\n",
              "        vertical-align: top;\n",
              "    }\n",
              "\n",
              "    .dataframe thead th {\n",
              "        text-align: right;\n",
              "    }\n",
              "</style>\n",
              "<table border=\"1\" class=\"dataframe\">\n",
              "  <thead>\n",
              "    <tr style=\"text-align: right;\">\n",
              "      <th></th>\n",
              "      <th>CDP</th>\n",
              "      <th>GTEP</th>\n",
              "      <th>TIT</th>\n",
              "      <th>TAT</th>\n",
              "      <th>AFDP</th>\n",
              "      <th>CO</th>\n",
              "      <th>AT</th>\n",
              "      <th>TEY</th>\n",
              "    </tr>\n",
              "  </thead>\n",
              "  <tbody>\n",
              "    <tr>\n",
              "      <th>0</th>\n",
              "      <td>-1.357331</td>\n",
              "      <td>-1.379101</td>\n",
              "      <td>-1.488376</td>\n",
              "      <td>0.585240</td>\n",
              "      <td>-0.921232</td>\n",
              "      <td>0.532012</td>\n",
              "      <td>-1.439778</td>\n",
              "      <td>-1.231172</td>\n",
              "    </tr>\n",
              "    <tr>\n",
              "      <th>1</th>\n",
              "      <td>-1.363676</td>\n",
              "      <td>-1.363528</td>\n",
              "      <td>-1.482325</td>\n",
              "      <td>0.585240</td>\n",
              "      <td>-0.921495</td>\n",
              "      <td>0.568733</td>\n",
              "      <td>-1.449601</td>\n",
              "      <td>-1.229909</td>\n",
              "    </tr>\n",
              "    <tr>\n",
              "      <th>2</th>\n",
              "      <td>-1.360957</td>\n",
              "      <td>-1.351309</td>\n",
              "      <td>-1.476275</td>\n",
              "      <td>0.568715</td>\n",
              "      <td>-0.944385</td>\n",
              "      <td>0.552938</td>\n",
              "      <td>-1.434721</td>\n",
              "      <td>-1.230541</td>\n",
              "    </tr>\n",
              "    <tr>\n",
              "      <th>3</th>\n",
              "      <td>-1.356424</td>\n",
              "      <td>-1.348194</td>\n",
              "      <td>-1.464173</td>\n",
              "      <td>0.583969</td>\n",
              "      <td>-0.946884</td>\n",
              "      <td>0.548933</td>\n",
              "      <td>-1.413702</td>\n",
              "      <td>-1.229909</td>\n",
              "    </tr>\n",
              "    <tr>\n",
              "      <th>4</th>\n",
              "      <td>-1.350985</td>\n",
              "      <td>-1.354663</td>\n",
              "      <td>-1.458123</td>\n",
              "      <td>0.582698</td>\n",
              "      <td>-0.924389</td>\n",
              "      <td>0.574179</td>\n",
              "      <td>-1.368693</td>\n",
              "      <td>-1.229909</td>\n",
              "    </tr>\n",
              "  </tbody>\n",
              "</table>\n",
              "</div>\n",
              "      <button class=\"colab-df-convert\" onclick=\"convertToInteractive('df-1433d3ea-86a9-46be-aff5-4d0936dd9689')\"\n",
              "              title=\"Convert this dataframe to an interactive table.\"\n",
              "              style=\"display:none;\">\n",
              "\n",
              "  <svg xmlns=\"http://www.w3.org/2000/svg\" height=\"24px\"viewBox=\"0 0 24 24\"\n",
              "       width=\"24px\">\n",
              "    <path d=\"M0 0h24v24H0V0z\" fill=\"none\"/>\n",
              "    <path d=\"M18.56 5.44l.94 2.06.94-2.06 2.06-.94-2.06-.94-.94-2.06-.94 2.06-2.06.94zm-11 1L8.5 8.5l.94-2.06 2.06-.94-2.06-.94L8.5 2.5l-.94 2.06-2.06.94zm10 10l.94 2.06.94-2.06 2.06-.94-2.06-.94-.94-2.06-.94 2.06-2.06.94z\"/><path d=\"M17.41 7.96l-1.37-1.37c-.4-.4-.92-.59-1.43-.59-.52 0-1.04.2-1.43.59L10.3 9.45l-7.72 7.72c-.78.78-.78 2.05 0 2.83L4 21.41c.39.39.9.59 1.41.59.51 0 1.02-.2 1.41-.59l7.78-7.78 2.81-2.81c.8-.78.8-2.07 0-2.86zM5.41 20L4 18.59l7.72-7.72 1.47 1.35L5.41 20z\"/>\n",
              "  </svg>\n",
              "      </button>\n",
              "\n",
              "\n",
              "\n",
              "    <div id=\"df-0f2b2349-eb3b-4049-9193-8ab360876c1b\">\n",
              "      <button class=\"colab-df-quickchart\" onclick=\"quickchart('df-0f2b2349-eb3b-4049-9193-8ab360876c1b')\"\n",
              "              title=\"Suggest charts.\"\n",
              "              style=\"display:none;\">\n",
              "\n",
              "<svg xmlns=\"http://www.w3.org/2000/svg\" height=\"24px\"viewBox=\"0 0 24 24\"\n",
              "     width=\"24px\">\n",
              "    <g>\n",
              "        <path d=\"M19 3H5c-1.1 0-2 .9-2 2v14c0 1.1.9 2 2 2h14c1.1 0 2-.9 2-2V5c0-1.1-.9-2-2-2zM9 17H7v-7h2v7zm4 0h-2V7h2v10zm4 0h-2v-4h2v4z\"/>\n",
              "    </g>\n",
              "</svg>\n",
              "      </button>\n",
              "    </div>\n",
              "\n",
              "<style>\n",
              "  .colab-df-quickchart {\n",
              "    background-color: #E8F0FE;\n",
              "    border: none;\n",
              "    border-radius: 50%;\n",
              "    cursor: pointer;\n",
              "    display: none;\n",
              "    fill: #1967D2;\n",
              "    height: 32px;\n",
              "    padding: 0 0 0 0;\n",
              "    width: 32px;\n",
              "  }\n",
              "\n",
              "  .colab-df-quickchart:hover {\n",
              "    background-color: #E2EBFA;\n",
              "    box-shadow: 0px 1px 2px rgba(60, 64, 67, 0.3), 0px 1px 3px 1px rgba(60, 64, 67, 0.15);\n",
              "    fill: #174EA6;\n",
              "  }\n",
              "\n",
              "  [theme=dark] .colab-df-quickchart {\n",
              "    background-color: #3B4455;\n",
              "    fill: #D2E3FC;\n",
              "  }\n",
              "\n",
              "  [theme=dark] .colab-df-quickchart:hover {\n",
              "    background-color: #434B5C;\n",
              "    box-shadow: 0px 1px 3px 1px rgba(0, 0, 0, 0.15);\n",
              "    filter: drop-shadow(0px 1px 2px rgba(0, 0, 0, 0.3));\n",
              "    fill: #FFFFFF;\n",
              "  }\n",
              "</style>\n",
              "\n",
              "    <script>\n",
              "      async function quickchart(key) {\n",
              "        const containerElement = document.querySelector('#' + key);\n",
              "        const charts = await google.colab.kernel.invokeFunction(\n",
              "            'suggestCharts', [key], {});\n",
              "      }\n",
              "    </script>\n",
              "\n",
              "      <script>\n",
              "\n",
              "function displayQuickchartButton(domScope) {\n",
              "  let quickchartButtonEl =\n",
              "    domScope.querySelector('#df-0f2b2349-eb3b-4049-9193-8ab360876c1b button.colab-df-quickchart');\n",
              "  quickchartButtonEl.style.display =\n",
              "    google.colab.kernel.accessAllowed ? 'block' : 'none';\n",
              "}\n",
              "\n",
              "        displayQuickchartButton(document);\n",
              "      </script>\n",
              "      <style>\n",
              "    .colab-df-container {\n",
              "      display:flex;\n",
              "      flex-wrap:wrap;\n",
              "      gap: 12px;\n",
              "    }\n",
              "\n",
              "    .colab-df-convert {\n",
              "      background-color: #E8F0FE;\n",
              "      border: none;\n",
              "      border-radius: 50%;\n",
              "      cursor: pointer;\n",
              "      display: none;\n",
              "      fill: #1967D2;\n",
              "      height: 32px;\n",
              "      padding: 0 0 0 0;\n",
              "      width: 32px;\n",
              "    }\n",
              "\n",
              "    .colab-df-convert:hover {\n",
              "      background-color: #E2EBFA;\n",
              "      box-shadow: 0px 1px 2px rgba(60, 64, 67, 0.3), 0px 1px 3px 1px rgba(60, 64, 67, 0.15);\n",
              "      fill: #174EA6;\n",
              "    }\n",
              "\n",
              "    [theme=dark] .colab-df-convert {\n",
              "      background-color: #3B4455;\n",
              "      fill: #D2E3FC;\n",
              "    }\n",
              "\n",
              "    [theme=dark] .colab-df-convert:hover {\n",
              "      background-color: #434B5C;\n",
              "      box-shadow: 0px 1px 3px 1px rgba(0, 0, 0, 0.15);\n",
              "      filter: drop-shadow(0px 1px 2px rgba(0, 0, 0, 0.3));\n",
              "      fill: #FFFFFF;\n",
              "    }\n",
              "  </style>\n",
              "\n",
              "      <script>\n",
              "        const buttonEl =\n",
              "          document.querySelector('#df-1433d3ea-86a9-46be-aff5-4d0936dd9689 button.colab-df-convert');\n",
              "        buttonEl.style.display =\n",
              "          google.colab.kernel.accessAllowed ? 'block' : 'none';\n",
              "\n",
              "        async function convertToInteractive(key) {\n",
              "          const element = document.querySelector('#df-1433d3ea-86a9-46be-aff5-4d0936dd9689');\n",
              "          const dataTable =\n",
              "            await google.colab.kernel.invokeFunction('convertToInteractive',\n",
              "                                                     [key], {});\n",
              "          if (!dataTable) return;\n",
              "\n",
              "          const docLinkHtml = 'Like what you see? Visit the ' +\n",
              "            '<a target=\"_blank\" href=https://colab.research.google.com/notebooks/data_table.ipynb>data table notebook</a>'\n",
              "            + ' to learn more about interactive tables.';\n",
              "          element.innerHTML = '';\n",
              "          dataTable['output_type'] = 'display_data';\n",
              "          await google.colab.output.renderOutput(dataTable, element);\n",
              "          const docLink = document.createElement('div');\n",
              "          docLink.innerHTML = docLinkHtml;\n",
              "          element.appendChild(docLink);\n",
              "        }\n",
              "      </script>\n",
              "    </div>\n",
              "  </div>\n"
            ],
            "text/plain": [
              "        CDP      GTEP       TIT       TAT      AFDP        CO        AT  \\\n",
              "0 -1.357331 -1.379101 -1.488376  0.585240 -0.921232  0.532012 -1.439778   \n",
              "1 -1.363676 -1.363528 -1.482325  0.585240 -0.921495  0.568733 -1.449601   \n",
              "2 -1.360957 -1.351309 -1.476275  0.568715 -0.944385  0.552938 -1.434721   \n",
              "3 -1.356424 -1.348194 -1.464173  0.583969 -0.946884  0.548933 -1.413702   \n",
              "4 -1.350985 -1.354663 -1.458123  0.582698 -0.924389  0.574179 -1.368693   \n",
              "\n",
              "        TEY  \n",
              "0 -1.231172  \n",
              "1 -1.229909  \n",
              "2 -1.230541  \n",
              "3 -1.229909  \n",
              "4 -1.229909  "
            ]
          },
          "execution_count": 43,
          "metadata": {},
          "output_type": "execute_result"
        }
      ],
      "source": [
        "df_standard_scaled = model_data.copy()\n",
        "features = df_standard_scaled[continuous_feature]\n",
        "from sklearn.preprocessing import StandardScaler\n",
        "scaler = StandardScaler()\n",
        "\n",
        "df_standard_scaled[continuous_feature] = scaler.fit_transform(features.values)\n",
        "df_standard_scaled.head()"
      ]
    },
    {
      "cell_type": "code",
      "execution_count": null,
      "metadata": {
        "colab": {
          "base_uri": "https://localhost:8080/"
        },
        "id": "eIwIBoKfm3tN",
        "outputId": "2c885f5c-77ef-4409-b4fe-51a77a09535c"
      },
      "outputs": [
        {
          "name": "stdout",
          "output_type": "stream",
          "text": [
            "Mean\n",
            " CDP     0.0\n",
            "GTEP   -0.0\n",
            "TIT    -0.0\n",
            "TAT     0.0\n",
            "AFDP    0.0\n",
            "CO      0.0\n",
            "AT      0.0\n",
            "TEY     0.0\n",
            "dtype: float64\n"
          ]
        }
      ],
      "source": [
        "print('Mean' '\\n',np.round(df_standard_scaled.mean(),1))\n"
      ]
    },
    {
      "cell_type": "code",
      "execution_count": null,
      "metadata": {
        "colab": {
          "base_uri": "https://localhost:8080/"
        },
        "id": "x2H91jQLm6Dh",
        "outputId": "3a569a27-fb14-4e23-efb6-d2cc25914a06"
      },
      "outputs": [
        {
          "name": "stdout",
          "output_type": "stream",
          "text": [
            "Standard Devaition \n",
            " CDP     1.0\n",
            "GTEP    1.0\n",
            "TIT     1.0\n",
            "TAT     1.0\n",
            "AFDP    1.0\n",
            "CO      1.0\n",
            "AT      1.0\n",
            "TEY     1.0\n",
            "dtype: float64\n"
          ]
        }
      ],
      "source": [
        "print('Standard Devaition','\\n',np.round(df_standard_scaled.std(),1))\n"
      ]
    },
    {
      "cell_type": "markdown",
      "metadata": {
        "id": "L4cplbxSm_NJ"
      },
      "source": [
        "Test Train Split With Imbalanced Dataset"
      ]
    },
    {
      "cell_type": "code",
      "execution_count": null,
      "metadata": {
        "id": "7FUgjOkEm9EU"
      },
      "outputs": [],
      "source": [
        "x = df_standard_scaled.drop('TEY',axis=1)\n",
        "y = df_standard_scaled[['TEY']]"
      ]
    },
    {
      "cell_type": "code",
      "execution_count": null,
      "metadata": {
        "id": "mc2aA74bnBoz"
      },
      "outputs": [],
      "source": [
        "x_train, x_test, y_train, y_test = train_test_split(x, y, test_size=0.3, random_state=3)\n"
      ]
    },
    {
      "cell_type": "markdown",
      "metadata": {
        "id": "cVsGE6nQnFCv"
      },
      "source": [
        "Hyperparameter Tuning\n",
        "\n",
        "Hyperparameter Tuning: Optimal Learning rate ,Number of Layers and Neurons"
      ]
    },
    {
      "cell_type": "code",
      "execution_count": null,
      "metadata": {
        "id": "ykB883FRnDT1"
      },
      "outputs": [],
      "source": [
        "def build_model(hp):\n",
        "    model =Sequential()\n",
        "    for i in range(hp.Int('num_layers', 2, 20)):\n",
        "        model.add(layers.Dense(units = hp.Int('units_' + str(i), min_value=32, max_value=100, step=32), activation='relu'))\n",
        "\n",
        "    model.add(layers.Dense(1, activation='linear'))\n",
        "\n",
        "    model.compile(optimizer=keras.optimizers.Adam(hp.Choice('learning_rate', [1e-2, 1e-3, 1e-4])),\n",
        "        loss='mean_absolute_error', metrics=['mean_absolute_error'])\n",
        "    return model"
      ]
    },
    {
      "cell_type": "code",
      "execution_count": null,
      "metadata": {
        "id": "jZtzayAEnK2L"
      },
      "outputs": [],
      "source": [
        "from keras_tuner.tuners import RandomSearch\n"
      ]
    },
    {
      "cell_type": "code",
      "execution_count": null,
      "metadata": {
        "colab": {
          "base_uri": "https://localhost:8080/"
        },
        "id": "bcr10iagnMgz",
        "outputId": "4a9fa516-4615-419f-974d-aa877e80964f"
      },
      "outputs": [
        {
          "name": "stdout",
          "output_type": "stream",
          "text": [
            "Search space summary\n",
            "Default search space size: 22\n",
            "num_layers (Int)\n",
            "{'default': None, 'conditions': [], 'min_value': 2, 'max_value': 20, 'step': 1, 'sampling': 'linear'}\n",
            "units_0 (Int)\n",
            "{'default': None, 'conditions': [], 'min_value': 32, 'max_value': 100, 'step': 32, 'sampling': 'linear'}\n",
            "units_1 (Int)\n",
            "{'default': None, 'conditions': [], 'min_value': 32, 'max_value': 100, 'step': 32, 'sampling': 'linear'}\n",
            "learning_rate (Choice)\n",
            "{'default': 0.01, 'conditions': [], 'values': [0.01, 0.001, 0.0001], 'ordered': True}\n",
            "units_2 (Int)\n",
            "{'default': None, 'conditions': [], 'min_value': 32, 'max_value': 100, 'step': 32, 'sampling': 'linear'}\n",
            "units_3 (Int)\n",
            "{'default': None, 'conditions': [], 'min_value': 32, 'max_value': 100, 'step': 32, 'sampling': 'linear'}\n",
            "units_4 (Int)\n",
            "{'default': None, 'conditions': [], 'min_value': 32, 'max_value': 100, 'step': 32, 'sampling': 'linear'}\n",
            "units_5 (Int)\n",
            "{'default': None, 'conditions': [], 'min_value': 32, 'max_value': 100, 'step': 32, 'sampling': 'linear'}\n",
            "units_6 (Int)\n",
            "{'default': None, 'conditions': [], 'min_value': 32, 'max_value': 100, 'step': 32, 'sampling': 'linear'}\n",
            "units_7 (Int)\n",
            "{'default': None, 'conditions': [], 'min_value': 32, 'max_value': 100, 'step': 32, 'sampling': 'linear'}\n",
            "units_8 (Int)\n",
            "{'default': None, 'conditions': [], 'min_value': 32, 'max_value': 100, 'step': 32, 'sampling': 'linear'}\n",
            "units_9 (Int)\n",
            "{'default': None, 'conditions': [], 'min_value': 32, 'max_value': 100, 'step': 32, 'sampling': 'linear'}\n",
            "units_10 (Int)\n",
            "{'default': None, 'conditions': [], 'min_value': 32, 'max_value': 100, 'step': 32, 'sampling': 'linear'}\n",
            "units_11 (Int)\n",
            "{'default': None, 'conditions': [], 'min_value': 32, 'max_value': 100, 'step': 32, 'sampling': 'linear'}\n",
            "units_12 (Int)\n",
            "{'default': None, 'conditions': [], 'min_value': 32, 'max_value': 100, 'step': 32, 'sampling': 'linear'}\n",
            "units_13 (Int)\n",
            "{'default': None, 'conditions': [], 'min_value': 32, 'max_value': 100, 'step': 32, 'sampling': 'linear'}\n",
            "units_14 (Int)\n",
            "{'default': None, 'conditions': [], 'min_value': 32, 'max_value': 100, 'step': 32, 'sampling': 'linear'}\n",
            "units_15 (Int)\n",
            "{'default': None, 'conditions': [], 'min_value': 32, 'max_value': 100, 'step': 32, 'sampling': 'linear'}\n",
            "units_16 (Int)\n",
            "{'default': None, 'conditions': [], 'min_value': 32, 'max_value': 100, 'step': 32, 'sampling': 'linear'}\n",
            "units_17 (Int)\n",
            "{'default': None, 'conditions': [], 'min_value': 32, 'max_value': 100, 'step': 32, 'sampling': 'linear'}\n",
            "units_18 (Int)\n",
            "{'default': None, 'conditions': [], 'min_value': 32, 'max_value': 100, 'step': 32, 'sampling': 'linear'}\n",
            "units_19 (Int)\n",
            "{'default': None, 'conditions': [], 'min_value': 32, 'max_value': 100, 'step': 32, 'sampling': 'linear'}\n"
          ]
        }
      ],
      "source": [
        "tuner = RandomSearch(build_model, objective= 'val_mean_absolute_error', max_trials= 5,\n",
        "                     executions_per_trial= 3, directory= 'project', project_name= 'Gas Turbine')\n",
        "tuner.search_space_summary()"
      ]
    },
    {
      "cell_type": "code",
      "execution_count": null,
      "metadata": {
        "id": "AsJPXYztnOMi"
      },
      "outputs": [],
      "source": [
        "tuner.search(x_train, y_train,epochs=100,validation_data=(x_test, y_test))\n"
      ]
    },
    {
      "cell_type": "code",
      "execution_count": null,
      "metadata": {
        "colab": {
          "base_uri": "https://localhost:8080/"
        },
        "id": "BOjcpE-nnQkj",
        "outputId": "82276e5b-3d71-4eba-ed2f-f57ee7357aba"
      },
      "outputs": [
        {
          "name": "stdout",
          "output_type": "stream",
          "text": [
            "Results summary\n",
            "Results in project/Gas Turbine\n",
            "Showing 10 best trials\n",
            "Objective(name=\"val_mean_absolute_error\", direction=\"min\")\n",
            "\n",
            "Trial 3 summary\n",
            "Hyperparameters:\n",
            "num_layers: 11\n",
            "units_0: 96\n",
            "units_1: 32\n",
            "learning_rate: 0.0001\n",
            "units_2: 32\n",
            "units_3: 96\n",
            "units_4: 64\n",
            "units_5: 64\n",
            "units_6: 64\n",
            "units_7: 96\n",
            "units_8: 64\n",
            "units_9: 32\n",
            "units_10: 64\n",
            "units_11: 96\n",
            "units_12: 32\n",
            "units_13: 96\n",
            "units_14: 32\n",
            "units_15: 32\n",
            "units_16: 96\n",
            "units_17: 96\n",
            "units_18: 96\n",
            "units_19: 64\n",
            "Score: 0.02416672185063362\n",
            "\n",
            "Trial 1 summary\n",
            "Hyperparameters:\n",
            "num_layers: 10\n",
            "units_0: 32\n",
            "units_1: 96\n",
            "learning_rate: 0.001\n",
            "units_2: 96\n",
            "units_3: 32\n",
            "units_4: 64\n",
            "units_5: 96\n",
            "units_6: 64\n",
            "units_7: 96\n",
            "units_8: 32\n",
            "units_9: 96\n",
            "units_10: 96\n",
            "units_11: 32\n",
            "units_12: 64\n",
            "units_13: 32\n",
            "units_14: 64\n",
            "units_15: 64\n",
            "units_16: 96\n",
            "units_17: 32\n",
            "units_18: 96\n",
            "units_19: 32\n",
            "Score: 0.024335563803712528\n",
            "\n",
            "Trial 0 summary\n",
            "Hyperparameters:\n",
            "num_layers: 20\n",
            "units_0: 64\n",
            "units_1: 32\n",
            "learning_rate: 0.001\n",
            "units_2: 32\n",
            "units_3: 32\n",
            "units_4: 32\n",
            "units_5: 32\n",
            "units_6: 32\n",
            "units_7: 32\n",
            "units_8: 32\n",
            "units_9: 32\n",
            "units_10: 32\n",
            "units_11: 32\n",
            "units_12: 32\n",
            "units_13: 32\n",
            "units_14: 32\n",
            "units_15: 32\n",
            "units_16: 32\n",
            "units_17: 32\n",
            "units_18: 32\n",
            "units_19: 32\n",
            "Score: 0.025129076714317005\n",
            "\n",
            "Trial 2 summary\n",
            "Hyperparameters:\n",
            "num_layers: 3\n",
            "units_0: 96\n",
            "units_1: 96\n",
            "learning_rate: 0.01\n",
            "units_2: 64\n",
            "units_3: 64\n",
            "units_4: 32\n",
            "units_5: 64\n",
            "units_6: 96\n",
            "units_7: 96\n",
            "units_8: 64\n",
            "units_9: 32\n",
            "units_10: 32\n",
            "units_11: 32\n",
            "units_12: 32\n",
            "units_13: 96\n",
            "units_14: 64\n",
            "units_15: 64\n",
            "units_16: 64\n",
            "units_17: 32\n",
            "units_18: 32\n",
            "units_19: 64\n",
            "Score: 0.026668095961213112\n",
            "\n",
            "Trial 4 summary\n",
            "Hyperparameters:\n",
            "num_layers: 19\n",
            "units_0: 96\n",
            "units_1: 64\n",
            "learning_rate: 0.01\n",
            "units_2: 96\n",
            "units_3: 96\n",
            "units_4: 32\n",
            "units_5: 96\n",
            "units_6: 96\n",
            "units_7: 96\n",
            "units_8: 32\n",
            "units_9: 64\n",
            "units_10: 96\n",
            "units_11: 96\n",
            "units_12: 64\n",
            "units_13: 96\n",
            "units_14: 96\n",
            "units_15: 64\n",
            "units_16: 32\n",
            "units_17: 96\n",
            "units_18: 96\n",
            "units_19: 96\n",
            "Score: 0.7184455792109171\n"
          ]
        }
      ],
      "source": [
        "tuner.results_summary()"
      ]
    },
    {
      "cell_type": "markdown",
      "metadata": {
        "id": "wZQ0a--SnUVT"
      },
      "source": [
        " Hyperparameter Tuning: Optimal Batch_size, Number of Epochs"
      ]
    },
    {
      "cell_type": "code",
      "execution_count": null,
      "metadata": {
        "id": "7KeiUhSGnRzO"
      },
      "outputs": [],
      "source": [
        "def create_model():\n",
        "    model1 = Sequential()\n",
        "    model1.add(Dense(32,input_dim=7,activation='relu'))\n",
        "    model1.add(Dense(64,activation='relu'))\n",
        "    model1.add(Dense(32,activation=\"relu\"))\n",
        "    model1.add(Dense(64,activation=\"relu\"))\n",
        "    model1.add(Dense(32,activation=\"relu\"))\n",
        "    model1.add(Dense(32,activation=\"relu\"))\n",
        "    model1.add(Dense(64,activation=\"relu\"))\n",
        "    model1.add(Dense(64,activation=\"relu\"))\n",
        "    model1.add(Dense(units=1,activation=\"linear\"))\n",
        "\n",
        "    adam=Adam(learning_rate=0.001)\n",
        "    model1.compile(loss= 'mean_absolute_error', optimizer= adam, metrics= [\"mean_absolute_error\"])\n",
        "    return model1"
      ]
    },
    {
      "cell_type": "code",
      "execution_count": null,
      "metadata": {
        "id": "G3xmJRj1nWZF"
      },
      "outputs": [],
      "source": [
        "model1     = KerasRegressor(build_fn=create_model,verbose=0)\n",
        "batch_size = [20,40,50]\n",
        "epochs     = [50,100,200]\n",
        "param_grid = dict(batch_size= batch_size, epochs= epochs)\n",
        "grid = GridSearchCV(estimator= model1, param_grid= param_grid, cv= KFold(), verbose= 10)\n"
      ]
    },
    {
      "cell_type": "code",
      "execution_count": null,
      "metadata": {
        "colab": {
          "background_save": true,
          "base_uri": "https://localhost:8080/"
        },
        "id": "FsFQyEEZnaD_",
        "outputId": "1cf79db9-7204-4b5a-fdf3-aac782184437"
      },
      "outputs": [
        {
          "name": "stdout",
          "output_type": "stream",
          "text": [
            "Fitting 5 folds for each of 9 candidates, totalling 45 fits\n",
            "[CV 1/5; 1/9] START batch_size=20, epochs=50....................................\n",
            "[CV 1/5; 1/9] END ....batch_size=20, epochs=50;, score=-0.036 total time=  28.3s\n",
            "[CV 2/5; 1/9] START batch_size=20, epochs=50....................................\n",
            "[CV 2/5; 1/9] END ....batch_size=20, epochs=50;, score=-0.042 total time=  45.0s\n",
            "[CV 3/5; 1/9] START batch_size=20, epochs=50....................................\n",
            "[CV 3/5; 1/9] END ....batch_size=20, epochs=50;, score=-0.029 total time=  43.0s\n",
            "[CV 4/5; 1/9] START batch_size=20, epochs=50....................................\n",
            "[CV 4/5; 1/9] END ....batch_size=20, epochs=50;, score=-0.038 total time=  44.8s\n",
            "[CV 5/5; 1/9] START batch_size=20, epochs=50....................................\n",
            "[CV 5/5; 1/9] END ....batch_size=20, epochs=50;, score=-0.027 total time=  20.9s\n",
            "[CV 1/5; 2/9] START batch_size=20, epochs=100...................................\n",
            "[CV 1/5; 2/9] END ...batch_size=20, epochs=100;, score=-0.028 total time=  49.6s\n",
            "[CV 2/5; 2/9] START batch_size=20, epochs=100...................................\n",
            "[CV 2/5; 2/9] END ...batch_size=20, epochs=100;, score=-0.035 total time= 1.4min\n",
            "[CV 3/5; 2/9] START batch_size=20, epochs=100...................................\n",
            "[CV 3/5; 2/9] END ...batch_size=20, epochs=100;, score=-0.027 total time= 1.4min\n",
            "[CV 4/5; 2/9] START batch_size=20, epochs=100...................................\n",
            "[CV 4/5; 2/9] END ...batch_size=20, epochs=100;, score=-0.028 total time= 1.4min\n",
            "[CV 5/5; 2/9] START batch_size=20, epochs=100...................................\n",
            "[CV 5/5; 2/9] END ...batch_size=20, epochs=100;, score=-0.026 total time=  46.2s\n",
            "[CV 1/5; 3/9] START batch_size=20, epochs=200...................................\n",
            "[CV 1/5; 3/9] END ...batch_size=20, epochs=200;, score=-0.026 total time= 1.4min\n",
            "[CV 2/5; 3/9] START batch_size=20, epochs=200...................................\n",
            "[CV 2/5; 3/9] END ...batch_size=20, epochs=200;, score=-0.027 total time= 1.3min\n",
            "[CV 3/5; 3/9] START batch_size=20, epochs=200...................................\n",
            "[CV 3/5; 3/9] END ...batch_size=20, epochs=200;, score=-0.029 total time= 1.4min\n",
            "[CV 4/5; 3/9] START batch_size=20, epochs=200...................................\n",
            "[CV 4/5; 3/9] END ...batch_size=20, epochs=200;, score=-0.033 total time= 1.4min\n",
            "[CV 5/5; 3/9] START batch_size=20, epochs=200...................................\n",
            "[CV 5/5; 3/9] END ...batch_size=20, epochs=200;, score=-0.029 total time= 1.3min\n",
            "[CV 1/5; 4/9] START batch_size=40, epochs=50....................................\n",
            "[CV 1/5; 4/9] END ....batch_size=40, epochs=50;, score=-0.033 total time=  11.4s\n",
            "[CV 2/5; 4/9] START batch_size=40, epochs=50....................................\n",
            "[CV 2/5; 4/9] END ....batch_size=40, epochs=50;, score=-0.043 total time=  21.6s\n",
            "[CV 3/5; 4/9] START batch_size=40, epochs=50....................................\n",
            "[CV 3/5; 4/9] END ....batch_size=40, epochs=50;, score=-0.031 total time=  11.7s\n",
            "[CV 4/5; 4/9] START batch_size=40, epochs=50....................................\n",
            "[CV 4/5; 4/9] END ....batch_size=40, epochs=50;, score=-0.034 total time=  11.7s\n",
            "[CV 5/5; 4/9] START batch_size=40, epochs=50....................................\n",
            "[CV 5/5; 4/9] END ....batch_size=40, epochs=50;, score=-0.033 total time=  11.6s\n",
            "[CV 1/5; 5/9] START batch_size=40, epochs=100...................................\n",
            "[CV 1/5; 5/9] END ...batch_size=40, epochs=100;, score=-0.036 total time=  21.7s\n",
            "[CV 2/5; 5/9] START batch_size=40, epochs=100...................................\n",
            "[CV 2/5; 5/9] END ...batch_size=40, epochs=100;, score=-0.035 total time=  21.5s\n",
            "[CV 3/5; 5/9] START batch_size=40, epochs=100...................................\n",
            "[CV 3/5; 5/9] END ...batch_size=40, epochs=100;, score=-0.035 total time=  21.5s\n",
            "[CV 4/5; 5/9] START batch_size=40, epochs=100...................................\n",
            "[CV 4/5; 5/9] END ...batch_size=40, epochs=100;, score=-0.027 total time=  21.5s\n",
            "[CV 5/5; 5/9] START batch_size=40, epochs=100...................................\n",
            "[CV 5/5; 5/9] END ...batch_size=40, epochs=100;, score=-0.027 total time=  42.8s\n",
            "[CV 1/5; 6/9] START batch_size=40, epochs=200...................................\n",
            "[CV 1/5; 6/9] END ...batch_size=40, epochs=200;, score=-0.035 total time=  40.7s\n",
            "[CV 2/5; 6/9] START batch_size=40, epochs=200...................................\n",
            "[CV 2/5; 6/9] END ...batch_size=40, epochs=200;, score=-0.029 total time= 1.4min\n",
            "[CV 3/5; 6/9] START batch_size=40, epochs=200...................................\n",
            "[CV 3/5; 6/9] END ...batch_size=40, epochs=200;, score=-0.028 total time=  42.4s\n",
            "[CV 4/5; 6/9] START batch_size=40, epochs=200...................................\n",
            "[CV 4/5; 6/9] END ...batch_size=40, epochs=200;, score=-0.029 total time=  39.2s\n",
            "[CV 5/5; 6/9] START batch_size=40, epochs=200...................................\n",
            "[CV 5/5; 6/9] END ...batch_size=40, epochs=200;, score=-0.039 total time=  42.3s\n",
            "[CV 1/5; 7/9] START batch_size=50, epochs=50....................................\n",
            "[CV 1/5; 7/9] END ....batch_size=50, epochs=50;, score=-0.030 total time=  11.3s\n",
            "[CV 2/5; 7/9] START batch_size=50, epochs=50....................................\n",
            "[CV 2/5; 7/9] END ....batch_size=50, epochs=50;, score=-0.040 total time=   8.2s\n",
            "[CV 3/5; 7/9] START batch_size=50, epochs=50....................................\n",
            "[CV 3/5; 7/9] END ....batch_size=50, epochs=50;, score=-0.029 total time=   9.3s\n",
            "[CV 4/5; 7/9] START batch_size=50, epochs=50....................................\n",
            "[CV 4/5; 7/9] END ....batch_size=50, epochs=50;, score=-0.035 total time=  11.2s\n",
            "[CV 5/5; 7/9] START batch_size=50, epochs=50....................................\n",
            "[CV 5/5; 7/9] END ....batch_size=50, epochs=50;, score=-0.032 total time=  11.2s\n",
            "[CV 1/5; 8/9] START batch_size=50, epochs=100...................................\n",
            "[CV 1/5; 8/9] END ...batch_size=50, epochs=100;, score=-0.033 total time=  16.0s\n",
            "[CV 2/5; 8/9] START batch_size=50, epochs=100...................................\n",
            "[CV 2/5; 8/9] END ...batch_size=50, epochs=100;, score=-0.029 total time=  17.7s\n",
            "[CV 3/5; 8/9] START batch_size=50, epochs=100...................................\n",
            "[CV 3/5; 8/9] END ...batch_size=50, epochs=100;, score=-0.030 total time=  16.2s\n",
            "[CV 4/5; 8/9] START batch_size=50, epochs=100...................................\n",
            "[CV 4/5; 8/9] END ...batch_size=50, epochs=100;, score=-0.038 total time=  22.2s\n",
            "[CV 5/5; 8/9] START batch_size=50, epochs=100...................................\n",
            "[CV 5/5; 8/9] END ...batch_size=50, epochs=100;, score=-0.036 total time=  16.7s\n",
            "[CV 1/5; 9/9] START batch_size=50, epochs=200...................................\n",
            "[CV 1/5; 9/9] END ...batch_size=50, epochs=200;, score=-0.032 total time=  42.1s\n",
            "[CV 2/5; 9/9] START batch_size=50, epochs=200...................................\n",
            "[CV 2/5; 9/9] END ...batch_size=50, epochs=200;, score=-0.030 total time=  32.5s\n",
            "[CV 3/5; 9/9] START batch_size=50, epochs=200...................................\n",
            "[CV 3/5; 9/9] END ...batch_size=50, epochs=200;, score=-0.035 total time=  32.1s\n",
            "[CV 4/5; 9/9] START batch_size=50, epochs=200...................................\n",
            "[CV 4/5; 9/9] END ...batch_size=50, epochs=200;, score=-0.031 total time=  42.3s\n",
            "[CV 5/5; 9/9] START batch_size=50, epochs=200...................................\n",
            "[CV 5/5; 9/9] END ...batch_size=50, epochs=200;, score=-0.027 total time=  42.0s\n"
          ]
        }
      ],
      "source": [
        "grid_result1 = grid.fit(x_test,y_test)"
      ]
    },
    {
      "cell_type": "code",
      "execution_count": null,
      "metadata": {
        "colab": {
          "background_save": true
        },
        "id": "PK4kAQiHnbgv",
        "outputId": "e0b95d63-9f3d-44c5-f629-98b30571daf7"
      },
      "outputs": [
        {
          "name": "stdout",
          "output_type": "stream",
          "text": [
            "Best -0.028829490393400194, using {'batch_size': 20, 'epochs': 200}\n",
            "-0.0343066681176424, 0.005353123557144841 with {'batch_size': 20, 'epochs': 50}\n",
            "-0.02886206693947315, 0.003047202850791595 with {'batch_size': 20, 'epochs': 100}\n",
            "-0.028829490393400194, 0.0024486883836059665 with {'batch_size': 20, 'epochs': 200}\n",
            "-0.034825631976127626, 0.004235418460262197 with {'batch_size': 40, 'epochs': 50}\n",
            "-0.032032870873808864, 0.004191580542035874 with {'batch_size': 40, 'epochs': 100}\n",
            "-0.03206373304128647, 0.00395459356657902 with {'batch_size': 40, 'epochs': 200}\n",
            "-0.03322427161037922, 0.00414473232439403 with {'batch_size': 50, 'epochs': 50}\n",
            "-0.03326675966382027, 0.003525647058181758 with {'batch_size': 50, 'epochs': 100}\n",
            "-0.03089480772614479, 0.002597943068005621 with {'batch_size': 50, 'epochs': 200}\n"
          ]
        }
      ],
      "source": [
        "print('Best {}, using {}'.format(grid_result1.best_score_, grid_result1.best_params_))\n",
        "means  = grid_result1.cv_results_[\"mean_test_score\"]\n",
        "stds   = grid_result1.cv_results_[\"std_test_score\"]\n",
        "params = grid_result1.cv_results_[\"params\"]\n",
        "for mean,stdev,param in zip(means, stds,params):\n",
        "    print(\"{}, {} with {}\".format(mean, stdev, param))"
      ]
    },
    {
      "cell_type": "markdown",
      "metadata": {
        "id": "cfe8_9lknkew"
      },
      "source": [
        " Hyperparameter Tuning: Optimal Droupout rate"
      ]
    },
    {
      "cell_type": "code",
      "execution_count": null,
      "metadata": {
        "colab": {
          "background_save": true
        },
        "id": "VIre5aRvnh7_"
      },
      "outputs": [],
      "source": [
        "def create_model(dropout_rate):\n",
        "    model2 = Sequential()\n",
        "    model2.add(Dense(32,input_dim=7,activation='relu'))\n",
        "    model2.add(Dense(64,activation='relu'))\n",
        "    model2.add(Dense(32,activation=\"relu\"))\n",
        "    model2.add(Dense(64,activation=\"relu\"))\n",
        "    model2.add(Dense(32,activation=\"relu\"))\n",
        "    model2.add(Dense(32,activation=\"relu\"))\n",
        "    model2.add(Dense(64,activation=\"relu\"))\n",
        "    model2.add(Dense(64,activation=\"relu\"))\n",
        "    model2.add(Dense(units=1,activation=\"linear\"))\n",
        "\n",
        "    adam = Adam(lr=0.001)\n",
        "    model2.compile(loss= 'mean_absolute_error', optimizer= adam, metrics= [\"mean_absolute_error\"])\n",
        "    return model2"
      ]
    },
    {
      "cell_type": "code",
      "execution_count": null,
      "metadata": {
        "colab": {
          "background_save": true
        },
        "id": "4Koqx3jhnm5N"
      },
      "outputs": [],
      "source": [
        "model2       = KerasRegressor(build_fn= create_model, batch_size= 40, epochs= 200, verbose= 0)\n",
        "dropout_rate = [0.0,0.1,0.2,0.3,0.4,0.5]\n",
        "param_grid   = dict(dropout_rate= dropout_rate)\n",
        "grid2        = GridSearchCV(estimator= model2, param_grid= param_grid, cv= KFold(), verbose= 10)\n"
      ]
    },
    {
      "cell_type": "code",
      "execution_count": 59,
      "metadata": {
        "id": "_2wSgcTEnqQk",
        "colab": {
          "base_uri": "https://localhost:8080/"
        },
        "outputId": "9400ad14-eff0-4d74-cfb8-79d66c6d5bbe"
      },
      "outputs": [
        {
          "output_type": "stream",
          "name": "stdout",
          "text": [
            "Fitting 5 folds for each of 6 candidates, totalling 30 fits\n",
            "[CV 1/5; 1/6] START dropout_rate=0.0............................................\n",
            "[CV 1/5; 1/6] END ............dropout_rate=0.0;, score=-0.028 total time=  42.2s\n",
            "[CV 2/5; 1/6] START dropout_rate=0.0............................................\n",
            "[CV 2/5; 1/6] END ............dropout_rate=0.0;, score=-0.030 total time=  42.0s\n",
            "[CV 3/5; 1/6] START dropout_rate=0.0............................................\n",
            "[CV 3/5; 1/6] END ............dropout_rate=0.0;, score=-0.034 total time=  42.0s\n",
            "[CV 4/5; 1/6] START dropout_rate=0.0............................................\n",
            "[CV 4/5; 1/6] END ............dropout_rate=0.0;, score=-0.035 total time=  42.0s\n",
            "[CV 5/5; 1/6] START dropout_rate=0.0............................................\n",
            "[CV 5/5; 1/6] END ............dropout_rate=0.0;, score=-0.036 total time=  39.6s\n",
            "[CV 1/5; 2/6] START dropout_rate=0.1............................................\n",
            "[CV 1/5; 2/6] END ............dropout_rate=0.1;, score=-0.031 total time=  39.0s\n",
            "[CV 2/5; 2/6] START dropout_rate=0.1............................................\n",
            "[CV 2/5; 2/6] END ............dropout_rate=0.1;, score=-0.031 total time=  39.2s\n",
            "[CV 3/5; 2/6] START dropout_rate=0.1............................................\n",
            "[CV 3/5; 2/6] END ............dropout_rate=0.1;, score=-0.033 total time=  42.7s\n",
            "[CV 4/5; 2/6] START dropout_rate=0.1............................................\n",
            "[CV 4/5; 2/6] END ............dropout_rate=0.1;, score=-0.031 total time=  42.3s\n",
            "[CV 5/5; 2/6] START dropout_rate=0.1............................................\n",
            "[CV 5/5; 2/6] END ............dropout_rate=0.1;, score=-0.033 total time=  39.6s\n",
            "[CV 1/5; 3/6] START dropout_rate=0.2............................................\n",
            "[CV 1/5; 3/6] END ............dropout_rate=0.2;, score=-0.029 total time=  39.9s\n",
            "[CV 2/5; 3/6] START dropout_rate=0.2............................................\n",
            "[CV 2/5; 3/6] END ............dropout_rate=0.2;, score=-0.034 total time=  39.4s\n",
            "[CV 3/5; 3/6] START dropout_rate=0.2............................................\n",
            "[CV 3/5; 3/6] END ............dropout_rate=0.2;, score=-0.028 total time=  41.9s\n",
            "[CV 4/5; 3/6] START dropout_rate=0.2............................................\n",
            "[CV 4/5; 3/6] END ............dropout_rate=0.2;, score=-0.027 total time=  42.0s\n",
            "[CV 5/5; 3/6] START dropout_rate=0.2............................................\n",
            "[CV 5/5; 3/6] END ............dropout_rate=0.2;, score=-0.036 total time=  41.9s\n",
            "[CV 1/5; 4/6] START dropout_rate=0.3............................................\n",
            "[CV 1/5; 4/6] END ............dropout_rate=0.3;, score=-0.028 total time=  38.8s\n",
            "[CV 2/5; 4/6] START dropout_rate=0.3............................................\n",
            "[CV 2/5; 4/6] END ............dropout_rate=0.3;, score=-0.029 total time=  39.3s\n",
            "[CV 3/5; 4/6] START dropout_rate=0.3............................................\n",
            "[CV 3/5; 4/6] END ............dropout_rate=0.3;, score=-0.028 total time=  41.9s\n",
            "[CV 4/5; 4/6] START dropout_rate=0.3............................................\n",
            "[CV 4/5; 4/6] END ............dropout_rate=0.3;, score=-0.030 total time=  39.1s\n",
            "[CV 5/5; 4/6] START dropout_rate=0.3............................................\n",
            "[CV 5/5; 4/6] END ............dropout_rate=0.3;, score=-0.025 total time=  39.2s\n",
            "[CV 1/5; 5/6] START dropout_rate=0.4............................................\n",
            "[CV 1/5; 5/6] END ............dropout_rate=0.4;, score=-0.029 total time=  42.0s\n",
            "[CV 2/5; 5/6] START dropout_rate=0.4............................................\n",
            "[CV 2/5; 5/6] END ............dropout_rate=0.4;, score=-0.027 total time=  42.8s\n",
            "[CV 3/5; 5/6] START dropout_rate=0.4............................................\n",
            "[CV 3/5; 5/6] END ............dropout_rate=0.4;, score=-0.032 total time=  40.4s\n",
            "[CV 4/5; 5/6] START dropout_rate=0.4............................................\n",
            "[CV 4/5; 5/6] END ............dropout_rate=0.4;, score=-0.029 total time=  42.0s\n",
            "[CV 5/5; 5/6] START dropout_rate=0.4............................................\n",
            "[CV 5/5; 5/6] END ............dropout_rate=0.4;, score=-0.032 total time=  39.5s\n",
            "[CV 1/5; 6/6] START dropout_rate=0.5............................................\n",
            "[CV 1/5; 6/6] END ............dropout_rate=0.5;, score=-0.026 total time=  39.9s\n",
            "[CV 2/5; 6/6] START dropout_rate=0.5............................................\n",
            "[CV 2/5; 6/6] END ............dropout_rate=0.5;, score=-0.033 total time=  41.9s\n",
            "[CV 3/5; 6/6] START dropout_rate=0.5............................................\n",
            "[CV 3/5; 6/6] END ............dropout_rate=0.5;, score=-0.027 total time=  39.4s\n",
            "[CV 4/5; 6/6] START dropout_rate=0.5............................................\n",
            "[CV 4/5; 6/6] END ............dropout_rate=0.5;, score=-0.030 total time=  39.8s\n",
            "[CV 5/5; 6/6] START dropout_rate=0.5............................................\n",
            "[CV 5/5; 6/6] END ............dropout_rate=0.5;, score=-0.030 total time=  42.0s\n"
          ]
        }
      ],
      "source": [
        "grid_result2 = grid2.fit(x_test, y_test)"
      ]
    },
    {
      "cell_type": "code",
      "execution_count": 60,
      "metadata": {
        "id": "2wBnIWgznq4B",
        "colab": {
          "base_uri": "https://localhost:8080/"
        },
        "outputId": "00c5a732-9014-440b-8aa5-1f97173d3ce9"
      },
      "outputs": [
        {
          "metadata": {
            "tags": null
          },
          "name": "stdout",
          "output_type": "stream",
          "text": [
            "Best -0.028100264444947242, using {'dropout_rate': 0.3}\n",
            "-0.032365497946739194, 0.0031536483525574873 with {'dropout_rate': 0.0}\n",
            "-0.03200099654495716, 0.0009150334404442238 with {'dropout_rate': 0.1}\n",
            "-0.03094221241772175, 0.0035251715859918884 with {'dropout_rate': 0.2}\n",
            "-0.028100264444947242, 0.0017718307944778258 with {'dropout_rate': 0.3}\n",
            "-0.029889223352074622, 0.001860305809409165 with {'dropout_rate': 0.4}\n",
            "-0.029158506914973258, 0.002327450763890511 with {'dropout_rate': 0.5}\n"
          ]
        }
      ],
      "source": [
        "print('Best {}, using {}'.format(grid_result2.best_score_, grid_result2.best_params_))\n",
        "means = grid_result2.cv_results_[\"mean_test_score\"]\n",
        "stds  = grid_result2.cv_results_[\"std_test_score\"]\n",
        "params = grid_result2.cv_results_[\"params\"]\n",
        "for mean,stdev,param in zip(means, stds, params):\n",
        "    print(\"{}, {} with {}\".format(mean, stdev, param))"
      ]
    },
    {
      "cell_type": "markdown",
      "metadata": {
        "id": "RrxPr9dynu3Y"
      },
      "source": [
        "Hyperparameter Tuning: Optimal Activation Function and Kernel Initializer"
      ]
    },
    {
      "cell_type": "code",
      "execution_count": 61,
      "metadata": {
        "id": "DwpsCNSLns6A"
      },
      "outputs": [],
      "source": [
        "def create_model(activation_function,init):\n",
        "    model3 = Sequential()\n",
        "    model3.add(Dense(32,input_dim=7,activation='relu'))\n",
        "    model3.add(Dropout(0.3))\n",
        "    model3.add(Dense(64,activation='relu'))\n",
        "    model3.add(Dropout(0.3))\n",
        "    model3.add(Dense(32,activation=\"relu\"))\n",
        "    model3.add(Dropout(0.3))\n",
        "    model3.add(Dense(64,activation=\"relu\"))\n",
        "    model3.add(Dropout(0.3))\n",
        "    model3.add(Dense(32,activation=\"relu\"))\n",
        "    model3.add(Dropout(0.3))\n",
        "    model3.add(Dense(32,activation=\"relu\"))\n",
        "    model3.add(Dropout(0.3))\n",
        "    model3.add(Dense(64,activation=\"relu\"))\n",
        "    model3.add(Dropout(0.3))\n",
        "    model3.add(Dense(64,activation=\"relu\"))\n",
        "    model3.add(Dropout(0.3))\n",
        "    model3.add(Dense(units=1,activation=\"linear\"))\n",
        "\n",
        "    adam = Adam(lr=0.001)\n",
        "    model3.compile(loss= 'mean_absolute_error', optimizer= adam, metrics= [\"mean_absolute_error\"])\n",
        "    return model3"
      ]
    },
    {
      "cell_type": "code",
      "execution_count": 62,
      "metadata": {
        "id": "uR5vORElnxfU"
      },
      "outputs": [],
      "source": [
        "model3 = KerasRegressor(build_fn=create_model, batch_size=40,epochs=200,verbose=0)\n",
        "activation_function = ['softmax','tanh','relu']\n",
        "init = ['normal','uniform','zero']\n",
        "param_grid = dict(activation_function= activation_function, init= init)\n",
        "grid3 = GridSearchCV(estimator= model3, param_grid= param_grid, cv= KFold(), verbose=10)\n"
      ]
    },
    {
      "cell_type": "code",
      "execution_count": 63,
      "metadata": {
        "id": "YtfyEEDOn2tH",
        "colab": {
          "base_uri": "https://localhost:8080/"
        },
        "outputId": "a56665d4-6ee5-4135-900b-3e402801bc87"
      },
      "outputs": [
        {
          "output_type": "stream",
          "name": "stdout",
          "text": [
            "Fitting 5 folds for each of 9 candidates, totalling 45 fits\n",
            "[CV 1/5; 1/9] START activation_function=softmax, init=normal....................\n",
            "[CV 1/5; 1/9] END activation_function=softmax, init=normal;, score=-0.571 total time= 1.4min\n",
            "[CV 2/5; 1/9] START activation_function=softmax, init=normal....................\n",
            "[CV 2/5; 1/9] END activation_function=softmax, init=normal;, score=-0.629 total time=  48.7s\n",
            "[CV 3/5; 1/9] START activation_function=softmax, init=normal....................\n",
            "[CV 3/5; 1/9] END activation_function=softmax, init=normal;, score=-0.747 total time= 1.4min\n",
            "[CV 4/5; 1/9] START activation_function=softmax, init=normal....................\n",
            "[CV 4/5; 1/9] END activation_function=softmax, init=normal;, score=-0.708 total time=  51.4s\n",
            "[CV 5/5; 1/9] START activation_function=softmax, init=normal....................\n",
            "[CV 5/5; 1/9] END activation_function=softmax, init=normal;, score=-0.458 total time=  52.1s\n",
            "[CV 1/5; 2/9] START activation_function=softmax, init=uniform...................\n",
            "[CV 1/5; 2/9] END activation_function=softmax, init=uniform;, score=-0.487 total time=  50.0s\n",
            "[CV 2/5; 2/9] START activation_function=softmax, init=uniform...................\n",
            "[CV 2/5; 2/9] END activation_function=softmax, init=uniform;, score=-0.169 total time=  49.5s\n",
            "[CV 3/5; 2/9] START activation_function=softmax, init=uniform...................\n",
            "[CV 3/5; 2/9] END activation_function=softmax, init=uniform;, score=-0.642 total time=  48.2s\n",
            "[CV 4/5; 2/9] START activation_function=softmax, init=uniform...................\n",
            "[CV 4/5; 2/9] END activation_function=softmax, init=uniform;, score=-0.398 total time=  48.7s\n",
            "[CV 5/5; 2/9] START activation_function=softmax, init=uniform...................\n",
            "[CV 5/5; 2/9] END activation_function=softmax, init=uniform;, score=-0.554 total time=  49.3s\n",
            "[CV 1/5; 3/9] START activation_function=softmax, init=zero......................\n",
            "[CV 1/5; 3/9] END activation_function=softmax, init=zero;, score=-0.168 total time=  47.8s\n",
            "[CV 2/5; 3/9] START activation_function=softmax, init=zero......................\n",
            "[CV 2/5; 3/9] END activation_function=softmax, init=zero;, score=-0.330 total time= 1.4min\n",
            "[CV 3/5; 3/9] START activation_function=softmax, init=zero......................\n",
            "[CV 3/5; 3/9] END activation_function=softmax, init=zero;, score=-0.689 total time=  48.5s\n",
            "[CV 4/5; 3/9] START activation_function=softmax, init=zero......................\n",
            "[CV 4/5; 3/9] END activation_function=softmax, init=zero;, score=-0.206 total time=  47.5s\n",
            "[CV 5/5; 3/9] START activation_function=softmax, init=zero......................\n",
            "[CV 5/5; 3/9] END activation_function=softmax, init=zero;, score=-0.625 total time= 1.4min\n",
            "[CV 1/5; 4/9] START activation_function=tanh, init=normal.......................\n",
            "[CV 1/5; 4/9] END activation_function=tanh, init=normal;, score=-0.326 total time=  50.0s\n",
            "[CV 2/5; 4/9] START activation_function=tanh, init=normal.......................\n",
            "[CV 2/5; 4/9] END activation_function=tanh, init=normal;, score=-0.161 total time=  48.9s\n",
            "[CV 3/5; 4/9] START activation_function=tanh, init=normal.......................\n",
            "[CV 3/5; 4/9] END activation_function=tanh, init=normal;, score=-0.562 total time= 1.4min\n",
            "[CV 4/5; 4/9] START activation_function=tanh, init=normal.......................\n",
            "[CV 4/5; 4/9] END activation_function=tanh, init=normal;, score=-0.695 total time=  48.1s\n",
            "[CV 5/5; 4/9] START activation_function=tanh, init=normal.......................\n",
            "[CV 5/5; 4/9] END activation_function=tanh, init=normal;, score=-0.604 total time=  49.1s\n",
            "[CV 1/5; 5/9] START activation_function=tanh, init=uniform......................\n",
            "[CV 1/5; 5/9] END activation_function=tanh, init=uniform;, score=-0.219 total time= 1.4min\n",
            "[CV 2/5; 5/9] START activation_function=tanh, init=uniform......................\n",
            "[CV 2/5; 5/9] END activation_function=tanh, init=uniform;, score=-0.177 total time=  47.9s\n",
            "[CV 3/5; 5/9] START activation_function=tanh, init=uniform......................\n",
            "[CV 3/5; 5/9] END activation_function=tanh, init=uniform;, score=-0.663 total time=  49.1s\n",
            "[CV 4/5; 5/9] START activation_function=tanh, init=uniform......................\n",
            "[CV 4/5; 5/9] END activation_function=tanh, init=uniform;, score=-0.581 total time=  48.7s\n",
            "[CV 5/5; 5/9] START activation_function=tanh, init=uniform......................\n",
            "[CV 5/5; 5/9] END activation_function=tanh, init=uniform;, score=-0.545 total time=  48.5s\n",
            "[CV 1/5; 6/9] START activation_function=tanh, init=zero.........................\n",
            "[CV 1/5; 6/9] END activation_function=tanh, init=zero;, score=-0.681 total time= 1.4min\n",
            "[CV 2/5; 6/9] START activation_function=tanh, init=zero.........................\n",
            "[CV 2/5; 6/9] END activation_function=tanh, init=zero;, score=-0.455 total time= 1.4min\n",
            "[CV 3/5; 6/9] START activation_function=tanh, init=zero.........................\n",
            "[CV 3/5; 6/9] END activation_function=tanh, init=zero;, score=-0.565 total time=  50.6s\n",
            "[CV 4/5; 6/9] START activation_function=tanh, init=zero.........................\n",
            "[CV 4/5; 6/9] END activation_function=tanh, init=zero;, score=-0.503 total time= 1.4min\n",
            "[CV 5/5; 6/9] START activation_function=tanh, init=zero.........................\n",
            "[CV 5/5; 6/9] END activation_function=tanh, init=zero;, score=-0.403 total time=  50.7s\n",
            "[CV 1/5; 7/9] START activation_function=relu, init=normal.......................\n",
            "[CV 1/5; 7/9] END activation_function=relu, init=normal;, score=-0.611 total time=  48.7s\n",
            "[CV 2/5; 7/9] START activation_function=relu, init=normal.......................\n",
            "[CV 2/5; 7/9] END activation_function=relu, init=normal;, score=-0.253 total time= 1.4min\n",
            "[CV 3/5; 7/9] START activation_function=relu, init=normal.......................\n",
            "[CV 3/5; 7/9] END activation_function=relu, init=normal;, score=-0.576 total time= 1.4min\n",
            "[CV 4/5; 7/9] START activation_function=relu, init=normal.......................\n",
            "[CV 4/5; 7/9] END activation_function=relu, init=normal;, score=-0.545 total time=  50.1s\n",
            "[CV 5/5; 7/9] START activation_function=relu, init=normal.......................\n",
            "[CV 5/5; 7/9] END activation_function=relu, init=normal;, score=-0.480 total time=  50.5s\n",
            "[CV 1/5; 8/9] START activation_function=relu, init=uniform......................\n",
            "[CV 1/5; 8/9] END activation_function=relu, init=uniform;, score=-0.185 total time=  50.7s\n",
            "[CV 2/5; 8/9] START activation_function=relu, init=uniform......................\n",
            "[CV 2/5; 8/9] END activation_function=relu, init=uniform;, score=-0.369 total time= 1.4min\n",
            "[CV 3/5; 8/9] START activation_function=relu, init=uniform......................\n",
            "[CV 3/5; 8/9] END activation_function=relu, init=uniform;, score=-0.270 total time=  50.4s\n",
            "[CV 4/5; 8/9] START activation_function=relu, init=uniform......................\n",
            "[CV 4/5; 8/9] END activation_function=relu, init=uniform;, score=-0.336 total time=  52.5s\n",
            "[CV 5/5; 8/9] START activation_function=relu, init=uniform......................\n",
            "[CV 5/5; 8/9] END activation_function=relu, init=uniform;, score=-0.527 total time=  51.2s\n",
            "[CV 1/5; 9/9] START activation_function=relu, init=zero.........................\n",
            "[CV 1/5; 9/9] END activation_function=relu, init=zero;, score=-0.244 total time= 1.4min\n",
            "[CV 2/5; 9/9] START activation_function=relu, init=zero.........................\n",
            "[CV 2/5; 9/9] END activation_function=relu, init=zero;, score=-0.688 total time=  50.3s\n",
            "[CV 3/5; 9/9] START activation_function=relu, init=zero.........................\n",
            "[CV 3/5; 9/9] END activation_function=relu, init=zero;, score=-0.582 total time=  49.9s\n",
            "[CV 4/5; 9/9] START activation_function=relu, init=zero.........................\n",
            "[CV 4/5; 9/9] END activation_function=relu, init=zero;, score=-0.579 total time= 1.4min\n",
            "[CV 5/5; 9/9] START activation_function=relu, init=zero.........................\n",
            "[CV 5/5; 9/9] END activation_function=relu, init=zero;, score=-0.609 total time=  49.8s\n"
          ]
        }
      ],
      "source": [
        "grid_result3 = grid3.fit(x_test,y_test)"
      ]
    },
    {
      "cell_type": "code",
      "execution_count": 64,
      "metadata": {
        "id": "CnPhk6zwn3Gn",
        "colab": {
          "base_uri": "https://localhost:8080/"
        },
        "outputId": "3df31191-b2e5-46b6-c630-5911f90e3d10"
      },
      "outputs": [
        {
          "output_type": "stream",
          "name": "stdout",
          "text": [
            "Best -0.3373645544052124, using {'activation_function': 'relu', 'init': 'uniform'}\n",
            "-0.6225000977516174, 0.10278820561167182 with {'activation_function': 'softmax', 'init': 'normal'}\n",
            "-0.4502141237258911, 0.16167444704422773 with {'activation_function': 'softmax', 'init': 'uniform'}\n",
            "-0.4036034524440765, 0.21463022093569392 with {'activation_function': 'softmax', 'init': 'zero'}\n",
            "-0.4695939630270004, 0.19674050266716733 with {'activation_function': 'tanh', 'init': 'normal'}\n",
            "-0.4367082089185715, 0.1992495944097511 with {'activation_function': 'tanh', 'init': 'uniform'}\n",
            "-0.5215560495853424, 0.09606755076170292 with {'activation_function': 'tanh', 'init': 'zero'}\n",
            "-0.4929630696773529, 0.12776215316027095 with {'activation_function': 'relu', 'init': 'normal'}\n",
            "-0.3373645544052124, 0.11388986006993151 with {'activation_function': 'relu', 'init': 'uniform'}\n",
            "-0.5404979676008225, 0.15320566450660209 with {'activation_function': 'relu', 'init': 'zero'}\n"
          ]
        }
      ],
      "source": [
        "print('Best {}, using {}'.format(grid_result3.best_score_, grid_result3.best_params_))\n",
        "means = grid_result3.cv_results_[\"mean_test_score\"]\n",
        "stds  = grid_result3.cv_results_[\"std_test_score\"]\n",
        "params = grid_result3.cv_results_[\"params\"]\n",
        "for mean,stdev,param in zip(means, stds, params):\n",
        "    print(\"{}, {} with {}\".format(mean, stdev, param))"
      ]
    },
    {
      "cell_type": "markdown",
      "metadata": {
        "id": "2F9WMsb8n77s"
      },
      "source": [
        "Model Building Neural Networks\n",
        "\n",
        "Standardizing only predictor variable - after train test split"
      ]
    },
    {
      "cell_type": "code",
      "execution_count": 65,
      "metadata": {
        "id": "0l78_MmKn5yh",
        "colab": {
          "base_uri": "https://localhost:8080/",
          "height": 423
        },
        "outputId": "50f34c5f-43e0-4217-f1b1-2d10fd654ad7"
      },
      "outputs": [
        {
          "output_type": "execute_result",
          "data": {
            "text/plain": [
              "          CDP    GTEP     TIT     TAT    AFDP      CO      AT     TEY\n",
              "0      10.605  19.663  1059.2  550.00  3.5000  3.1547  6.8594  114.70\n",
              "1      10.598  19.728  1059.3  550.00  3.4998  3.2363  6.7850  114.72\n",
              "2      10.601  19.779  1059.4  549.87  3.4824  3.2012  6.8977  114.71\n",
              "3      10.606  19.792  1059.6  549.99  3.4805  3.1923  7.0569  114.72\n",
              "4      10.612  19.765  1059.7  549.98  3.4976  3.2484  7.3978  114.72\n",
              "...       ...     ...     ...     ...     ...     ...     ...     ...\n",
              "15034  10.400  19.164  1049.7  546.21  3.5421  4.5186  9.0301  111.61\n",
              "15035  10.433  19.414  1046.3  543.22  3.5059  4.8470  7.8879  111.78\n",
              "15036  10.483  19.530  1037.7  537.32  3.4770  7.9632  7.2647  110.19\n",
              "15037  10.533  19.377  1043.2  541.24  3.4486  6.2494  7.0060  110.74\n",
              "15038  10.583  19.306  1049.9  545.85  3.4275  4.9816  6.9279  111.58\n",
              "\n",
              "[15039 rows x 8 columns]"
            ],
            "text/html": [
              "\n",
              "\n",
              "  <div id=\"df-1017e031-6fc4-4900-9bf4-a0a3791be9d2\">\n",
              "    <div class=\"colab-df-container\">\n",
              "      <div>\n",
              "<style scoped>\n",
              "    .dataframe tbody tr th:only-of-type {\n",
              "        vertical-align: middle;\n",
              "    }\n",
              "\n",
              "    .dataframe tbody tr th {\n",
              "        vertical-align: top;\n",
              "    }\n",
              "\n",
              "    .dataframe thead th {\n",
              "        text-align: right;\n",
              "    }\n",
              "</style>\n",
              "<table border=\"1\" class=\"dataframe\">\n",
              "  <thead>\n",
              "    <tr style=\"text-align: right;\">\n",
              "      <th></th>\n",
              "      <th>CDP</th>\n",
              "      <th>GTEP</th>\n",
              "      <th>TIT</th>\n",
              "      <th>TAT</th>\n",
              "      <th>AFDP</th>\n",
              "      <th>CO</th>\n",
              "      <th>AT</th>\n",
              "      <th>TEY</th>\n",
              "    </tr>\n",
              "  </thead>\n",
              "  <tbody>\n",
              "    <tr>\n",
              "      <th>0</th>\n",
              "      <td>10.605</td>\n",
              "      <td>19.663</td>\n",
              "      <td>1059.2</td>\n",
              "      <td>550.00</td>\n",
              "      <td>3.5000</td>\n",
              "      <td>3.1547</td>\n",
              "      <td>6.8594</td>\n",
              "      <td>114.70</td>\n",
              "    </tr>\n",
              "    <tr>\n",
              "      <th>1</th>\n",
              "      <td>10.598</td>\n",
              "      <td>19.728</td>\n",
              "      <td>1059.3</td>\n",
              "      <td>550.00</td>\n",
              "      <td>3.4998</td>\n",
              "      <td>3.2363</td>\n",
              "      <td>6.7850</td>\n",
              "      <td>114.72</td>\n",
              "    </tr>\n",
              "    <tr>\n",
              "      <th>2</th>\n",
              "      <td>10.601</td>\n",
              "      <td>19.779</td>\n",
              "      <td>1059.4</td>\n",
              "      <td>549.87</td>\n",
              "      <td>3.4824</td>\n",
              "      <td>3.2012</td>\n",
              "      <td>6.8977</td>\n",
              "      <td>114.71</td>\n",
              "    </tr>\n",
              "    <tr>\n",
              "      <th>3</th>\n",
              "      <td>10.606</td>\n",
              "      <td>19.792</td>\n",
              "      <td>1059.6</td>\n",
              "      <td>549.99</td>\n",
              "      <td>3.4805</td>\n",
              "      <td>3.1923</td>\n",
              "      <td>7.0569</td>\n",
              "      <td>114.72</td>\n",
              "    </tr>\n",
              "    <tr>\n",
              "      <th>4</th>\n",
              "      <td>10.612</td>\n",
              "      <td>19.765</td>\n",
              "      <td>1059.7</td>\n",
              "      <td>549.98</td>\n",
              "      <td>3.4976</td>\n",
              "      <td>3.2484</td>\n",
              "      <td>7.3978</td>\n",
              "      <td>114.72</td>\n",
              "    </tr>\n",
              "    <tr>\n",
              "      <th>...</th>\n",
              "      <td>...</td>\n",
              "      <td>...</td>\n",
              "      <td>...</td>\n",
              "      <td>...</td>\n",
              "      <td>...</td>\n",
              "      <td>...</td>\n",
              "      <td>...</td>\n",
              "      <td>...</td>\n",
              "    </tr>\n",
              "    <tr>\n",
              "      <th>15034</th>\n",
              "      <td>10.400</td>\n",
              "      <td>19.164</td>\n",
              "      <td>1049.7</td>\n",
              "      <td>546.21</td>\n",
              "      <td>3.5421</td>\n",
              "      <td>4.5186</td>\n",
              "      <td>9.0301</td>\n",
              "      <td>111.61</td>\n",
              "    </tr>\n",
              "    <tr>\n",
              "      <th>15035</th>\n",
              "      <td>10.433</td>\n",
              "      <td>19.414</td>\n",
              "      <td>1046.3</td>\n",
              "      <td>543.22</td>\n",
              "      <td>3.5059</td>\n",
              "      <td>4.8470</td>\n",
              "      <td>7.8879</td>\n",
              "      <td>111.78</td>\n",
              "    </tr>\n",
              "    <tr>\n",
              "      <th>15036</th>\n",
              "      <td>10.483</td>\n",
              "      <td>19.530</td>\n",
              "      <td>1037.7</td>\n",
              "      <td>537.32</td>\n",
              "      <td>3.4770</td>\n",
              "      <td>7.9632</td>\n",
              "      <td>7.2647</td>\n",
              "      <td>110.19</td>\n",
              "    </tr>\n",
              "    <tr>\n",
              "      <th>15037</th>\n",
              "      <td>10.533</td>\n",
              "      <td>19.377</td>\n",
              "      <td>1043.2</td>\n",
              "      <td>541.24</td>\n",
              "      <td>3.4486</td>\n",
              "      <td>6.2494</td>\n",
              "      <td>7.0060</td>\n",
              "      <td>110.74</td>\n",
              "    </tr>\n",
              "    <tr>\n",
              "      <th>15038</th>\n",
              "      <td>10.583</td>\n",
              "      <td>19.306</td>\n",
              "      <td>1049.9</td>\n",
              "      <td>545.85</td>\n",
              "      <td>3.4275</td>\n",
              "      <td>4.9816</td>\n",
              "      <td>6.9279</td>\n",
              "      <td>111.58</td>\n",
              "    </tr>\n",
              "  </tbody>\n",
              "</table>\n",
              "<p>15039 rows × 8 columns</p>\n",
              "</div>\n",
              "      <button class=\"colab-df-convert\" onclick=\"convertToInteractive('df-1017e031-6fc4-4900-9bf4-a0a3791be9d2')\"\n",
              "              title=\"Convert this dataframe to an interactive table.\"\n",
              "              style=\"display:none;\">\n",
              "\n",
              "  <svg xmlns=\"http://www.w3.org/2000/svg\" height=\"24px\"viewBox=\"0 0 24 24\"\n",
              "       width=\"24px\">\n",
              "    <path d=\"M0 0h24v24H0V0z\" fill=\"none\"/>\n",
              "    <path d=\"M18.56 5.44l.94 2.06.94-2.06 2.06-.94-2.06-.94-.94-2.06-.94 2.06-2.06.94zm-11 1L8.5 8.5l.94-2.06 2.06-.94-2.06-.94L8.5 2.5l-.94 2.06-2.06.94zm10 10l.94 2.06.94-2.06 2.06-.94-2.06-.94-.94-2.06-.94 2.06-2.06.94z\"/><path d=\"M17.41 7.96l-1.37-1.37c-.4-.4-.92-.59-1.43-.59-.52 0-1.04.2-1.43.59L10.3 9.45l-7.72 7.72c-.78.78-.78 2.05 0 2.83L4 21.41c.39.39.9.59 1.41.59.51 0 1.02-.2 1.41-.59l7.78-7.78 2.81-2.81c.8-.78.8-2.07 0-2.86zM5.41 20L4 18.59l7.72-7.72 1.47 1.35L5.41 20z\"/>\n",
              "  </svg>\n",
              "      </button>\n",
              "\n",
              "\n",
              "\n",
              "    <div id=\"df-30ccfacc-021f-4a43-b8f6-1791714de5f6\">\n",
              "      <button class=\"colab-df-quickchart\" onclick=\"quickchart('df-30ccfacc-021f-4a43-b8f6-1791714de5f6')\"\n",
              "              title=\"Suggest charts.\"\n",
              "              style=\"display:none;\">\n",
              "\n",
              "<svg xmlns=\"http://www.w3.org/2000/svg\" height=\"24px\"viewBox=\"0 0 24 24\"\n",
              "     width=\"24px\">\n",
              "    <g>\n",
              "        <path d=\"M19 3H5c-1.1 0-2 .9-2 2v14c0 1.1.9 2 2 2h14c1.1 0 2-.9 2-2V5c0-1.1-.9-2-2-2zM9 17H7v-7h2v7zm4 0h-2V7h2v10zm4 0h-2v-4h2v4z\"/>\n",
              "    </g>\n",
              "</svg>\n",
              "      </button>\n",
              "    </div>\n",
              "\n",
              "<style>\n",
              "  .colab-df-quickchart {\n",
              "    background-color: #E8F0FE;\n",
              "    border: none;\n",
              "    border-radius: 50%;\n",
              "    cursor: pointer;\n",
              "    display: none;\n",
              "    fill: #1967D2;\n",
              "    height: 32px;\n",
              "    padding: 0 0 0 0;\n",
              "    width: 32px;\n",
              "  }\n",
              "\n",
              "  .colab-df-quickchart:hover {\n",
              "    background-color: #E2EBFA;\n",
              "    box-shadow: 0px 1px 2px rgba(60, 64, 67, 0.3), 0px 1px 3px 1px rgba(60, 64, 67, 0.15);\n",
              "    fill: #174EA6;\n",
              "  }\n",
              "\n",
              "  [theme=dark] .colab-df-quickchart {\n",
              "    background-color: #3B4455;\n",
              "    fill: #D2E3FC;\n",
              "  }\n",
              "\n",
              "  [theme=dark] .colab-df-quickchart:hover {\n",
              "    background-color: #434B5C;\n",
              "    box-shadow: 0px 1px 3px 1px rgba(0, 0, 0, 0.15);\n",
              "    filter: drop-shadow(0px 1px 2px rgba(0, 0, 0, 0.3));\n",
              "    fill: #FFFFFF;\n",
              "  }\n",
              "</style>\n",
              "\n",
              "    <script>\n",
              "      async function quickchart(key) {\n",
              "        const containerElement = document.querySelector('#' + key);\n",
              "        const charts = await google.colab.kernel.invokeFunction(\n",
              "            'suggestCharts', [key], {});\n",
              "      }\n",
              "    </script>\n",
              "\n",
              "      <script>\n",
              "\n",
              "function displayQuickchartButton(domScope) {\n",
              "  let quickchartButtonEl =\n",
              "    domScope.querySelector('#df-30ccfacc-021f-4a43-b8f6-1791714de5f6 button.colab-df-quickchart');\n",
              "  quickchartButtonEl.style.display =\n",
              "    google.colab.kernel.accessAllowed ? 'block' : 'none';\n",
              "}\n",
              "\n",
              "        displayQuickchartButton(document);\n",
              "      </script>\n",
              "      <style>\n",
              "    .colab-df-container {\n",
              "      display:flex;\n",
              "      flex-wrap:wrap;\n",
              "      gap: 12px;\n",
              "    }\n",
              "\n",
              "    .colab-df-convert {\n",
              "      background-color: #E8F0FE;\n",
              "      border: none;\n",
              "      border-radius: 50%;\n",
              "      cursor: pointer;\n",
              "      display: none;\n",
              "      fill: #1967D2;\n",
              "      height: 32px;\n",
              "      padding: 0 0 0 0;\n",
              "      width: 32px;\n",
              "    }\n",
              "\n",
              "    .colab-df-convert:hover {\n",
              "      background-color: #E2EBFA;\n",
              "      box-shadow: 0px 1px 2px rgba(60, 64, 67, 0.3), 0px 1px 3px 1px rgba(60, 64, 67, 0.15);\n",
              "      fill: #174EA6;\n",
              "    }\n",
              "\n",
              "    [theme=dark] .colab-df-convert {\n",
              "      background-color: #3B4455;\n",
              "      fill: #D2E3FC;\n",
              "    }\n",
              "\n",
              "    [theme=dark] .colab-df-convert:hover {\n",
              "      background-color: #434B5C;\n",
              "      box-shadow: 0px 1px 3px 1px rgba(0, 0, 0, 0.15);\n",
              "      filter: drop-shadow(0px 1px 2px rgba(0, 0, 0, 0.3));\n",
              "      fill: #FFFFFF;\n",
              "    }\n",
              "  </style>\n",
              "\n",
              "      <script>\n",
              "        const buttonEl =\n",
              "          document.querySelector('#df-1017e031-6fc4-4900-9bf4-a0a3791be9d2 button.colab-df-convert');\n",
              "        buttonEl.style.display =\n",
              "          google.colab.kernel.accessAllowed ? 'block' : 'none';\n",
              "\n",
              "        async function convertToInteractive(key) {\n",
              "          const element = document.querySelector('#df-1017e031-6fc4-4900-9bf4-a0a3791be9d2');\n",
              "          const dataTable =\n",
              "            await google.colab.kernel.invokeFunction('convertToInteractive',\n",
              "                                                     [key], {});\n",
              "          if (!dataTable) return;\n",
              "\n",
              "          const docLinkHtml = 'Like what you see? Visit the ' +\n",
              "            '<a target=\"_blank\" href=https://colab.research.google.com/notebooks/data_table.ipynb>data table notebook</a>'\n",
              "            + ' to learn more about interactive tables.';\n",
              "          element.innerHTML = '';\n",
              "          dataTable['output_type'] = 'display_data';\n",
              "          await google.colab.output.renderOutput(dataTable, element);\n",
              "          const docLink = document.createElement('div');\n",
              "          docLink.innerHTML = docLinkHtml;\n",
              "          element.appendChild(docLink);\n",
              "        }\n",
              "      </script>\n",
              "    </div>\n",
              "  </div>\n"
            ]
          },
          "metadata": {},
          "execution_count": 65
        }
      ],
      "source": [
        "model_data"
      ]
    },
    {
      "cell_type": "markdown",
      "metadata": {
        "id": "rg1A3vNRoApv"
      },
      "source": [
        "Assigning predictor variables to x and response variable to y"
      ]
    },
    {
      "cell_type": "code",
      "execution_count": 66,
      "metadata": {
        "id": "Ys1rmdBtn-3e",
        "colab": {
          "base_uri": "https://localhost:8080/"
        },
        "outputId": "c6989088-1da4-4c91-bd77-7f8f4145b436"
      },
      "outputs": [
        {
          "output_type": "stream",
          "name": "stdout",
          "text": [
            "x_train_scaled : (12031, 7)\n",
            "x_test_scaled  : (3008, 7)\n",
            "y_train        : (12031, 1)\n",
            "y_test         : (3008, 1)\n"
          ]
        }
      ],
      "source": [
        "x = model_data.drop('TEY', axis=1)\n",
        "y = model_data[[\"TEY\"]]\n",
        "\n",
        "x_train, x_test, y_train, y_test = train_test_split(x,y, test_size = 0.20, random_state=42)\n",
        "\n",
        "scaler_train = StandardScaler()\n",
        "scaler_test = StandardScaler()\n",
        "\n",
        "x_train_scaled = scaler_train.fit_transform(x_train) # scaling train data -- predictor\n",
        "x_test_scaled  = scaler_test.fit_transform(x_test)   # scaling test data -- predictor\n",
        "\n",
        "print(\"x_train_scaled :\", x_train_scaled.shape)\n",
        "print(\"x_test_scaled  :\",x_test_scaled.shape)\n",
        "print(\"y_train        :\",y_train.shape)\n",
        "print(\"y_test         :\",y_test.shape)"
      ]
    },
    {
      "cell_type": "markdown",
      "metadata": {
        "id": "9T5jEj5goJ39"
      },
      "source": [
        "Since we have continuous ouput, AF is not required in the o/p layer"
      ]
    },
    {
      "cell_type": "code",
      "execution_count": 67,
      "metadata": {
        "id": "2fqoqJStoDM8",
        "colab": {
          "base_uri": "https://localhost:8080/"
        },
        "outputId": "d605114f-fa4d-4abb-8e3c-2661f1bc4c68"
      },
      "outputs": [
        {
          "output_type": "stream",
          "name": "stdout",
          "text": [
            "Epoch 1/10\n",
            "169/169 [==============================] - 1s 3ms/step - loss: 17661.6680 - mae: 131.9309 - mse: 17661.6680 - val_loss: 16842.4609 - val_mae: 128.8191 - val_mse: 16842.4609\n",
            "Epoch 2/10\n",
            "169/169 [==============================] - 0s 3ms/step - loss: 16349.1387 - mae: 126.8688 - mse: 16349.1387 - val_loss: 15793.7148 - val_mae: 124.6824 - val_mse: 15793.7148\n",
            "Epoch 3/10\n",
            "169/169 [==============================] - 0s 2ms/step - loss: 15375.6035 - mae: 122.9733 - mse: 15375.6035 - val_loss: 14875.7646 - val_mae: 120.9453 - val_mse: 14875.7646\n",
            "Epoch 4/10\n",
            "169/169 [==============================] - 0s 3ms/step - loss: 14491.0225 - mae: 119.3226 - mse: 14491.0225 - val_loss: 14022.8994 - val_mae: 117.3666 - val_mse: 14022.8994\n",
            "Epoch 5/10\n",
            "169/169 [==============================] - 0s 3ms/step - loss: 13661.6289 - mae: 115.7943 - mse: 13661.6289 - val_loss: 13218.3271 - val_mae: 113.8874 - val_mse: 13218.3271\n",
            "Epoch 6/10\n",
            "169/169 [==============================] - 0s 2ms/step - loss: 12875.8125 - mae: 112.3529 - mse: 12875.8125 - val_loss: 12453.1865 - val_mae: 110.4772 - val_mse: 12453.1865\n",
            "Epoch 7/10\n",
            "169/169 [==============================] - 0s 2ms/step - loss: 12128.1455 - mae: 108.9768 - mse: 12128.1455 - val_loss: 11724.4170 - val_mae: 107.1281 - val_mse: 11724.4170\n",
            "Epoch 8/10\n",
            "169/169 [==============================] - 0s 2ms/step - loss: 11415.0801 - mae: 105.6537 - mse: 11415.0801 - val_loss: 11029.0283 - val_mae: 103.8319 - val_mse: 11029.0283\n",
            "Epoch 9/10\n",
            "169/169 [==============================] - 0s 3ms/step - loss: 10734.0762 - mae: 102.3776 - mse: 10734.0762 - val_loss: 10364.8242 - val_mae: 100.5826 - val_mse: 10364.8242\n",
            "Epoch 10/10\n",
            "169/169 [==============================] - 0s 2ms/step - loss: 10083.2676 - mae: 99.1479 - mse: 10083.2686 - val_loss: 9729.5820 - val_mae: 97.3736 - val_mse: 9729.5820\n"
          ]
        }
      ],
      "source": [
        "model = Sequential()\n",
        "model.add( Dense(units= 50, activation= 'relu', kernel_initializer= 'normal', input_dim= 7)) # input layer\n",
        "model.add( Dense(units= 20, activation= 'tanh', kernel_initializer= 'normal')) # hidden layer\n",
        "model.add( Dense(units= 1, kernel_initializer= 'normal' )) # o/p layer\n",
        "\n",
        "model.compile(optimizer= \"adam\", loss= \"mse\", metrics= [\"mae\", \"mse\"])\n",
        "history = model.fit(x_train_scaled, y_train, batch_size= 50, validation_split= 0.3, epochs=10,  verbose=1)"
      ]
    },
    {
      "cell_type": "code",
      "execution_count": 68,
      "metadata": {
        "id": "oNxKWSndoPSu",
        "colab": {
          "base_uri": "https://localhost:8080/"
        },
        "outputId": "1347a0c2-a133-461f-9ab0-cf4507d4a95d"
      },
      "outputs": [
        {
          "output_type": "stream",
          "name": "stdout",
          "text": [
            "94/94 [==============================] - 0s 1ms/step\n",
            "batch_size: 10 - epochs: 10 Accuracy: TEY    98.001119\n",
            "dtype: float64\n",
            "94/94 [==============================] - 0s 1ms/step\n",
            "batch_size: 10 - epochs: 50 Accuracy: TEY    99.629007\n",
            "dtype: float64\n",
            "94/94 [==============================] - 0s 1ms/step\n",
            "batch_size: 10 - epochs: 100 Accuracy: TEY    99.569263\n",
            "dtype: float64\n",
            "94/94 [==============================] - 0s 1ms/step\n",
            "batch_size: 15 - epochs: 10 Accuracy: TEY    89.830886\n",
            "dtype: float64\n",
            "94/94 [==============================] - 0s 1ms/step\n",
            "batch_size: 15 - epochs: 50 Accuracy: TEY    99.607177\n",
            "dtype: float64\n",
            "94/94 [==============================] - 0s 1ms/step\n",
            "batch_size: 15 - epochs: 100 Accuracy: TEY    99.664785\n",
            "dtype: float64\n",
            "94/94 [==============================] - 0s 1ms/step\n",
            "batch_size: 20 - epochs: 10 Accuracy: TEY    80.98163\n",
            "dtype: float64\n",
            "94/94 [==============================] - 0s 1ms/step\n",
            "batch_size: 20 - epochs: 50 Accuracy: TEY    99.659679\n",
            "dtype: float64\n",
            "94/94 [==============================] - 0s 2ms/step\n",
            "batch_size: 20 - epochs: 100 Accuracy: TEY    99.627662\n",
            "dtype: float64\n"
          ]
        }
      ],
      "source": [
        "def toFindBestParams(x_train_scaled, y_train, x_test_scaled, y_test):\n",
        "\n",
        "    # Defining list of hyperparameters\n",
        "    batch_size_list = [10 , 15 , 20 ]\n",
        "    epoch_list      = [10 , 50 , 100]\n",
        "\n",
        "    bestParamTable = pd.DataFrame()\n",
        "\n",
        "    for batch_trial in batch_size_list:\n",
        "        for epochs_trial in epoch_list:\n",
        "\n",
        "            # Create ANN model\n",
        "            model = Sequential()\n",
        "\n",
        "            # Defining the first layer of the model\n",
        "            model.add(Dense(units=50, input_dim=x_train_scaled.shape[1], kernel_initializer='normal', activation='relu'))\n",
        "\n",
        "            # Defining the Second layer of the model\n",
        "            model.add(Dense(units=20, kernel_initializer='normal', activation='tanh'))\n",
        "\n",
        "            # The output neuron is a single fully connected node Since we will be predicting a single number\n",
        "            model.add(Dense(1, kernel_initializer='normal'))\n",
        "\n",
        "            # Compiling the model\n",
        "            model.compile(optimizer ='adam', loss = 'mean_squared_error')\n",
        "\n",
        "            # Fitting the ANN to the Training set\n",
        "            model.fit(x_train_scaled, y_train , batch_size=batch_trial, epochs=epochs_trial,  verbose=0)\n",
        "\n",
        "            MAPE = np.mean(100 * (np.abs(y_test-model.predict(x_test_scaled))/y_test))\n",
        "\n",
        "            bestParamTable=bestParamTable.append(pd.DataFrame(data=[[batch_trial, epochs_trial, 100-MAPE]], columns=['batchsize','epochs','Accuracy'] ))\n",
        "\n",
        "            # Printing the results of the current iteration\n",
        "            print('batch_size:', batch_trial,'-', 'epochs:', epochs_trial, 'Accuracy:', 100-MAPE)\n",
        "\n",
        "    return bestParamTable\n",
        "\n",
        "# Calling the function\n",
        "finalParamTable = toFindBestParams(x_train_scaled, y_train, x_test_scaled, y_test)"
      ]
    },
    {
      "cell_type": "markdown",
      "metadata": {
        "id": "uhyVyqWdoYvh"
      },
      "source": [
        "Training Model - using best params"
      ]
    },
    {
      "cell_type": "code",
      "execution_count": 69,
      "metadata": {
        "id": "oP3ZyypqoVr7",
        "colab": {
          "base_uri": "https://localhost:8080/"
        },
        "outputId": "9d93f2e7-a1e8-4768-e230-1cf758835c07"
      },
      "outputs": [
        {
          "output_type": "execute_result",
          "data": {
            "text/plain": [
              "<keras.callbacks.History at 0x7ebb84435fc0>"
            ]
          },
          "metadata": {},
          "execution_count": 69
        }
      ],
      "source": [
        "model.compile(optimizer ='adam', loss = 'mean_squared_error')\n",
        "model.fit(x_train_scaled,y_train, batch_size= 20, epochs= 10, verbose= 0)"
      ]
    },
    {
      "cell_type": "markdown",
      "metadata": {
        "id": "E82vKC3ioduY"
      },
      "source": [
        "Model Evaluation Train and Test Error\n",
        "\n",
        " Predicting values from Model using same dataset"
      ]
    },
    {
      "cell_type": "code",
      "execution_count": 70,
      "metadata": {
        "id": "K8ZtzASkocFR",
        "colab": {
          "base_uri": "https://localhost:8080/",
          "height": 397
        },
        "outputId": "1934cb3c-5758-4ebd-95f9-438b711086c3"
      },
      "outputs": [
        {
          "output_type": "stream",
          "name": "stdout",
          "text": [
            "94/94 [==============================] - 0s 1ms/step\n",
            "(3008, 9)\n"
          ]
        },
        {
          "output_type": "execute_result",
          "data": {
            "text/plain": [
              "          CDP    GTEP     TIT     TAT    AFDP        CO       AT  Actual  \\\n",
              "13312  12.219  25.762  1092.5  550.25  4.0023   1.26430  24.0930  134.46   \n",
              "12627  10.791  20.085  1059.6  549.94  3.2106   2.69370  20.4500  111.88   \n",
              "6393   12.126  25.221  1089.9  549.62  4.5325   1.96250  20.2620  133.72   \n",
              "4990   12.218  25.965  1092.9  549.96  4.4266   1.57120  26.8620  133.79   \n",
              "12462  10.466  19.688  1056.9  550.01  3.1241   2.29960  19.4090  110.77   \n",
              "7405   10.624  19.387  1058.9  550.17  3.3709   4.27640   2.2158  113.32   \n",
              "10993  12.088  25.392  1089.7  550.11  3.7871   0.83578  23.8520  133.77   \n",
              "9488   11.498  23.225  1079.4  549.60  4.2837   2.01980  12.3950  128.98   \n",
              "14201  13.971  32.518  1100.1  528.98  5.1559   0.87760  12.3590  159.42   \n",
              "9757   13.862  32.105  1100.0  530.69  5.9309  10.75000   8.6376  161.86   \n",
              "\n",
              "        Predicted  \n",
              "13312  127.053169  \n",
              "12627  127.053169  \n",
              "6393   127.053169  \n",
              "4990   127.053169  \n",
              "12462  127.053169  \n",
              "7405   127.053169  \n",
              "10993  127.053169  \n",
              "9488   127.053169  \n",
              "14201  127.053169  \n",
              "9757   127.053169  "
            ],
            "text/html": [
              "\n",
              "\n",
              "  <div id=\"df-204bdf47-bb98-4048-ba1f-5384eb72340c\">\n",
              "    <div class=\"colab-df-container\">\n",
              "      <div>\n",
              "<style scoped>\n",
              "    .dataframe tbody tr th:only-of-type {\n",
              "        vertical-align: middle;\n",
              "    }\n",
              "\n",
              "    .dataframe tbody tr th {\n",
              "        vertical-align: top;\n",
              "    }\n",
              "\n",
              "    .dataframe thead th {\n",
              "        text-align: right;\n",
              "    }\n",
              "</style>\n",
              "<table border=\"1\" class=\"dataframe\">\n",
              "  <thead>\n",
              "    <tr style=\"text-align: right;\">\n",
              "      <th></th>\n",
              "      <th>CDP</th>\n",
              "      <th>GTEP</th>\n",
              "      <th>TIT</th>\n",
              "      <th>TAT</th>\n",
              "      <th>AFDP</th>\n",
              "      <th>CO</th>\n",
              "      <th>AT</th>\n",
              "      <th>Actual</th>\n",
              "      <th>Predicted</th>\n",
              "    </tr>\n",
              "  </thead>\n",
              "  <tbody>\n",
              "    <tr>\n",
              "      <th>13312</th>\n",
              "      <td>12.219</td>\n",
              "      <td>25.762</td>\n",
              "      <td>1092.5</td>\n",
              "      <td>550.25</td>\n",
              "      <td>4.0023</td>\n",
              "      <td>1.26430</td>\n",
              "      <td>24.0930</td>\n",
              "      <td>134.46</td>\n",
              "      <td>127.053169</td>\n",
              "    </tr>\n",
              "    <tr>\n",
              "      <th>12627</th>\n",
              "      <td>10.791</td>\n",
              "      <td>20.085</td>\n",
              "      <td>1059.6</td>\n",
              "      <td>549.94</td>\n",
              "      <td>3.2106</td>\n",
              "      <td>2.69370</td>\n",
              "      <td>20.4500</td>\n",
              "      <td>111.88</td>\n",
              "      <td>127.053169</td>\n",
              "    </tr>\n",
              "    <tr>\n",
              "      <th>6393</th>\n",
              "      <td>12.126</td>\n",
              "      <td>25.221</td>\n",
              "      <td>1089.9</td>\n",
              "      <td>549.62</td>\n",
              "      <td>4.5325</td>\n",
              "      <td>1.96250</td>\n",
              "      <td>20.2620</td>\n",
              "      <td>133.72</td>\n",
              "      <td>127.053169</td>\n",
              "    </tr>\n",
              "    <tr>\n",
              "      <th>4990</th>\n",
              "      <td>12.218</td>\n",
              "      <td>25.965</td>\n",
              "      <td>1092.9</td>\n",
              "      <td>549.96</td>\n",
              "      <td>4.4266</td>\n",
              "      <td>1.57120</td>\n",
              "      <td>26.8620</td>\n",
              "      <td>133.79</td>\n",
              "      <td>127.053169</td>\n",
              "    </tr>\n",
              "    <tr>\n",
              "      <th>12462</th>\n",
              "      <td>10.466</td>\n",
              "      <td>19.688</td>\n",
              "      <td>1056.9</td>\n",
              "      <td>550.01</td>\n",
              "      <td>3.1241</td>\n",
              "      <td>2.29960</td>\n",
              "      <td>19.4090</td>\n",
              "      <td>110.77</td>\n",
              "      <td>127.053169</td>\n",
              "    </tr>\n",
              "    <tr>\n",
              "      <th>7405</th>\n",
              "      <td>10.624</td>\n",
              "      <td>19.387</td>\n",
              "      <td>1058.9</td>\n",
              "      <td>550.17</td>\n",
              "      <td>3.3709</td>\n",
              "      <td>4.27640</td>\n",
              "      <td>2.2158</td>\n",
              "      <td>113.32</td>\n",
              "      <td>127.053169</td>\n",
              "    </tr>\n",
              "    <tr>\n",
              "      <th>10993</th>\n",
              "      <td>12.088</td>\n",
              "      <td>25.392</td>\n",
              "      <td>1089.7</td>\n",
              "      <td>550.11</td>\n",
              "      <td>3.7871</td>\n",
              "      <td>0.83578</td>\n",
              "      <td>23.8520</td>\n",
              "      <td>133.77</td>\n",
              "      <td>127.053169</td>\n",
              "    </tr>\n",
              "    <tr>\n",
              "      <th>9488</th>\n",
              "      <td>11.498</td>\n",
              "      <td>23.225</td>\n",
              "      <td>1079.4</td>\n",
              "      <td>549.60</td>\n",
              "      <td>4.2837</td>\n",
              "      <td>2.01980</td>\n",
              "      <td>12.3950</td>\n",
              "      <td>128.98</td>\n",
              "      <td>127.053169</td>\n",
              "    </tr>\n",
              "    <tr>\n",
              "      <th>14201</th>\n",
              "      <td>13.971</td>\n",
              "      <td>32.518</td>\n",
              "      <td>1100.1</td>\n",
              "      <td>528.98</td>\n",
              "      <td>5.1559</td>\n",
              "      <td>0.87760</td>\n",
              "      <td>12.3590</td>\n",
              "      <td>159.42</td>\n",
              "      <td>127.053169</td>\n",
              "    </tr>\n",
              "    <tr>\n",
              "      <th>9757</th>\n",
              "      <td>13.862</td>\n",
              "      <td>32.105</td>\n",
              "      <td>1100.0</td>\n",
              "      <td>530.69</td>\n",
              "      <td>5.9309</td>\n",
              "      <td>10.75000</td>\n",
              "      <td>8.6376</td>\n",
              "      <td>161.86</td>\n",
              "      <td>127.053169</td>\n",
              "    </tr>\n",
              "  </tbody>\n",
              "</table>\n",
              "</div>\n",
              "      <button class=\"colab-df-convert\" onclick=\"convertToInteractive('df-204bdf47-bb98-4048-ba1f-5384eb72340c')\"\n",
              "              title=\"Convert this dataframe to an interactive table.\"\n",
              "              style=\"display:none;\">\n",
              "\n",
              "  <svg xmlns=\"http://www.w3.org/2000/svg\" height=\"24px\"viewBox=\"0 0 24 24\"\n",
              "       width=\"24px\">\n",
              "    <path d=\"M0 0h24v24H0V0z\" fill=\"none\"/>\n",
              "    <path d=\"M18.56 5.44l.94 2.06.94-2.06 2.06-.94-2.06-.94-.94-2.06-.94 2.06-2.06.94zm-11 1L8.5 8.5l.94-2.06 2.06-.94-2.06-.94L8.5 2.5l-.94 2.06-2.06.94zm10 10l.94 2.06.94-2.06 2.06-.94-2.06-.94-.94-2.06-.94 2.06-2.06.94z\"/><path d=\"M17.41 7.96l-1.37-1.37c-.4-.4-.92-.59-1.43-.59-.52 0-1.04.2-1.43.59L10.3 9.45l-7.72 7.72c-.78.78-.78 2.05 0 2.83L4 21.41c.39.39.9.59 1.41.59.51 0 1.02-.2 1.41-.59l7.78-7.78 2.81-2.81c.8-.78.8-2.07 0-2.86zM5.41 20L4 18.59l7.72-7.72 1.47 1.35L5.41 20z\"/>\n",
              "  </svg>\n",
              "      </button>\n",
              "\n",
              "\n",
              "\n",
              "    <div id=\"df-0822cc72-b553-4a04-b7c1-c23af7264979\">\n",
              "      <button class=\"colab-df-quickchart\" onclick=\"quickchart('df-0822cc72-b553-4a04-b7c1-c23af7264979')\"\n",
              "              title=\"Suggest charts.\"\n",
              "              style=\"display:none;\">\n",
              "\n",
              "<svg xmlns=\"http://www.w3.org/2000/svg\" height=\"24px\"viewBox=\"0 0 24 24\"\n",
              "     width=\"24px\">\n",
              "    <g>\n",
              "        <path d=\"M19 3H5c-1.1 0-2 .9-2 2v14c0 1.1.9 2 2 2h14c1.1 0 2-.9 2-2V5c0-1.1-.9-2-2-2zM9 17H7v-7h2v7zm4 0h-2V7h2v10zm4 0h-2v-4h2v4z\"/>\n",
              "    </g>\n",
              "</svg>\n",
              "      </button>\n",
              "    </div>\n",
              "\n",
              "<style>\n",
              "  .colab-df-quickchart {\n",
              "    background-color: #E8F0FE;\n",
              "    border: none;\n",
              "    border-radius: 50%;\n",
              "    cursor: pointer;\n",
              "    display: none;\n",
              "    fill: #1967D2;\n",
              "    height: 32px;\n",
              "    padding: 0 0 0 0;\n",
              "    width: 32px;\n",
              "  }\n",
              "\n",
              "  .colab-df-quickchart:hover {\n",
              "    background-color: #E2EBFA;\n",
              "    box-shadow: 0px 1px 2px rgba(60, 64, 67, 0.3), 0px 1px 3px 1px rgba(60, 64, 67, 0.15);\n",
              "    fill: #174EA6;\n",
              "  }\n",
              "\n",
              "  [theme=dark] .colab-df-quickchart {\n",
              "    background-color: #3B4455;\n",
              "    fill: #D2E3FC;\n",
              "  }\n",
              "\n",
              "  [theme=dark] .colab-df-quickchart:hover {\n",
              "    background-color: #434B5C;\n",
              "    box-shadow: 0px 1px 3px 1px rgba(0, 0, 0, 0.15);\n",
              "    filter: drop-shadow(0px 1px 2px rgba(0, 0, 0, 0.3));\n",
              "    fill: #FFFFFF;\n",
              "  }\n",
              "</style>\n",
              "\n",
              "    <script>\n",
              "      async function quickchart(key) {\n",
              "        const containerElement = document.querySelector('#' + key);\n",
              "        const charts = await google.colab.kernel.invokeFunction(\n",
              "            'suggestCharts', [key], {});\n",
              "      }\n",
              "    </script>\n",
              "\n",
              "      <script>\n",
              "\n",
              "function displayQuickchartButton(domScope) {\n",
              "  let quickchartButtonEl =\n",
              "    domScope.querySelector('#df-0822cc72-b553-4a04-b7c1-c23af7264979 button.colab-df-quickchart');\n",
              "  quickchartButtonEl.style.display =\n",
              "    google.colab.kernel.accessAllowed ? 'block' : 'none';\n",
              "}\n",
              "\n",
              "        displayQuickchartButton(document);\n",
              "      </script>\n",
              "      <style>\n",
              "    .colab-df-container {\n",
              "      display:flex;\n",
              "      flex-wrap:wrap;\n",
              "      gap: 12px;\n",
              "    }\n",
              "\n",
              "    .colab-df-convert {\n",
              "      background-color: #E8F0FE;\n",
              "      border: none;\n",
              "      border-radius: 50%;\n",
              "      cursor: pointer;\n",
              "      display: none;\n",
              "      fill: #1967D2;\n",
              "      height: 32px;\n",
              "      padding: 0 0 0 0;\n",
              "      width: 32px;\n",
              "    }\n",
              "\n",
              "    .colab-df-convert:hover {\n",
              "      background-color: #E2EBFA;\n",
              "      box-shadow: 0px 1px 2px rgba(60, 64, 67, 0.3), 0px 1px 3px 1px rgba(60, 64, 67, 0.15);\n",
              "      fill: #174EA6;\n",
              "    }\n",
              "\n",
              "    [theme=dark] .colab-df-convert {\n",
              "      background-color: #3B4455;\n",
              "      fill: #D2E3FC;\n",
              "    }\n",
              "\n",
              "    [theme=dark] .colab-df-convert:hover {\n",
              "      background-color: #434B5C;\n",
              "      box-shadow: 0px 1px 3px 1px rgba(0, 0, 0, 0.15);\n",
              "      filter: drop-shadow(0px 1px 2px rgba(0, 0, 0, 0.3));\n",
              "      fill: #FFFFFF;\n",
              "    }\n",
              "  </style>\n",
              "\n",
              "      <script>\n",
              "        const buttonEl =\n",
              "          document.querySelector('#df-204bdf47-bb98-4048-ba1f-5384eb72340c button.colab-df-convert');\n",
              "        buttonEl.style.display =\n",
              "          google.colab.kernel.accessAllowed ? 'block' : 'none';\n",
              "\n",
              "        async function convertToInteractive(key) {\n",
              "          const element = document.querySelector('#df-204bdf47-bb98-4048-ba1f-5384eb72340c');\n",
              "          const dataTable =\n",
              "            await google.colab.kernel.invokeFunction('convertToInteractive',\n",
              "                                                     [key], {});\n",
              "          if (!dataTable) return;\n",
              "\n",
              "          const docLinkHtml = 'Like what you see? Visit the ' +\n",
              "            '<a target=\"_blank\" href=https://colab.research.google.com/notebooks/data_table.ipynb>data table notebook</a>'\n",
              "            + ' to learn more about interactive tables.';\n",
              "          element.innerHTML = '';\n",
              "          dataTable['output_type'] = 'display_data';\n",
              "          await google.colab.output.renderOutput(dataTable, element);\n",
              "          const docLink = document.createElement('div');\n",
              "          docLink.innerHTML = docLinkHtml;\n",
              "          element.appendChild(docLink);\n",
              "        }\n",
              "      </script>\n",
              "    </div>\n",
              "  </div>\n"
            ]
          },
          "metadata": {},
          "execution_count": 70
        }
      ],
      "source": [
        "# generating predictions for test data\n",
        "y_predict_test = model.predict(x_test_scaled)\n",
        "\n",
        "# creating table with test price & predicted price for test\n",
        "predictions_df = pd.DataFrame(x_test)\n",
        "predictions_df['Actual'] = y_test\n",
        "predictions_df['Predicted'] = y_predict_test\n",
        "print(predictions_df.shape)\n",
        "predictions_df.head(10)"
      ]
    },
    {
      "cell_type": "code",
      "execution_count": 71,
      "metadata": {
        "id": "E9dy-zUcohj4"
      },
      "outputs": [],
      "source": [
        "predictions_df.drop(['CDP','GTEP','TIT','TAT','AFDP','CO','AT'], axis= 1 , inplace= True)\n"
      ]
    },
    {
      "cell_type": "markdown",
      "metadata": {
        "id": "5inj1GWlol1S"
      },
      "source": [
        "Calculating Absolute Percent Error and Error"
      ]
    },
    {
      "cell_type": "code",
      "execution_count": 72,
      "metadata": {
        "id": "xyA-Fwnloj-9",
        "colab": {
          "base_uri": "https://localhost:8080/",
          "height": 223
        },
        "outputId": "73ae9105-5c05-4354-91f8-8206c4bc0038"
      },
      "outputs": [
        {
          "output_type": "stream",
          "name": "stdout",
          "text": [
            "The Accuracy for Test Data -- ANN model =  89.67880382151529\n"
          ]
        },
        {
          "output_type": "execute_result",
          "data": {
            "text/plain": [
              "       Actual   Predicted      APE %\n",
              "13312  134.46  127.053169   5.508576\n",
              "12627  111.88  127.053169  13.562003\n",
              "6393   133.72  127.053169   4.985665\n",
              "4990   133.79  127.053169   5.035377\n",
              "12462  110.77  127.053169  14.699981"
            ],
            "text/html": [
              "\n",
              "\n",
              "  <div id=\"df-98cad478-0640-4119-956a-2e2c0a5df02f\">\n",
              "    <div class=\"colab-df-container\">\n",
              "      <div>\n",
              "<style scoped>\n",
              "    .dataframe tbody tr th:only-of-type {\n",
              "        vertical-align: middle;\n",
              "    }\n",
              "\n",
              "    .dataframe tbody tr th {\n",
              "        vertical-align: top;\n",
              "    }\n",
              "\n",
              "    .dataframe thead th {\n",
              "        text-align: right;\n",
              "    }\n",
              "</style>\n",
              "<table border=\"1\" class=\"dataframe\">\n",
              "  <thead>\n",
              "    <tr style=\"text-align: right;\">\n",
              "      <th></th>\n",
              "      <th>Actual</th>\n",
              "      <th>Predicted</th>\n",
              "      <th>APE %</th>\n",
              "    </tr>\n",
              "  </thead>\n",
              "  <tbody>\n",
              "    <tr>\n",
              "      <th>13312</th>\n",
              "      <td>134.46</td>\n",
              "      <td>127.053169</td>\n",
              "      <td>5.508576</td>\n",
              "    </tr>\n",
              "    <tr>\n",
              "      <th>12627</th>\n",
              "      <td>111.88</td>\n",
              "      <td>127.053169</td>\n",
              "      <td>13.562003</td>\n",
              "    </tr>\n",
              "    <tr>\n",
              "      <th>6393</th>\n",
              "      <td>133.72</td>\n",
              "      <td>127.053169</td>\n",
              "      <td>4.985665</td>\n",
              "    </tr>\n",
              "    <tr>\n",
              "      <th>4990</th>\n",
              "      <td>133.79</td>\n",
              "      <td>127.053169</td>\n",
              "      <td>5.035377</td>\n",
              "    </tr>\n",
              "    <tr>\n",
              "      <th>12462</th>\n",
              "      <td>110.77</td>\n",
              "      <td>127.053169</td>\n",
              "      <td>14.699981</td>\n",
              "    </tr>\n",
              "  </tbody>\n",
              "</table>\n",
              "</div>\n",
              "      <button class=\"colab-df-convert\" onclick=\"convertToInteractive('df-98cad478-0640-4119-956a-2e2c0a5df02f')\"\n",
              "              title=\"Convert this dataframe to an interactive table.\"\n",
              "              style=\"display:none;\">\n",
              "\n",
              "  <svg xmlns=\"http://www.w3.org/2000/svg\" height=\"24px\"viewBox=\"0 0 24 24\"\n",
              "       width=\"24px\">\n",
              "    <path d=\"M0 0h24v24H0V0z\" fill=\"none\"/>\n",
              "    <path d=\"M18.56 5.44l.94 2.06.94-2.06 2.06-.94-2.06-.94-.94-2.06-.94 2.06-2.06.94zm-11 1L8.5 8.5l.94-2.06 2.06-.94-2.06-.94L8.5 2.5l-.94 2.06-2.06.94zm10 10l.94 2.06.94-2.06 2.06-.94-2.06-.94-.94-2.06-.94 2.06-2.06.94z\"/><path d=\"M17.41 7.96l-1.37-1.37c-.4-.4-.92-.59-1.43-.59-.52 0-1.04.2-1.43.59L10.3 9.45l-7.72 7.72c-.78.78-.78 2.05 0 2.83L4 21.41c.39.39.9.59 1.41.59.51 0 1.02-.2 1.41-.59l7.78-7.78 2.81-2.81c.8-.78.8-2.07 0-2.86zM5.41 20L4 18.59l7.72-7.72 1.47 1.35L5.41 20z\"/>\n",
              "  </svg>\n",
              "      </button>\n",
              "\n",
              "\n",
              "\n",
              "    <div id=\"df-0db2c6ca-bc51-44c8-b293-e75086fd2f38\">\n",
              "      <button class=\"colab-df-quickchart\" onclick=\"quickchart('df-0db2c6ca-bc51-44c8-b293-e75086fd2f38')\"\n",
              "              title=\"Suggest charts.\"\n",
              "              style=\"display:none;\">\n",
              "\n",
              "<svg xmlns=\"http://www.w3.org/2000/svg\" height=\"24px\"viewBox=\"0 0 24 24\"\n",
              "     width=\"24px\">\n",
              "    <g>\n",
              "        <path d=\"M19 3H5c-1.1 0-2 .9-2 2v14c0 1.1.9 2 2 2h14c1.1 0 2-.9 2-2V5c0-1.1-.9-2-2-2zM9 17H7v-7h2v7zm4 0h-2V7h2v10zm4 0h-2v-4h2v4z\"/>\n",
              "    </g>\n",
              "</svg>\n",
              "      </button>\n",
              "    </div>\n",
              "\n",
              "<style>\n",
              "  .colab-df-quickchart {\n",
              "    background-color: #E8F0FE;\n",
              "    border: none;\n",
              "    border-radius: 50%;\n",
              "    cursor: pointer;\n",
              "    display: none;\n",
              "    fill: #1967D2;\n",
              "    height: 32px;\n",
              "    padding: 0 0 0 0;\n",
              "    width: 32px;\n",
              "  }\n",
              "\n",
              "  .colab-df-quickchart:hover {\n",
              "    background-color: #E2EBFA;\n",
              "    box-shadow: 0px 1px 2px rgba(60, 64, 67, 0.3), 0px 1px 3px 1px rgba(60, 64, 67, 0.15);\n",
              "    fill: #174EA6;\n",
              "  }\n",
              "\n",
              "  [theme=dark] .colab-df-quickchart {\n",
              "    background-color: #3B4455;\n",
              "    fill: #D2E3FC;\n",
              "  }\n",
              "\n",
              "  [theme=dark] .colab-df-quickchart:hover {\n",
              "    background-color: #434B5C;\n",
              "    box-shadow: 0px 1px 3px 1px rgba(0, 0, 0, 0.15);\n",
              "    filter: drop-shadow(0px 1px 2px rgba(0, 0, 0, 0.3));\n",
              "    fill: #FFFFFF;\n",
              "  }\n",
              "</style>\n",
              "\n",
              "    <script>\n",
              "      async function quickchart(key) {\n",
              "        const containerElement = document.querySelector('#' + key);\n",
              "        const charts = await google.colab.kernel.invokeFunction(\n",
              "            'suggestCharts', [key], {});\n",
              "      }\n",
              "    </script>\n",
              "\n",
              "      <script>\n",
              "\n",
              "function displayQuickchartButton(domScope) {\n",
              "  let quickchartButtonEl =\n",
              "    domScope.querySelector('#df-0db2c6ca-bc51-44c8-b293-e75086fd2f38 button.colab-df-quickchart');\n",
              "  quickchartButtonEl.style.display =\n",
              "    google.colab.kernel.accessAllowed ? 'block' : 'none';\n",
              "}\n",
              "\n",
              "        displayQuickchartButton(document);\n",
              "      </script>\n",
              "      <style>\n",
              "    .colab-df-container {\n",
              "      display:flex;\n",
              "      flex-wrap:wrap;\n",
              "      gap: 12px;\n",
              "    }\n",
              "\n",
              "    .colab-df-convert {\n",
              "      background-color: #E8F0FE;\n",
              "      border: none;\n",
              "      border-radius: 50%;\n",
              "      cursor: pointer;\n",
              "      display: none;\n",
              "      fill: #1967D2;\n",
              "      height: 32px;\n",
              "      padding: 0 0 0 0;\n",
              "      width: 32px;\n",
              "    }\n",
              "\n",
              "    .colab-df-convert:hover {\n",
              "      background-color: #E2EBFA;\n",
              "      box-shadow: 0px 1px 2px rgba(60, 64, 67, 0.3), 0px 1px 3px 1px rgba(60, 64, 67, 0.15);\n",
              "      fill: #174EA6;\n",
              "    }\n",
              "\n",
              "    [theme=dark] .colab-df-convert {\n",
              "      background-color: #3B4455;\n",
              "      fill: #D2E3FC;\n",
              "    }\n",
              "\n",
              "    [theme=dark] .colab-df-convert:hover {\n",
              "      background-color: #434B5C;\n",
              "      box-shadow: 0px 1px 3px 1px rgba(0, 0, 0, 0.15);\n",
              "      filter: drop-shadow(0px 1px 2px rgba(0, 0, 0, 0.3));\n",
              "      fill: #FFFFFF;\n",
              "    }\n",
              "  </style>\n",
              "\n",
              "      <script>\n",
              "        const buttonEl =\n",
              "          document.querySelector('#df-98cad478-0640-4119-956a-2e2c0a5df02f button.colab-df-convert');\n",
              "        buttonEl.style.display =\n",
              "          google.colab.kernel.accessAllowed ? 'block' : 'none';\n",
              "\n",
              "        async function convertToInteractive(key) {\n",
              "          const element = document.querySelector('#df-98cad478-0640-4119-956a-2e2c0a5df02f');\n",
              "          const dataTable =\n",
              "            await google.colab.kernel.invokeFunction('convertToInteractive',\n",
              "                                                     [key], {});\n",
              "          if (!dataTable) return;\n",
              "\n",
              "          const docLinkHtml = 'Like what you see? Visit the ' +\n",
              "            '<a target=\"_blank\" href=https://colab.research.google.com/notebooks/data_table.ipynb>data table notebook</a>'\n",
              "            + ' to learn more about interactive tables.';\n",
              "          element.innerHTML = '';\n",
              "          dataTable['output_type'] = 'display_data';\n",
              "          await google.colab.output.renderOutput(dataTable, element);\n",
              "          const docLink = document.createElement('div');\n",
              "          docLink.innerHTML = docLinkHtml;\n",
              "          element.appendChild(docLink);\n",
              "        }\n",
              "      </script>\n",
              "    </div>\n",
              "  </div>\n"
            ]
          },
          "metadata": {},
          "execution_count": 72
        }
      ],
      "source": [
        "# Computing the absolute percent error\n",
        "APE = 100*(abs(predictions_df['Actual']-predictions_df['Predicted'])/predictions_df['Actual'])\n",
        "print('The Accuracy for Test Data -- ANN model = ', 100-np.mean(APE))\n",
        "\n",
        "# adding absolute percent error to table\n",
        "predictions_df['APE %'] = APE\n",
        "predictions_df.head()"
      ]
    },
    {
      "cell_type": "code",
      "execution_count": 73,
      "metadata": {
        "id": "D7ZmcULXooQo",
        "colab": {
          "base_uri": "https://localhost:8080/",
          "height": 423
        },
        "outputId": "f9ab0938-0d24-48b8-c86b-5405ee833567"
      },
      "outputs": [
        {
          "data": {
            "text/html": [
              "\n",
              "\n",
              "  <div id=\"df-c766ccaf-d2ca-49b6-95df-2598ac6f133a\">\n",
              "    <div class=\"colab-df-container\">\n",
              "      <div>\n",
              "<style scoped>\n",
              "    .dataframe tbody tr th:only-of-type {\n",
              "        vertical-align: middle;\n",
              "    }\n",
              "\n",
              "    .dataframe tbody tr th {\n",
              "        vertical-align: top;\n",
              "    }\n",
              "\n",
              "    .dataframe thead th {\n",
              "        text-align: right;\n",
              "    }\n",
              "</style>\n",
              "<table border=\"1\" class=\"dataframe\">\n",
              "  <thead>\n",
              "    <tr style=\"text-align: right;\">\n",
              "      <th></th>\n",
              "      <th>Actual</th>\n",
              "      <th>Predicted</th>\n",
              "      <th>APE %</th>\n",
              "      <th>Error</th>\n",
              "    </tr>\n",
              "  </thead>\n",
              "  <tbody>\n",
              "    <tr>\n",
              "      <th>0</th>\n",
              "      <td>134.46</td>\n",
              "      <td>127.053169</td>\n",
              "      <td>5.508576</td>\n",
              "      <td>0.055086</td>\n",
              "    </tr>\n",
              "    <tr>\n",
              "      <th>1</th>\n",
              "      <td>111.88</td>\n",
              "      <td>127.053169</td>\n",
              "      <td>13.562003</td>\n",
              "      <td>-0.135620</td>\n",
              "    </tr>\n",
              "    <tr>\n",
              "      <th>2</th>\n",
              "      <td>133.72</td>\n",
              "      <td>127.053169</td>\n",
              "      <td>4.985665</td>\n",
              "      <td>0.049857</td>\n",
              "    </tr>\n",
              "    <tr>\n",
              "      <th>3</th>\n",
              "      <td>133.79</td>\n",
              "      <td>127.053169</td>\n",
              "      <td>5.035377</td>\n",
              "      <td>0.050354</td>\n",
              "    </tr>\n",
              "    <tr>\n",
              "      <th>4</th>\n",
              "      <td>110.77</td>\n",
              "      <td>127.053169</td>\n",
              "      <td>14.699981</td>\n",
              "      <td>-0.147000</td>\n",
              "    </tr>\n",
              "    <tr>\n",
              "      <th>...</th>\n",
              "      <td>...</td>\n",
              "      <td>...</td>\n",
              "      <td>...</td>\n",
              "      <td>...</td>\n",
              "    </tr>\n",
              "    <tr>\n",
              "      <th>3003</th>\n",
              "      <td>119.25</td>\n",
              "      <td>127.053169</td>\n",
              "      <td>6.543538</td>\n",
              "      <td>-0.065435</td>\n",
              "    </tr>\n",
              "    <tr>\n",
              "      <th>3004</th>\n",
              "      <td>133.74</td>\n",
              "      <td>127.053169</td>\n",
              "      <td>4.999873</td>\n",
              "      <td>0.049999</td>\n",
              "    </tr>\n",
              "    <tr>\n",
              "      <th>3005</th>\n",
              "      <td>146.31</td>\n",
              "      <td>127.053169</td>\n",
              "      <td>13.161664</td>\n",
              "      <td>0.131617</td>\n",
              "    </tr>\n",
              "    <tr>\n",
              "      <th>3006</th>\n",
              "      <td>150.07</td>\n",
              "      <td>127.053169</td>\n",
              "      <td>15.337396</td>\n",
              "      <td>0.153374</td>\n",
              "    </tr>\n",
              "    <tr>\n",
              "      <th>3007</th>\n",
              "      <td>111.77</td>\n",
              "      <td>127.053169</td>\n",
              "      <td>13.673767</td>\n",
              "      <td>-0.136738</td>\n",
              "    </tr>\n",
              "  </tbody>\n",
              "</table>\n",
              "<p>3008 rows × 4 columns</p>\n",
              "</div>\n",
              "      <button class=\"colab-df-convert\" onclick=\"convertToInteractive('df-c766ccaf-d2ca-49b6-95df-2598ac6f133a')\"\n",
              "              title=\"Convert this dataframe to an interactive table.\"\n",
              "              style=\"display:none;\">\n",
              "\n",
              "  <svg xmlns=\"http://www.w3.org/2000/svg\" height=\"24px\"viewBox=\"0 0 24 24\"\n",
              "       width=\"24px\">\n",
              "    <path d=\"M0 0h24v24H0V0z\" fill=\"none\"/>\n",
              "    <path d=\"M18.56 5.44l.94 2.06.94-2.06 2.06-.94-2.06-.94-.94-2.06-.94 2.06-2.06.94zm-11 1L8.5 8.5l.94-2.06 2.06-.94-2.06-.94L8.5 2.5l-.94 2.06-2.06.94zm10 10l.94 2.06.94-2.06 2.06-.94-2.06-.94-.94-2.06-.94 2.06-2.06.94z\"/><path d=\"M17.41 7.96l-1.37-1.37c-.4-.4-.92-.59-1.43-.59-.52 0-1.04.2-1.43.59L10.3 9.45l-7.72 7.72c-.78.78-.78 2.05 0 2.83L4 21.41c.39.39.9.59 1.41.59.51 0 1.02-.2 1.41-.59l7.78-7.78 2.81-2.81c.8-.78.8-2.07 0-2.86zM5.41 20L4 18.59l7.72-7.72 1.47 1.35L5.41 20z\"/>\n",
              "  </svg>\n",
              "      </button>\n",
              "\n",
              "\n",
              "\n",
              "    <div id=\"df-a76794bd-1606-41a4-9ad5-ac09647c2c37\">\n",
              "      <button class=\"colab-df-quickchart\" onclick=\"quickchart('df-a76794bd-1606-41a4-9ad5-ac09647c2c37')\"\n",
              "              title=\"Suggest charts.\"\n",
              "              style=\"display:none;\">\n",
              "\n",
              "<svg xmlns=\"http://www.w3.org/2000/svg\" height=\"24px\"viewBox=\"0 0 24 24\"\n",
              "     width=\"24px\">\n",
              "    <g>\n",
              "        <path d=\"M19 3H5c-1.1 0-2 .9-2 2v14c0 1.1.9 2 2 2h14c1.1 0 2-.9 2-2V5c0-1.1-.9-2-2-2zM9 17H7v-7h2v7zm4 0h-2V7h2v10zm4 0h-2v-4h2v4z\"/>\n",
              "    </g>\n",
              "</svg>\n",
              "      </button>\n",
              "    </div>\n",
              "\n",
              "<style>\n",
              "  .colab-df-quickchart {\n",
              "    background-color: #E8F0FE;\n",
              "    border: none;\n",
              "    border-radius: 50%;\n",
              "    cursor: pointer;\n",
              "    display: none;\n",
              "    fill: #1967D2;\n",
              "    height: 32px;\n",
              "    padding: 0 0 0 0;\n",
              "    width: 32px;\n",
              "  }\n",
              "\n",
              "  .colab-df-quickchart:hover {\n",
              "    background-color: #E2EBFA;\n",
              "    box-shadow: 0px 1px 2px rgba(60, 64, 67, 0.3), 0px 1px 3px 1px rgba(60, 64, 67, 0.15);\n",
              "    fill: #174EA6;\n",
              "  }\n",
              "\n",
              "  [theme=dark] .colab-df-quickchart {\n",
              "    background-color: #3B4455;\n",
              "    fill: #D2E3FC;\n",
              "  }\n",
              "\n",
              "  [theme=dark] .colab-df-quickchart:hover {\n",
              "    background-color: #434B5C;\n",
              "    box-shadow: 0px 1px 3px 1px rgba(0, 0, 0, 0.15);\n",
              "    filter: drop-shadow(0px 1px 2px rgba(0, 0, 0, 0.3));\n",
              "    fill: #FFFFFF;\n",
              "  }\n",
              "</style>\n",
              "\n",
              "    <script>\n",
              "      async function quickchart(key) {\n",
              "        const containerElement = document.querySelector('#' + key);\n",
              "        const charts = await google.colab.kernel.invokeFunction(\n",
              "            'suggestCharts', [key], {});\n",
              "      }\n",
              "    </script>\n",
              "\n",
              "      <script>\n",
              "\n",
              "function displayQuickchartButton(domScope) {\n",
              "  let quickchartButtonEl =\n",
              "    domScope.querySelector('#df-a76794bd-1606-41a4-9ad5-ac09647c2c37 button.colab-df-quickchart');\n",
              "  quickchartButtonEl.style.display =\n",
              "    google.colab.kernel.accessAllowed ? 'block' : 'none';\n",
              "}\n",
              "\n",
              "        displayQuickchartButton(document);\n",
              "      </script>\n",
              "      <style>\n",
              "    .colab-df-container {\n",
              "      display:flex;\n",
              "      flex-wrap:wrap;\n",
              "      gap: 12px;\n",
              "    }\n",
              "\n",
              "    .colab-df-convert {\n",
              "      background-color: #E8F0FE;\n",
              "      border: none;\n",
              "      border-radius: 50%;\n",
              "      cursor: pointer;\n",
              "      display: none;\n",
              "      fill: #1967D2;\n",
              "      height: 32px;\n",
              "      padding: 0 0 0 0;\n",
              "      width: 32px;\n",
              "    }\n",
              "\n",
              "    .colab-df-convert:hover {\n",
              "      background-color: #E2EBFA;\n",
              "      box-shadow: 0px 1px 2px rgba(60, 64, 67, 0.3), 0px 1px 3px 1px rgba(60, 64, 67, 0.15);\n",
              "      fill: #174EA6;\n",
              "    }\n",
              "\n",
              "    [theme=dark] .colab-df-convert {\n",
              "      background-color: #3B4455;\n",
              "      fill: #D2E3FC;\n",
              "    }\n",
              "\n",
              "    [theme=dark] .colab-df-convert:hover {\n",
              "      background-color: #434B5C;\n",
              "      box-shadow: 0px 1px 3px 1px rgba(0, 0, 0, 0.15);\n",
              "      filter: drop-shadow(0px 1px 2px rgba(0, 0, 0, 0.3));\n",
              "      fill: #FFFFFF;\n",
              "    }\n",
              "  </style>\n",
              "\n",
              "      <script>\n",
              "        const buttonEl =\n",
              "          document.querySelector('#df-c766ccaf-d2ca-49b6-95df-2598ac6f133a button.colab-df-convert');\n",
              "        buttonEl.style.display =\n",
              "          google.colab.kernel.accessAllowed ? 'block' : 'none';\n",
              "\n",
              "        async function convertToInteractive(key) {\n",
              "          const element = document.querySelector('#df-c766ccaf-d2ca-49b6-95df-2598ac6f133a');\n",
              "          const dataTable =\n",
              "            await google.colab.kernel.invokeFunction('convertToInteractive',\n",
              "                                                     [key], {});\n",
              "          if (!dataTable) return;\n",
              "\n",
              "          const docLinkHtml = 'Like what you see? Visit the ' +\n",
              "            '<a target=\"_blank\" href=https://colab.research.google.com/notebooks/data_table.ipynb>data table notebook</a>'\n",
              "            + ' to learn more about interactive tables.';\n",
              "          element.innerHTML = '';\n",
              "          dataTable['output_type'] = 'display_data';\n",
              "          await google.colab.output.renderOutput(dataTable, element);\n",
              "          const docLink = document.createElement('div');\n",
              "          docLink.innerHTML = docLinkHtml;\n",
              "          element.appendChild(docLink);\n",
              "        }\n",
              "      </script>\n",
              "    </div>\n",
              "  </div>\n"
            ],
            "text/plain": [
              "      Actual   Predicted      APE %     Error\n",
              "0     134.46  127.053169   5.508576  0.055086\n",
              "1     111.88  127.053169  13.562003 -0.135620\n",
              "2     133.72  127.053169   4.985665  0.049857\n",
              "3     133.79  127.053169   5.035377  0.050354\n",
              "4     110.77  127.053169  14.699981 -0.147000\n",
              "...      ...         ...        ...       ...\n",
              "3003  119.25  127.053169   6.543538 -0.065435\n",
              "3004  133.74  127.053169   4.999873  0.049999\n",
              "3005  146.31  127.053169  13.161664  0.131617\n",
              "3006  150.07  127.053169  15.337396  0.153374\n",
              "3007  111.77  127.053169  13.673767 -0.136738\n",
              "\n",
              "[3008 rows x 4 columns]"
            ]
          },
          "execution_count": 73,
          "metadata": {},
          "output_type": "execute_result"
        }
      ],
      "source": [
        "predictions_df['Error'] = (predictions_df['Actual'] - predictions_df['Predicted'])/(predictions_df['Actual'])\n",
        "predictions_df.reset_index(drop = True)"
      ]
    },
    {
      "cell_type": "markdown",
      "metadata": {
        "id": "w7bqW4Syosbq"
      },
      "source": [
        "Visualizing the Relationship between the Actual and Predicted ValuesModel Validation"
      ]
    },
    {
      "cell_type": "code",
      "execution_count": 74,
      "metadata": {
        "id": "O1p9a_KooqOx",
        "colab": {
          "base_uri": "https://localhost:8080/",
          "height": 596
        },
        "outputId": "682a3122-7535-4ccf-a442-827cba069deb"
      },
      "outputs": [
        {
          "output_type": "execute_result",
          "data": {
            "text/plain": [
              "<matplotlib.collections.PathCollection at 0x7ebb6e375210>"
            ]
          },
          "metadata": {},
          "execution_count": 74
        },
        {
          "output_type": "display_data",
          "data": {
            "text/plain": [
              "<Figure size 900x600 with 1 Axes>"
            ],
            "image/png": "[encoded data removed]"
          },
          "metadata": {}
        }
      ],
      "source": [
        "plt.figure(figsize=(9,6))\n",
        "plt.xlabel(\"Actual Values\")\n",
        "plt.ylabel(\"Predicted values\")\n",
        "plt.title(\"The Scatterplot of Relationship between Actual Values and Predictions\")\n",
        "plt.scatter(predictions_df['Actual'], predictions_df['Predicted'])"
      ]
    },
    {
      "cell_type": "markdown",
      "metadata": {
        "id": "Xy7-l9BMozEX"
      },
      "source": [
        "We will evaluate our model performance by calculating the residual sum of squares and the explained variance score"
      ]
    },
    {
      "cell_type": "code",
      "execution_count": 75,
      "metadata": {
        "id": "-RmEOUvFoxGK",
        "colab": {
          "base_uri": "https://localhost:8080/"
        },
        "outputId": "835c46e5-1d5b-4486-e874-100b9e614984"
      },
      "outputs": [
        {
          "output_type": "stream",
          "name": "stdout",
          "text": [
            "MAE  : 14.123412479035396\n",
            "MSE  : 298.0108917354069\n",
            "RMSE : 17.26299196939531\n"
          ]
        }
      ],
      "source": [
        "from sklearn import metrics\n",
        "print(\"MAE  :\",metrics.mean_absolute_error(y_test,y_predict_test))\n",
        "print(\"MSE  :\",metrics.mean_squared_error(y_test,y_predict_test))\n",
        "print(\"RMSE :\",np.sqrt(metrics.mean_squared_error(y_test,y_predict_test)))"
      ]
    },
    {
      "cell_type": "code",
      "execution_count": 76,
      "metadata": {
        "id": "oJQfVUGyo1Zq",
        "colab": {
          "base_uri": "https://localhost:8080/"
        },
        "outputId": "f158b3e7-1de6-4e89-ed9c-8f9aef977912"
      },
      "outputs": [
        {
          "output_type": "stream",
          "name": "stdout",
          "text": [
            "94/94 [==============================] - 0s 2ms/step\n",
            "376/376 [==============================] - 1s 2ms/step\n",
            "R2_score (train) :  -0.20652289545544078\n",
            "R2_score (test)  :  -0.19018869251369175\n"
          ]
        }
      ],
      "source": [
        "from sklearn.metrics import mean_squared_error, mean_absolute_error, r2_score\n",
        "y_predict_test = model.predict(x_test_scaled)\n",
        "y_predict_train = model.predict(x_train_scaled)\n",
        "print('R2_score (train) : ',r2_score(y_train, y_predict_train))\n",
        "print('R2_score (test)  : ',r2_score(y_test, y_predict_test))"
      ]
    },
    {
      "cell_type": "markdown",
      "metadata": {
        "id": "SMtVHrG6o5HM"
      },
      "source": [
        "Evaluation of the explained variance score (R^2)"
      ]
    },
    {
      "cell_type": "code",
      "execution_count": 77,
      "metadata": {
        "id": "-pP6k_aUo3bV",
        "colab": {
          "base_uri": "https://localhost:8080/"
        },
        "outputId": "bff15b08-35d3-4d02-d80f-321e0f37dbd8"
      },
      "outputs": [
        {
          "output_type": "stream",
          "name": "stdout",
          "text": [
            "This shows our model predict % -0.0 of the target correctly\n"
          ]
        }
      ],
      "source": [
        "print('This shows our model predict % {} of the target correctly'.format(np.round(metrics.explained_variance_score(y_test,y_predict_test)*100,2)))\n"
      ]
    },
    {
      "cell_type": "markdown",
      "metadata": {
        "id": "UqnzklkXo95o"
      },
      "source": [
        "Residual Analysis\n",
        "\n",
        "Test for Normality of Residuals (Q-Q Plot)"
      ]
    },
    {
      "cell_type": "code",
      "execution_count": 78,
      "metadata": {
        "id": "h1g1yL3Eo7mI",
        "colab": {
          "base_uri": "https://localhost:8080/",
          "height": 539
        },
        "outputId": "dc7c7acc-5393-4d92-97e9-5a621a8ee477"
      },
      "outputs": [
        {
          "output_type": "execute_result",
          "data": {
            "text/plain": [
              "<Axes: ylabel='Density'>"
            ]
          },
          "metadata": {},
          "execution_count": 78
        },
        {
          "output_type": "display_data",
          "data": {
            "text/plain": [
              "<Figure size 900x600 with 1 Axes>"
            ],
            "image/png": "[encoded data removed]"
          },
          "metadata": {}
        }
      ],
      "source": [
        "# Now we will visualize the differences between our predictions and actual y test data\n",
        "plt.figure(figsize=(9,6))\n",
        "sns.distplot(y_test-y_predict_test,bins=50) # this figure also proves that our model fits very good"
      ]
    },
    {
      "cell_type": "markdown",
      "metadata": {
        "id": "7oDr9jESpREP"
      },
      "source": [
        "There is no huge differences between our predictions and actual y data\n"
      ]
    },
    {
      "cell_type": "code",
      "execution_count": 79,
      "metadata": {
        "id": "0C0vB1YEpB4T",
        "colab": {
          "base_uri": "https://localhost:8080/",
          "height": 564
        },
        "outputId": "6187029f-0da9-4184-d4af-f1e61c6de130"
      },
      "outputs": [
        {
          "output_type": "display_data",
          "data": {
            "text/plain": [
              "<Figure size 900x600 with 1 Axes>"
            ],
            "image/png": "[encoded data removed]"
          },
          "metadata": {}
        }
      ],
      "source": [
        "import statsmodels.api as smf\n",
        "plt.rcParams[\"figure.figsize\"] = (9,6)\n",
        "smf.qqplot(predictions_df['Error'], line= 'q')\n",
        "plt.title('Normal Q-Q plot of residuals')\n",
        "plt.show()"
      ]
    },
    {
      "cell_type": "markdown",
      "metadata": {
        "id": "5H2NPwGQpVXC"
      },
      "source": [
        "Observation: Error should have Normal / Gaussian distribution~N(0,1) and independently and identically distributed."
      ]
    },
    {
      "cell_type": "code",
      "execution_count": null,
      "metadata": {
        "id": "VbPgpaAspTin"
      },
      "outputs": [],
      "source": []
    }
  ],
  "metadata": {
    "colab": {
      "provenance": []
    },
    "kernelspec": {
      "display_name": "Python 3",
      "name": "python3"
    },
    "language_info": {
      "name": "python"
    }
  },
  "nbformat": 4,
  "nbformat_minor": 0
}